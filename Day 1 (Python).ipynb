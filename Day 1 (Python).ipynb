{
 "cells": [
  {
   "cell_type": "code",
   "execution_count": 1,
   "id": "0338d777-03ff-43ab-bb33-2ee81165e4a5",
   "metadata": {},
   "outputs": [],
   "source": [
    "a= 10 "
   ]
  },
  {
   "cell_type": "code",
   "execution_count": 2,
   "id": "a2212330-d720-42b7-8452-f25a6fe4bd31",
   "metadata": {},
   "outputs": [
    {
     "data": {
      "text/plain": [
       "30"
      ]
     },
     "execution_count": 2,
     "metadata": {},
     "output_type": "execute_result"
    }
   ],
   "source": [
    "a+20"
   ]
  },
  {
   "cell_type": "code",
   "execution_count": 3,
   "id": "2b89996b-cbd6-435e-99bb-1fec5b1927a8",
   "metadata": {},
   "outputs": [
    {
     "data": {
      "text/plain": [
       "int"
      ]
     },
     "execution_count": 3,
     "metadata": {},
     "output_type": "execute_result"
    }
   ],
   "source": [
    "type(a)"
   ]
  },
  {
   "cell_type": "code",
   "execution_count": 4,
   "id": "2823801f-f3dc-4c3e-a8e6-4d6d4e025d64",
   "metadata": {},
   "outputs": [],
   "source": [
    "s=\"audh\""
   ]
  },
  {
   "cell_type": "code",
   "execution_count": 8,
   "id": "b5003ac5-3d70-476d-a09e-1bf5c5b66789",
   "metadata": {},
   "outputs": [
    {
     "data": {
      "text/plain": [
       "str"
      ]
     },
     "execution_count": 8,
     "metadata": {},
     "output_type": "execute_result"
    }
   ],
   "source": [
    "type(s)"
   ]
  },
  {
   "cell_type": "code",
   "execution_count": 9,
   "id": "f813a08e-1978-49de-81f7-ed08ba20f586",
   "metadata": {},
   "outputs": [],
   "source": [
    "b=56.56"
   ]
  },
  {
   "cell_type": "code",
   "execution_count": 10,
   "id": "ac01e966-3040-421e-af86-c6dbb4ae2672",
   "metadata": {},
   "outputs": [
    {
     "data": {
      "text/plain": [
       "float"
      ]
     },
     "execution_count": 10,
     "metadata": {},
     "output_type": "execute_result"
    }
   ],
   "source": [
    "type(b)"
   ]
  },
  {
   "cell_type": "code",
   "execution_count": 11,
   "id": "e89692c8-4e26-4fff-91bb-ec52a39bdd4c",
   "metadata": {},
   "outputs": [],
   "source": [
    "s1='sudhsfsdf'"
   ]
  },
  {
   "cell_type": "code",
   "execution_count": 12,
   "id": "0e729e2a-a1e6-4a08-9c31-cc6a818300c9",
   "metadata": {},
   "outputs": [
    {
     "data": {
      "text/plain": [
       "str"
      ]
     },
     "execution_count": 12,
     "metadata": {},
     "output_type": "execute_result"
    }
   ],
   "source": [
    "type(s1)"
   ]
  },
  {
   "cell_type": "code",
   "execution_count": 13,
   "id": "80620af4-29d7-4617-8234-02677fc81117",
   "metadata": {},
   "outputs": [],
   "source": [
    "s=\"fdf\""
   ]
  },
  {
   "cell_type": "code",
   "execution_count": 14,
   "id": "e1dc4f0a-8854-4cdd-b698-dcd16a7c411b",
   "metadata": {},
   "outputs": [],
   "source": [
    "S=\"dsdfd\""
   ]
  },
  {
   "cell_type": "code",
   "execution_count": 15,
   "id": "73a82f1b-64f7-4aee-b272-d8f261961b1c",
   "metadata": {},
   "outputs": [
    {
     "data": {
      "text/plain": [
       "'fdf'"
      ]
     },
     "execution_count": 15,
     "metadata": {},
     "output_type": "execute_result"
    }
   ],
   "source": [
    "s"
   ]
  },
  {
   "cell_type": "code",
   "execution_count": 16,
   "id": "a0c5c9f1-a1e7-4cf8-93a8-a8e7c59996ea",
   "metadata": {},
   "outputs": [
    {
     "data": {
      "text/plain": [
       "'fdf'"
      ]
     },
     "execution_count": 16,
     "metadata": {},
     "output_type": "execute_result"
    }
   ],
   "source": [
    "s"
   ]
  },
  {
   "cell_type": "code",
   "execution_count": 17,
   "id": "211f80fc-3e11-43f2-bb48-1e014ee630b9",
   "metadata": {},
   "outputs": [
    {
     "data": {
      "text/plain": [
       "'dsdfd'"
      ]
     },
     "execution_count": 17,
     "metadata": {},
     "output_type": "execute_result"
    }
   ],
   "source": [
    "S"
   ]
  },
  {
   "cell_type": "code",
   "execution_count": 18,
   "id": "b421c295-1fac-453e-9231-b715810aa887",
   "metadata": {},
   "outputs": [
    {
     "ename": "TypeError",
     "evalue": "not all arguments converted during string formatting",
     "output_type": "error",
     "traceback": [
      "\u001b[1;31m---------------------------------------------------------------------------\u001b[0m",
      "\u001b[1;31mTypeError\u001b[0m                                 Traceback (most recent call last)",
      "Cell \u001b[1;32mIn[18], line 1\u001b[0m\n\u001b[1;32m----> 1\u001b[0m s\u001b[38;5;241m%\u001b[39m\u001b[38;5;241m=\u001b[39m\u001b[38;5;124m\"\u001b[39m\u001b[38;5;124mfdddfds\u001b[39m\u001b[38;5;124m\"\u001b[39m\n",
      "\u001b[1;31mTypeError\u001b[0m: not all arguments converted during string formatting"
     ]
    }
   ],
   "source": [
    "s%=\"fdddfds\""
   ]
  },
  {
   "cell_type": "code",
   "execution_count": 19,
   "id": "f0427d47-7f7c-43e5-a1b4-e6d60da26275",
   "metadata": {},
   "outputs": [
    {
     "data": {
      "text/plain": [
       "str"
      ]
     },
     "execution_count": 19,
     "metadata": {},
     "output_type": "execute_result"
    }
   ],
   "source": [
    "type(s)"
   ]
  },
  {
   "cell_type": "code",
   "execution_count": 20,
   "id": "d6585d19-8c7f-44f0-8379-9900e0594971",
   "metadata": {},
   "outputs": [
    {
     "name": "stdout",
     "output_type": "stream",
     "text": [
      "dsdfd\n"
     ]
    }
   ],
   "source": [
    "print(S)"
   ]
  },
  {
   "cell_type": "code",
   "execution_count": 21,
   "id": "3f32836e-e4bf-4406-b9de-111385800161",
   "metadata": {},
   "outputs": [
    {
     "data": {
      "text/plain": [
       "'fdf'"
      ]
     },
     "execution_count": 21,
     "metadata": {},
     "output_type": "execute_result"
    }
   ],
   "source": [
    "s"
   ]
  },
  {
   "cell_type": "code",
   "execution_count": 24,
   "id": "03723864-9fc1-44d0-9e7c-147f77cdafcd",
   "metadata": {},
   "outputs": [],
   "source": [
    "b=True"
   ]
  },
  {
   "cell_type": "code",
   "execution_count": 25,
   "id": "a065a64f-a9b1-411e-a08c-dcb2b32a381d",
   "metadata": {},
   "outputs": [
    {
     "data": {
      "text/plain": [
       "True"
      ]
     },
     "execution_count": 25,
     "metadata": {},
     "output_type": "execute_result"
    }
   ],
   "source": [
    "b"
   ]
  },
  {
   "cell_type": "code",
   "execution_count": 27,
   "id": "6e5bd4b0-f9df-4f8a-9fec-68657fb03915",
   "metadata": {},
   "outputs": [],
   "source": [
    "b1=False"
   ]
  },
  {
   "cell_type": "code",
   "execution_count": 28,
   "id": "65741dac-16a4-4323-bc84-0d1718bded2a",
   "metadata": {},
   "outputs": [
    {
     "data": {
      "text/plain": [
       "True"
      ]
     },
     "execution_count": 28,
     "metadata": {},
     "output_type": "execute_result"
    }
   ],
   "source": [
    "b"
   ]
  },
  {
   "cell_type": "code",
   "execution_count": 29,
   "id": "07b650f9-ecc2-4008-8cda-4c8141584a27",
   "metadata": {},
   "outputs": [
    {
     "data": {
      "text/plain": [
       "False"
      ]
     },
     "execution_count": 29,
     "metadata": {},
     "output_type": "execute_result"
    }
   ],
   "source": [
    "b1"
   ]
  },
  {
   "cell_type": "code",
   "execution_count": 31,
   "id": "af323dbb-cc9d-414e-8509-c1e0dd5ff18b",
   "metadata": {},
   "outputs": [
    {
     "data": {
      "text/plain": [
       "1"
      ]
     },
     "execution_count": 31,
     "metadata": {},
     "output_type": "execute_result"
    }
   ],
   "source": [
    "True+False"
   ]
  },
  {
   "cell_type": "code",
   "execution_count": 32,
   "id": "1b169a48-e599-4966-937f-df66778ae2d2",
   "metadata": {},
   "outputs": [
    {
     "data": {
      "text/plain": [
       "0"
      ]
     },
     "execution_count": 32,
     "metadata": {},
     "output_type": "execute_result"
    }
   ],
   "source": [
    "False-False"
   ]
  },
  {
   "cell_type": "code",
   "execution_count": 33,
   "id": "9403433f-644a-45ac-ab24-1d143a939b4b",
   "metadata": {},
   "outputs": [
    {
     "data": {
      "text/plain": [
       "1"
      ]
     },
     "execution_count": 33,
     "metadata": {},
     "output_type": "execute_result"
    }
   ],
   "source": [
    "True*True"
   ]
  },
  {
   "cell_type": "code",
   "execution_count": 34,
   "id": "5e6e0e4b-9a54-4b07-a20d-610fef421e10",
   "metadata": {},
   "outputs": [],
   "source": [
    "c=7+6j"
   ]
  },
  {
   "cell_type": "code",
   "execution_count": 35,
   "id": "89a2fbf5-10e5-4f69-91fd-931bd1087602",
   "metadata": {},
   "outputs": [
    {
     "data": {
      "text/plain": [
       "complex"
      ]
     },
     "execution_count": 35,
     "metadata": {},
     "output_type": "execute_result"
    }
   ],
   "source": [
    "type(c)"
   ]
  },
  {
   "cell_type": "code",
   "execution_count": 36,
   "id": "569e2d3c-3f68-4a58-ad86-3f3889292978",
   "metadata": {},
   "outputs": [
    {
     "data": {
      "text/plain": [
       "7.0"
      ]
     },
     "execution_count": 36,
     "metadata": {},
     "output_type": "execute_result"
    }
   ],
   "source": [
    "c.real"
   ]
  },
  {
   "cell_type": "code",
   "execution_count": 37,
   "id": "4764919b-547c-4e93-bff3-012d2e460267",
   "metadata": {},
   "outputs": [
    {
     "data": {
      "text/plain": [
       "6.0"
      ]
     },
     "execution_count": 37,
     "metadata": {},
     "output_type": "execute_result"
    }
   ],
   "source": [
    "c.imag"
   ]
  },
  {
   "cell_type": "code",
   "execution_count": 38,
   "id": "382bb94e-c726-4425-8c12-d13e70daa7da",
   "metadata": {},
   "outputs": [],
   "source": [
    "s=\"audh\""
   ]
  },
  {
   "cell_type": "code",
   "execution_count": 39,
   "id": "7e4bddab-2743-40f5-8e30-c6ca3efffbf7",
   "metadata": {},
   "outputs": [
    {
     "data": {
      "text/plain": [
       "'audh'"
      ]
     },
     "execution_count": 39,
     "metadata": {},
     "output_type": "execute_result"
    }
   ],
   "source": [
    "s"
   ]
  },
  {
   "cell_type": "code",
   "execution_count": 40,
   "id": "99d7408c-18a3-4485-a7a2-ead0eca44d50",
   "metadata": {},
   "outputs": [
    {
     "ename": "TypeError",
     "evalue": "can only concatenate str (not \"int\") to str",
     "output_type": "error",
     "traceback": [
      "\u001b[1;31m---------------------------------------------------------------------------\u001b[0m",
      "\u001b[1;31mTypeError\u001b[0m                                 Traceback (most recent call last)",
      "Cell \u001b[1;32mIn[40], line 1\u001b[0m\n\u001b[1;32m----> 1\u001b[0m s\u001b[38;5;241m+\u001b[39m\u001b[38;5;241m3\u001b[39m\n",
      "\u001b[1;31mTypeError\u001b[0m: can only concatenate str (not \"int\") to str"
     ]
    }
   ],
   "source": [
    "s+3"
   ]
  },
  {
   "cell_type": "code",
   "execution_count": 41,
   "id": "12087cf0-dcdd-4e2a-b17f-47f573e48ca5",
   "metadata": {},
   "outputs": [
    {
     "data": {
      "text/plain": [
       "'audh3'"
      ]
     },
     "execution_count": 41,
     "metadata": {},
     "output_type": "execute_result"
    }
   ],
   "source": [
    "s+\"3\""
   ]
  },
  {
   "cell_type": "code",
   "execution_count": 42,
   "id": "9f939b0c-ff76-48ec-a356-fcc12afe3120",
   "metadata": {},
   "outputs": [
    {
     "data": {
      "text/plain": [
       "'audh3'"
      ]
     },
     "execution_count": 42,
     "metadata": {},
     "output_type": "execute_result"
    }
   ],
   "source": [
    "s+str(3)"
   ]
  },
  {
   "cell_type": "code",
   "execution_count": 43,
   "id": "7879d693-7985-48cd-9ec7-552a60fe691e",
   "metadata": {},
   "outputs": [],
   "source": [
    "student=\"neuron\""
   ]
  },
  {
   "cell_type": "code",
   "execution_count": 44,
   "id": "4d3936a0-a0f8-4fce-b730-a364a95d5f0c",
   "metadata": {},
   "outputs": [
    {
     "name": "stdout",
     "output_type": "stream",
     "text": [
      "neuron\n"
     ]
    }
   ],
   "source": [
    "print(student)"
   ]
  },
  {
   "cell_type": "code",
   "execution_count": 45,
   "id": "b889203a-69d4-4171-b343-1dbe30e29500",
   "metadata": {},
   "outputs": [],
   "source": [
    "s=\"ineorno\""
   ]
  },
  {
   "cell_type": "code",
   "execution_count": 46,
   "id": "0e0ca574-fce9-4a13-ab04-d521bcd58925",
   "metadata": {},
   "outputs": [
    {
     "data": {
      "text/plain": [
       "str"
      ]
     },
     "execution_count": 46,
     "metadata": {},
     "output_type": "execute_result"
    }
   ],
   "source": [
    "type(s)"
   ]
  },
  {
   "cell_type": "code",
   "execution_count": 47,
   "id": "ac365385-2955-4208-815a-4109eecdd89a",
   "metadata": {},
   "outputs": [
    {
     "data": {
      "text/plain": [
       "'i'"
      ]
     },
     "execution_count": 47,
     "metadata": {},
     "output_type": "execute_result"
    }
   ],
   "source": [
    "s[0]"
   ]
  },
  {
   "cell_type": "code",
   "execution_count": 50,
   "id": "2ab1e68c-73e3-4769-96d7-cb8a3307e27f",
   "metadata": {},
   "outputs": [
    {
     "data": {
      "text/plain": [
       "'n'"
      ]
     },
     "execution_count": 50,
     "metadata": {},
     "output_type": "execute_result"
    }
   ],
   "source": [
    "s[5]"
   ]
  },
  {
   "cell_type": "code",
   "execution_count": 52,
   "id": "306906b2-c814-4b40-8096-b8d2a0b530f1",
   "metadata": {},
   "outputs": [
    {
     "data": {
      "text/plain": [
       "'o'"
      ]
     },
     "execution_count": 52,
     "metadata": {},
     "output_type": "execute_result"
    }
   ],
   "source": [
    "s[-1]"
   ]
  },
  {
   "cell_type": "code",
   "execution_count": 53,
   "id": "362a5370-bdf3-40f7-9696-cc6a67a52962",
   "metadata": {},
   "outputs": [],
   "source": [
    "s1=\"audh\""
   ]
  },
  {
   "cell_type": "code",
   "execution_count": 54,
   "id": "cf793f80-dd9f-4a9b-a625-ff4118e2fad2",
   "metadata": {},
   "outputs": [
    {
     "data": {
      "text/plain": [
       "'a'"
      ]
     },
     "execution_count": 54,
     "metadata": {},
     "output_type": "execute_result"
    }
   ],
   "source": [
    "s1[0]"
   ]
  },
  {
   "cell_type": "code",
   "execution_count": 55,
   "id": "cba41253-13e5-42db-8b60-8abca60ff03d",
   "metadata": {},
   "outputs": [
    {
     "data": {
      "text/plain": [
       "'h'"
      ]
     },
     "execution_count": 55,
     "metadata": {},
     "output_type": "execute_result"
    }
   ],
   "source": [
    "s1[-1]"
   ]
  },
  {
   "cell_type": "code",
   "execution_count": 56,
   "id": "e79b6390-a4d1-48d9-a646-ee1580e7ea07",
   "metadata": {},
   "outputs": [
    {
     "data": {
      "text/plain": [
       "'d'"
      ]
     },
     "execution_count": 56,
     "metadata": {},
     "output_type": "execute_result"
    }
   ],
   "source": [
    "s1[-2]"
   ]
  },
  {
   "cell_type": "code",
   "execution_count": 70,
   "id": "cae07680-331a-41d6-bd42-370ba886c648",
   "metadata": {},
   "outputs": [],
   "source": [
    "s2=\"this is my very first program class's\""
   ]
  },
  {
   "cell_type": "code",
   "execution_count": 71,
   "id": "798fea5b-87d8-480e-82b2-bfa408118266",
   "metadata": {},
   "outputs": [
    {
     "data": {
      "text/plain": [
       "\"this is my very first program class's\""
      ]
     },
     "execution_count": 71,
     "metadata": {},
     "output_type": "execute_result"
    }
   ],
   "source": [
    "s2"
   ]
  },
  {
   "cell_type": "code",
   "execution_count": 73,
   "id": "9bf292f4-0178-46c8-abc3-b1ddc571b186",
   "metadata": {},
   "outputs": [
    {
     "data": {
      "text/plain": [
       "'m'"
      ]
     },
     "execution_count": 73,
     "metadata": {},
     "output_type": "execute_result"
    }
   ],
   "source": [
    "s2[8]"
   ]
  },
  {
   "cell_type": "code",
   "execution_count": 74,
   "id": "f1bb685b-1a8a-49b1-bcab-f448fe22eee1",
   "metadata": {},
   "outputs": [
    {
     "data": {
      "text/plain": [
       "\"this is my very first program class's\""
      ]
     },
     "execution_count": 74,
     "metadata": {},
     "output_type": "execute_result"
    }
   ],
   "source": [
    "s2"
   ]
  },
  {
   "cell_type": "code",
   "execution_count": 77,
   "id": "0a69cdf6-39fa-4d3b-8ee3-874ed40505bc",
   "metadata": {},
   "outputs": [
    {
     "data": {
      "text/plain": [
       "'his '"
      ]
     },
     "execution_count": 77,
     "metadata": {},
     "output_type": "execute_result"
    }
   ],
   "source": [
    "s2[1:5]"
   ]
  },
  {
   "cell_type": "code",
   "execution_count": 78,
   "id": "c2e895b9-450e-413a-90e6-8c63664b6a7f",
   "metadata": {},
   "outputs": [
    {
     "data": {
      "text/plain": [
       "'s my very first program '"
      ]
     },
     "execution_count": 78,
     "metadata": {},
     "output_type": "execute_result"
    }
   ],
   "source": [
    "s2[6:30]"
   ]
  },
  {
   "cell_type": "code",
   "execution_count": 79,
   "id": "f71b73f9-ba3d-433c-87c5-a1cbc3fb3b22",
   "metadata": {},
   "outputs": [
    {
     "data": {
      "text/plain": [
       "'sm eyfrtporm'"
      ]
     },
     "execution_count": 79,
     "metadata": {},
     "output_type": "execute_result"
    }
   ],
   "source": [
    "s2[6:30:2]"
   ]
  },
  {
   "cell_type": "code",
   "execution_count": 81,
   "id": "5fdbb164-78f1-47c4-9d87-32a62ae955b8",
   "metadata": {},
   "outputs": [],
   "source": [
    "s=\"python\""
   ]
  },
  {
   "cell_type": "code",
   "execution_count": 82,
   "id": "7e444393-172f-4b1e-b555-57125791cb9d",
   "metadata": {},
   "outputs": [
    {
     "data": {
      "text/plain": [
       "'python'"
      ]
     },
     "execution_count": 82,
     "metadata": {},
     "output_type": "execute_result"
    }
   ],
   "source": [
    "s[0:9:1]"
   ]
  },
  {
   "cell_type": "code",
   "execution_count": 83,
   "id": "367e2946-dbe2-4e55-a40d-00adfa96cf03",
   "metadata": {},
   "outputs": [
    {
     "data": {
      "text/plain": [
       "'python'"
      ]
     },
     "execution_count": 83,
     "metadata": {},
     "output_type": "execute_result"
    }
   ],
   "source": [
    "s"
   ]
  },
  {
   "cell_type": "code",
   "execution_count": 84,
   "id": "a03079e1-14d1-467e-a800-faeb5531325a",
   "metadata": {},
   "outputs": [
    {
     "data": {
      "text/plain": [
       "''"
      ]
     },
     "execution_count": 84,
     "metadata": {},
     "output_type": "execute_result"
    }
   ],
   "source": [
    "s[0:8:-1]"
   ]
  },
  {
   "cell_type": "code",
   "execution_count": 85,
   "id": "e8e34abc-bd4c-41c7-9fbf-5705087412c6",
   "metadata": {},
   "outputs": [
    {
     "data": {
      "text/plain": [
       "'nohty'"
      ]
     },
     "execution_count": 85,
     "metadata": {},
     "output_type": "execute_result"
    }
   ],
   "source": [
    "s[8:0:-1]"
   ]
  },
  {
   "cell_type": "code",
   "execution_count": 86,
   "id": "e2b3abb7-c3ab-4cf4-8689-2dcdd7f02e4a",
   "metadata": {},
   "outputs": [
    {
     "data": {
      "text/plain": [
       "'nhy'"
      ]
     },
     "execution_count": 86,
     "metadata": {},
     "output_type": "execute_result"
    }
   ],
   "source": [
    "s[8:0:-2]"
   ]
  },
  {
   "cell_type": "code",
   "execution_count": 87,
   "id": "3ee4b838-f17b-40de-8e42-67bb55792406",
   "metadata": {},
   "outputs": [
    {
     "data": {
      "text/plain": [
       "'python'"
      ]
     },
     "execution_count": 87,
     "metadata": {},
     "output_type": "execute_result"
    }
   ],
   "source": [
    "s"
   ]
  },
  {
   "cell_type": "code",
   "execution_count": 89,
   "id": "9752054f-2e34-4ec2-859e-3c3f4e89c6b9",
   "metadata": {},
   "outputs": [
    {
     "data": {
      "text/plain": [
       "'pyt'"
      ]
     },
     "execution_count": 89,
     "metadata": {},
     "output_type": "execute_result"
    }
   ],
   "source": [
    "s[:-3]"
   ]
  },
  {
   "cell_type": "code",
   "execution_count": 90,
   "id": "9e5f0398-d901-4064-b26c-8e2206fbfc09",
   "metadata": {},
   "outputs": [
    {
     "data": {
      "text/plain": [
       "'on'"
      ]
     },
     "execution_count": 90,
     "metadata": {},
     "output_type": "execute_result"
    }
   ],
   "source": [
    "s[-2:]"
   ]
  },
  {
   "cell_type": "code",
   "execution_count": 91,
   "id": "6e25565b-3e7d-45b4-9389-2efb83b8df08",
   "metadata": {},
   "outputs": [
    {
     "data": {
      "text/plain": [
       "'python'"
      ]
     },
     "execution_count": 91,
     "metadata": {},
     "output_type": "execute_result"
    }
   ],
   "source": [
    "s[::1]"
   ]
  },
  {
   "cell_type": "code",
   "execution_count": 92,
   "id": "f11d87ae-bdb1-4f38-af04-eefec4190d00",
   "metadata": {},
   "outputs": [
    {
     "data": {
      "text/plain": [
       "'python'"
      ]
     },
     "execution_count": 92,
     "metadata": {},
     "output_type": "execute_result"
    }
   ],
   "source": [
    "s[0:50:1]"
   ]
  },
  {
   "cell_type": "code",
   "execution_count": 93,
   "id": "19bfe8c0-ac07-4ed0-b3d1-c98f692ca40d",
   "metadata": {},
   "outputs": [
    {
     "data": {
      "text/plain": [
       "'nohtyp'"
      ]
     },
     "execution_count": 93,
     "metadata": {},
     "output_type": "execute_result"
    }
   ],
   "source": [
    "s[::-1]"
   ]
  },
  {
   "cell_type": "code",
   "execution_count": 96,
   "id": "a7957447-c7ac-45fb-bc16-a32bca069e5c",
   "metadata": {},
   "outputs": [
    {
     "ename": "TypeError",
     "evalue": "'str' object does not support item assignment",
     "output_type": "error",
     "traceback": [
      "\u001b[1;31m---------------------------------------------------------------------------\u001b[0m",
      "\u001b[1;31mTypeError\u001b[0m                                 Traceback (most recent call last)",
      "Cell \u001b[1;32mIn[96], line 1\u001b[0m\n\u001b[1;32m----> 1\u001b[0m s[\u001b[38;5;241m8\u001b[39m:\u001b[38;5;241m0\u001b[39m:\u001b[38;5;241m-\u001b[39m\u001b[38;5;241m1\u001b[39m]\u001b[38;5;241m=\u001b[39m\u001b[38;5;124m\"\u001b[39m\u001b[38;5;124monthpy how s will come?\u001b[39m\u001b[38;5;124m\"\u001b[39m\n",
      "\u001b[1;31mTypeError\u001b[0m: 'str' object does not support item assignment"
     ]
    }
   ],
   "source": [
    "s[8:0:-1]=\"onthpy how s will come?\""
   ]
  },
  {
   "cell_type": "code",
   "execution_count": 94,
   "id": "c82bb258-36e5-4b41-9a19-448d735025aa",
   "metadata": {},
   "outputs": [
    {
     "data": {
      "text/plain": [
       "'nohty'"
      ]
     },
     "execution_count": 94,
     "metadata": {},
     "output_type": "execute_result"
    }
   ],
   "source": [
    "s[8:0:-1]"
   ]
  },
  {
   "cell_type": "code",
   "execution_count": 95,
   "id": "d711da6c-8735-45d3-860d-b22a4f2ea81c",
   "metadata": {},
   "outputs": [
    {
     "data": {
      "text/plain": [
       "'python'"
      ]
     },
     "execution_count": 95,
     "metadata": {},
     "output_type": "execute_result"
    }
   ],
   "source": [
    "s"
   ]
  },
  {
   "cell_type": "code",
   "execution_count": 97,
   "id": "3f7b4359-10fc-4bc3-b0cb-099e94d47a9d",
   "metadata": {},
   "outputs": [],
   "source": [
    "s=\"neournon\""
   ]
  },
  {
   "cell_type": "code",
   "execution_count": 99,
   "id": "b74a9ff7-29c9-4ca7-b76f-666145eec6bd",
   "metadata": {},
   "outputs": [
    {
     "data": {
      "text/plain": [
       "''"
      ]
     },
     "execution_count": 99,
     "metadata": {},
     "output_type": "execute_result"
    }
   ],
   "source": [
    "s[-2:-7:1]"
   ]
  },
  {
   "cell_type": "code",
   "execution_count": 100,
   "id": "ef9216e5-e730-45ec-a19e-270caeaf2ca8",
   "metadata": {},
   "outputs": [
    {
     "data": {
      "text/plain": [
       "'eourno'"
      ]
     },
     "execution_count": 100,
     "metadata": {},
     "output_type": "execute_result"
    }
   ],
   "source": [
    "s[-7:-1:1]"
   ]
  },
  {
   "cell_type": "code",
   "execution_count": 101,
   "id": "0f33648d-a3a3-4cf9-b324-551864bf9ccd",
   "metadata": {},
   "outputs": [
    {
     "data": {
      "text/plain": [
       "''"
      ]
     },
     "execution_count": 101,
     "metadata": {},
     "output_type": "execute_result"
    }
   ],
   "source": [
    "s[-7:0:1]"
   ]
  },
  {
   "cell_type": "code",
   "execution_count": 102,
   "id": "aa155c13-be04-4154-ab3d-5d8eab6d2926",
   "metadata": {},
   "outputs": [
    {
     "data": {
      "text/plain": [
       "''"
      ]
     },
     "execution_count": 102,
     "metadata": {},
     "output_type": "execute_result"
    }
   ],
   "source": [
    "s[:-1:-1]"
   ]
  },
  {
   "cell_type": "code",
   "execution_count": 103,
   "id": "0aeb9df5-c6c1-4913-9186-4dd08d8cf924",
   "metadata": {},
   "outputs": [
    {
     "data": {
      "text/plain": [
       "'neournon'"
      ]
     },
     "execution_count": 103,
     "metadata": {},
     "output_type": "execute_result"
    }
   ],
   "source": [
    "s"
   ]
  },
  {
   "cell_type": "code",
   "execution_count": 104,
   "id": "770e1774-f153-4f92-8998-d6bb0e752643",
   "metadata": {},
   "outputs": [
    {
     "data": {
      "text/plain": [
       "'neournonneournonneournonneournon'"
      ]
     },
     "execution_count": 104,
     "metadata": {},
     "output_type": "execute_result"
    }
   ],
   "source": [
    "s*4"
   ]
  },
  {
   "cell_type": "code",
   "execution_count": 105,
   "id": "45315a25-87e9-4f9d-9583-ff7b74104ea0",
   "metadata": {},
   "outputs": [
    {
     "data": {
      "text/plain": [
       "'neournon'"
      ]
     },
     "execution_count": 105,
     "metadata": {},
     "output_type": "execute_result"
    }
   ],
   "source": [
    "s"
   ]
  },
  {
   "cell_type": "code",
   "execution_count": 106,
   "id": "59ce655b-8815-4d7c-8bcf-a455f8f8ffb6",
   "metadata": {},
   "outputs": [
    {
     "data": {
      "text/plain": [
       "0"
      ]
     },
     "execution_count": 106,
     "metadata": {},
     "output_type": "execute_result"
    }
   ],
   "source": [
    "s.count(\"sum\")"
   ]
  },
  {
   "cell_type": "code",
   "execution_count": 107,
   "id": "7e491816-0d3b-44b9-a5d2-7dcb4b28b8c3",
   "metadata": {},
   "outputs": [
    {
     "data": {
      "text/plain": [
       "list"
      ]
     },
     "execution_count": 107,
     "metadata": {},
     "output_type": "execute_result"
    }
   ],
   "source": [
    "type(s.split(\"u\"))"
   ]
  },
  {
   "cell_type": "code",
   "execution_count": 108,
   "id": "5801e4cf-0d91-49fa-8f0a-1fb6f62036a1",
   "metadata": {},
   "outputs": [
    {
     "data": {
      "text/plain": [
       "['neo', 'rnon']"
      ]
     },
     "execution_count": 108,
     "metadata": {},
     "output_type": "execute_result"
    }
   ],
   "source": [
    "s.split(\"u\")"
   ]
  },
  {
   "cell_type": "code",
   "execution_count": 116,
   "id": "34dce9be-ffaa-4f5a-8aa7-d675f10f7e5b",
   "metadata": {},
   "outputs": [],
   "source": [
    "sw=\"\"\"Samsung Electronics Co., Ltd. (Korean: 삼성전자; Hanja: 三星電子; RR: Samseong Jeonja; lit. Tristar Electronics; \n",
    "sometimes shortened to SEC and stylised as SΛMSUNG) is a South Korean multinational major appliance and consumer \n",
    "electronics corporation founded on 13 January 1969 and headquartered in Yeongtong-gu, \n",
    "Suwon, South Korea. It is currently the pinnac\"\"\""
   ]
  },
  {
   "cell_type": "code",
   "execution_count": 117,
   "id": "66576577-72a7-497b-b224-fdcaf62921e5",
   "metadata": {},
   "outputs": [
    {
     "data": {
      "text/plain": [
       "'Samsung Electronics Co., Ltd. (Korean: 삼성전자; Hanja: 三星電子; RR: Samseong Jeonja; lit. Tristar Electronics; \\nsometimes shortened to SEC and stylised as SΛMSUNG) is a South Korean multinational major appliance and consumer \\nelectronics corporation founded on 13 January 1969 and headquartered in Yeongtong-gu, \\nSuwon, South Korea. It is currently the pinnac'"
      ]
     },
     "execution_count": 117,
     "metadata": {},
     "output_type": "execute_result"
    }
   ],
   "source": [
    "sw"
   ]
  },
  {
   "cell_type": "code",
   "execution_count": 119,
   "id": "d99a0a78-3ecf-49a4-8d2e-fc78ce5d31c6",
   "metadata": {},
   "outputs": [
    {
     "data": {
      "text/plain": [
       "['Samsung',\n",
       " 'Electronics',\n",
       " 'Co.,',\n",
       " 'Ltd.',\n",
       " '(Korean:',\n",
       " '삼성전자;',\n",
       " 'Hanja:',\n",
       " '三星電子;',\n",
       " 'RR:',\n",
       " 'Samseong',\n",
       " 'Jeonja;',\n",
       " 'lit.',\n",
       " 'Tristar',\n",
       " 'Electronics;',\n",
       " '\\nsometimes',\n",
       " 'shortened',\n",
       " 'to',\n",
       " 'SEC',\n",
       " 'and',\n",
       " 'stylised',\n",
       " 'as',\n",
       " 'SΛMSUNG)',\n",
       " 'is',\n",
       " 'a',\n",
       " 'South',\n",
       " 'Korean',\n",
       " 'multinational',\n",
       " 'major',\n",
       " 'appliance',\n",
       " 'and',\n",
       " 'consumer',\n",
       " '\\nelectronics',\n",
       " 'corporation',\n",
       " 'founded',\n",
       " 'on',\n",
       " '13',\n",
       " 'January',\n",
       " '1969',\n",
       " 'and',\n",
       " 'headquartered',\n",
       " 'in',\n",
       " 'Yeongtong-gu,',\n",
       " '\\nSuwon,',\n",
       " 'South',\n",
       " 'Korea.',\n",
       " 'It',\n",
       " 'is',\n",
       " 'currently',\n",
       " 'the',\n",
       " 'pinnac']"
      ]
     },
     "execution_count": 119,
     "metadata": {},
     "output_type": "execute_result"
    }
   ],
   "source": [
    "sw.split(' ')"
   ]
  },
  {
   "cell_type": "code",
   "execution_count": 120,
   "id": "a828fca7-7506-4fab-bbe2-38efb37fdaae",
   "metadata": {},
   "outputs": [
    {
     "data": {
      "text/plain": [
       "'Samsung Electronics Co., Ltd. (Korean: 삼성전자; Hanja: 三星電子; RR: Samseong Jeonja; lit. Tristar Electronics; \\nsometimes shortened to SEC and stylised as SΛMSUNG) is a South Korean multinational major appliance and consumer \\nelectronics corporation founded on 13 January 1969 and headquartered in Yeongtong-gu, \\nSuwon, South Korea. It is currently the pinnac'"
      ]
     },
     "execution_count": 120,
     "metadata": {},
     "output_type": "execute_result"
    }
   ],
   "source": [
    "sw"
   ]
  },
  {
   "cell_type": "code",
   "execution_count": 121,
   "id": "1428b6d1-fa23-4673-8bd5-3af04fdd8490",
   "metadata": {},
   "outputs": [
    {
     "data": {
      "text/plain": [
       "'SAMSUNG ELECTRONICS CO., LTD. (KOREAN: 삼성전자; HANJA: 三星電子; RR: SAMSEONG JEONJA; LIT. TRISTAR ELECTRONICS; \\nSOMETIMES SHORTENED TO SEC AND STYLISED AS SΛMSUNG) IS A SOUTH KOREAN MULTINATIONAL MAJOR APPLIANCE AND CONSUMER \\nELECTRONICS CORPORATION FOUNDED ON 13 JANUARY 1969 AND HEADQUARTERED IN YEONGTONG-GU, \\nSUWON, SOUTH KOREA. IT IS CURRENTLY THE PINNAC'"
      ]
     },
     "execution_count": 121,
     "metadata": {},
     "output_type": "execute_result"
    }
   ],
   "source": [
    "sw.upper()"
   ]
  },
  {
   "cell_type": "code",
   "execution_count": 122,
   "id": "e3f9ecc7-e20f-42e8-9ecf-13cb000ae4ed",
   "metadata": {},
   "outputs": [
    {
     "data": {
      "text/plain": [
       "'Samsung Electronics Co., Ltd. (Korean: 삼성전자; Hanja: 三星電子; RR: Samseong Jeonja; lit. Tristar Electronics; \\nsometimes shortened to SEC and stylised as SΛMSUNG) is a South Korean multinational major appliance and consumer \\nelectronics corporation founded on 13 January 1969 and headquartered in Yeongtong-gu, \\nSuwon, South Korea. It is currently the pinnac'"
      ]
     },
     "execution_count": 122,
     "metadata": {},
     "output_type": "execute_result"
    }
   ],
   "source": [
    "sw"
   ]
  },
  {
   "cell_type": "code",
   "execution_count": 123,
   "id": "9c5d2d7d-b9df-4c83-a29a-3cbbd82e6b62",
   "metadata": {},
   "outputs": [],
   "source": [
    "s=\"python class\""
   ]
  },
  {
   "cell_type": "code",
   "execution_count": 124,
   "id": "be604bfc-792d-49d0-ac27-c973faefc944",
   "metadata": {},
   "outputs": [
    {
     "data": {
      "text/plain": [
       "'Python Class'"
      ]
     },
     "execution_count": 124,
     "metadata": {},
     "output_type": "execute_result"
    }
   ],
   "source": [
    "s.title()"
   ]
  },
  {
   "cell_type": "code",
   "execution_count": 125,
   "id": "1deeaa6e-b6fa-4f9c-add2-99beb8d51513",
   "metadata": {},
   "outputs": [
    {
     "data": {
      "text/plain": [
       "'Python class'"
      ]
     },
     "execution_count": 125,
     "metadata": {},
     "output_type": "execute_result"
    }
   ],
   "source": [
    "s.capitalize()"
   ]
  },
  {
   "cell_type": "code",
   "execution_count": 126,
   "id": "d7c40a3f-5995-4027-8c2a-a83e7ea2ddff",
   "metadata": {},
   "outputs": [],
   "source": [
    "s=\"pyThon ClaSS\""
   ]
  },
  {
   "cell_type": "code",
   "execution_count": 127,
   "id": "62c316f6-5b87-4059-bbea-9d823d0eabdc",
   "metadata": {},
   "outputs": [
    {
     "data": {
      "text/plain": [
       "'PYtHON cLAss'"
      ]
     },
     "execution_count": 127,
     "metadata": {},
     "output_type": "execute_result"
    }
   ],
   "source": [
    "s.swapcase()"
   ]
  },
  {
   "cell_type": "code",
   "execution_count": 129,
   "id": "8ec5666a-c511-4d8f-aea9-960312a71d69",
   "metadata": {},
   "outputs": [
    {
     "data": {
      "text/plain": [
       "'SSalC nohTyp'"
      ]
     },
     "execution_count": 129,
     "metadata": {},
     "output_type": "execute_result"
    }
   ],
   "source": [
    "''.join(reversed(s))"
   ]
  },
  {
   "cell_type": "code",
   "execution_count": 130,
   "id": "209fdc1f-d38c-4045-861c-5fe9480b685e",
   "metadata": {},
   "outputs": [
    {
     "data": {
      "text/plain": [
       "'SSalC nohTyp'"
      ]
     },
     "execution_count": 130,
     "metadata": {},
     "output_type": "execute_result"
    }
   ],
   "source": [
    "s[::-1]"
   ]
  },
  {
   "cell_type": "code",
   "execution_count": 131,
   "id": "b5bbab52-8869-448e-9332-3a585c21d895",
   "metadata": {},
   "outputs": [],
   "source": [
    "s=\" py  th   \""
   ]
  },
  {
   "cell_type": "code",
   "execution_count": 132,
   "id": "f5df2b2a-3818-40cc-9a2e-866e72ae34ff",
   "metadata": {},
   "outputs": [
    {
     "data": {
      "text/plain": [
       "['py', 'th']"
      ]
     },
     "execution_count": 132,
     "metadata": {},
     "output_type": "execute_result"
    }
   ],
   "source": [
    "s.split()"
   ]
  },
  {
   "cell_type": "code",
   "execution_count": 133,
   "id": "171e30e6-a5df-4882-8eaf-38b1184dfa53",
   "metadata": {},
   "outputs": [
    {
     "data": {
      "text/plain": [
       "' py  th   '"
      ]
     },
     "execution_count": 133,
     "metadata": {},
     "output_type": "execute_result"
    }
   ],
   "source": [
    "s"
   ]
  },
  {
   "cell_type": "code",
   "execution_count": 134,
   "id": "9822ef46-4ab3-4f6d-af8b-02cd5e62058d",
   "metadata": {},
   "outputs": [
    {
     "data": {
      "text/plain": [
       "'py  th   '"
      ]
     },
     "execution_count": 134,
     "metadata": {},
     "output_type": "execute_result"
    }
   ],
   "source": [
    "s.lstrip()"
   ]
  },
  {
   "cell_type": "code",
   "execution_count": 135,
   "id": "d1102a26-f9f2-4469-ae4f-29bd929767eb",
   "metadata": {},
   "outputs": [
    {
     "data": {
      "text/plain": [
       "' py  th'"
      ]
     },
     "execution_count": 135,
     "metadata": {},
     "output_type": "execute_result"
    }
   ],
   "source": [
    "s.rstrip()"
   ]
  },
  {
   "cell_type": "code",
   "execution_count": 136,
   "id": "aba75888-e5d2-4c95-93b4-bc1646bbfaba",
   "metadata": {},
   "outputs": [
    {
     "data": {
      "text/plain": [
       "'payatahaoan'"
      ]
     },
     "execution_count": 136,
     "metadata": {},
     "output_type": "execute_result"
    }
   ],
   "source": [
    "\"a\" . join(\"python\")"
   ]
  },
  {
   "cell_type": "code",
   "execution_count": 137,
   "id": "5400d0e7-6146-4a9f-804d-71eb6b6655b9",
   "metadata": {},
   "outputs": [
    {
     "data": {
      "text/plain": [
       "' py  th   '"
      ]
     },
     "execution_count": 137,
     "metadata": {},
     "output_type": "execute_result"
    }
   ],
   "source": [
    "s"
   ]
  },
  {
   "cell_type": "code",
   "execution_count": 140,
   "id": "d9a2ee65-efc8-484f-bb0e-376cfc8e691d",
   "metadata": {},
   "outputs": [],
   "source": [
    "s= \"pyth\""
   ]
  },
  {
   "cell_type": "code",
   "execution_count": 143,
   "id": "bdba79b1-8e5f-4db3-8656-77824d06af42",
   "metadata": {},
   "outputs": [
    {
     "data": {
      "text/plain": [
       "'########pyth########'"
      ]
     },
     "execution_count": 143,
     "metadata": {},
     "output_type": "execute_result"
    }
   ],
   "source": [
    "s.center(20 , '#')"
   ]
  },
  {
   "cell_type": "code",
   "execution_count": 144,
   "id": "fdabcb08-a644-4486-bcff-6e2e375b4a95",
   "metadata": {},
   "outputs": [],
   "source": [
    "s = \"python\""
   ]
  },
  {
   "cell_type": "code",
   "execution_count": 145,
   "id": "ab91e301-7577-4218-ac9a-ac423845917c",
   "metadata": {},
   "outputs": [
    {
     "data": {
      "text/plain": [
       "False"
      ]
     },
     "execution_count": 145,
     "metadata": {},
     "output_type": "execute_result"
    }
   ],
   "source": [
    "s.isupper()"
   ]
  },
  {
   "cell_type": "code",
   "execution_count": 148,
   "id": "59b98232-620f-4f36-b20b-dbaf7bd0b954",
   "metadata": {},
   "outputs": [],
   "source": [
    "s1=\"PYTH\""
   ]
  },
  {
   "cell_type": "code",
   "execution_count": 149,
   "id": "439ec4ed-ceaa-4117-be65-ca92a935cf5a",
   "metadata": {},
   "outputs": [
    {
     "data": {
      "text/plain": [
       "True"
      ]
     },
     "execution_count": 149,
     "metadata": {},
     "output_type": "execute_result"
    }
   ],
   "source": [
    "s1.isupper()"
   ]
  },
  {
   "cell_type": "code",
   "execution_count": 150,
   "id": "bd8fdd40-1347-4840-abe0-f1a2ff9c4233",
   "metadata": {},
   "outputs": [],
   "source": [
    "s4=\"   \""
   ]
  },
  {
   "cell_type": "code",
   "execution_count": 151,
   "id": "f02456c8-9ac1-47d8-aedf-52a52ee444da",
   "metadata": {},
   "outputs": [
    {
     "data": {
      "text/plain": [
       "True"
      ]
     },
     "execution_count": 151,
     "metadata": {},
     "output_type": "execute_result"
    }
   ],
   "source": [
    "s4.isspace()"
   ]
  },
  {
   "cell_type": "code",
   "execution_count": 152,
   "id": "6491239d-05f8-4f59-8d15-6376590c760b",
   "metadata": {},
   "outputs": [],
   "source": [
    "s=\"python\""
   ]
  },
  {
   "cell_type": "code",
   "execution_count": 153,
   "id": "b1c957aa-df1a-4dc5-9164-a6feb1fb2046",
   "metadata": {},
   "outputs": [
    {
     "data": {
      "text/plain": [
       "False"
      ]
     },
     "execution_count": 153,
     "metadata": {},
     "output_type": "execute_result"
    }
   ],
   "source": [
    "s.isdigit()"
   ]
  },
  {
   "cell_type": "code",
   "execution_count": 157,
   "id": "e7165e22-1786-4d91-bff7-bcc2bd162d40",
   "metadata": {},
   "outputs": [
    {
     "data": {
      "text/plain": [
       "False"
      ]
     },
     "execution_count": 157,
     "metadata": {},
     "output_type": "execute_result"
    }
   ],
   "source": [
    "s.isdigit()"
   ]
  },
  {
   "cell_type": "code",
   "execution_count": 158,
   "id": "686d1b2b-1296-4b16-b9af-11b4a1add938",
   "metadata": {},
   "outputs": [],
   "source": [
    "s=\"python\""
   ]
  },
  {
   "cell_type": "code",
   "execution_count": 159,
   "id": "d3c8b9ac-529d-4721-9898-5b0bdc10b3f0",
   "metadata": {},
   "outputs": [
    {
     "data": {
      "text/plain": [
       "True"
      ]
     },
     "execution_count": 159,
     "metadata": {},
     "output_type": "execute_result"
    }
   ],
   "source": [
    "s.isalnum()"
   ]
  },
  {
   "cell_type": "code",
   "execution_count": 160,
   "id": "a99279c8-753d-42c8-b8b3-c6d2c736838f",
   "metadata": {},
   "outputs": [
    {
     "data": {
      "text/plain": [
       "True"
      ]
     },
     "execution_count": 160,
     "metadata": {},
     "output_type": "execute_result"
    }
   ],
   "source": [
    "s.isalpha()"
   ]
  },
  {
   "cell_type": "code",
   "execution_count": 161,
   "id": "135887b5-3bd8-4ef7-ad7b-5917a421d0a4",
   "metadata": {},
   "outputs": [
    {
     "data": {
      "text/plain": [
       "'python'"
      ]
     },
     "execution_count": 161,
     "metadata": {},
     "output_type": "execute_result"
    }
   ],
   "source": [
    "s"
   ]
  },
  {
   "cell_type": "code",
   "execution_count": 167,
   "id": "7dcec5b4-bcdf-4e42-bcc2-11c063bc95c2",
   "metadata": {},
   "outputs": [
    {
     "data": {
      "text/plain": [
       "False"
      ]
     },
     "execution_count": 167,
     "metadata": {},
     "output_type": "execute_result"
    }
   ],
   "source": [
    "s.startswith('s')"
   ]
  },
  {
   "cell_type": "code",
   "execution_count": 168,
   "id": "f371e5cc-e15e-4313-b972-24310cc7506a",
   "metadata": {},
   "outputs": [
    {
     "data": {
      "text/plain": [
       "False"
      ]
     },
     "execution_count": 168,
     "metadata": {},
     "output_type": "execute_result"
    }
   ],
   "source": [
    "s.startswith('s')"
   ]
  },
  {
   "cell_type": "code",
   "execution_count": 169,
   "id": "b4fd06a0-7470-4859-ac31-0089b983b10a",
   "metadata": {},
   "outputs": [
    {
     "data": {
      "text/plain": [
       "True"
      ]
     },
     "execution_count": 169,
     "metadata": {},
     "output_type": "execute_result"
    }
   ],
   "source": [
    "s.isascii()"
   ]
  },
  {
   "cell_type": "code",
   "execution_count": 171,
   "id": "96018e4d-50d3-4acb-bc9c-abaa4e55f5a0",
   "metadata": {},
   "outputs": [
    {
     "data": {
      "text/plain": [
       "False"
      ]
     },
     "execution_count": 171,
     "metadata": {},
     "output_type": "execute_result"
    }
   ],
   "source": [
    "s = 'python123  '\n",
    "s.isalnum()"
   ]
  },
  {
   "cell_type": "code",
   "execution_count": 172,
   "id": "4d0e6950-07cd-4ad7-84d7-63703cd6027b",
   "metadata": {},
   "outputs": [
    {
     "data": {
      "text/plain": [
       "False"
      ]
     },
     "execution_count": 172,
     "metadata": {},
     "output_type": "execute_result"
    }
   ],
   "source": [
    "s=' 5  '\n",
    "s.isspace()"
   ]
  },
  {
   "cell_type": "code",
   "execution_count": 173,
   "id": "1bac0d64-5806-4998-8188-10a7cbcc8da7",
   "metadata": {},
   "outputs": [],
   "source": [
    "s = \"  6  \""
   ]
  },
  {
   "cell_type": "code",
   "execution_count": 174,
   "id": "25292f70-5272-45a1-a948-c598f42e1a6c",
   "metadata": {},
   "outputs": [
    {
     "data": {
      "text/plain": [
       "False"
      ]
     },
     "execution_count": 174,
     "metadata": {},
     "output_type": "execute_result"
    }
   ],
   "source": [
    "s.isspace()"
   ]
  },
  {
   "cell_type": "code",
   "execution_count": 177,
   "id": "a251da72-2efd-4495-8d93-e4140ff0c269",
   "metadata": {},
   "outputs": [],
   "source": [
    "s1 = \"fajfkljglk75y78346\""
   ]
  },
  {
   "cell_type": "code",
   "execution_count": 178,
   "id": "dc1a892d-dab6-49db-9f71-71c2325265b0",
   "metadata": {},
   "outputs": [
    {
     "data": {
      "text/plain": [
       "False"
      ]
     },
     "execution_count": 178,
     "metadata": {},
     "output_type": "execute_result"
    }
   ],
   "source": [
    "s1.isnumeric()"
   ]
  },
  {
   "cell_type": "code",
   "execution_count": 179,
   "id": "0403fea0-8b59-459e-9bfb-853dd81df578",
   "metadata": {},
   "outputs": [],
   "source": [
    "s2 = \"325789 8734 4578\""
   ]
  },
  {
   "cell_type": "code",
   "execution_count": 180,
   "id": "aa8811eb-ed9b-4df6-9f2b-4cb4b99e0c90",
   "metadata": {},
   "outputs": [
    {
     "data": {
      "text/plain": [
       "False"
      ]
     },
     "execution_count": 180,
     "metadata": {},
     "output_type": "execute_result"
    }
   ],
   "source": [
    "s2.isnumeric()"
   ]
  },
  {
   "cell_type": "code",
   "execution_count": 181,
   "id": "f6e8bd01-3222-42e2-bcae-86ba30f5f8c6",
   "metadata": {},
   "outputs": [
    {
     "data": {
      "text/plain": [
       "True"
      ]
     },
     "execution_count": 181,
     "metadata": {},
     "output_type": "execute_result"
    }
   ],
   "source": [
    "s.isnumeric()"
   ]
  },
  {
   "cell_type": "code",
   "execution_count": 182,
   "id": "c554a633-2efc-47e2-aa86-fc276f9f227b",
   "metadata": {},
   "outputs": [
    {
     "data": {
      "text/plain": [
       "False"
      ]
     },
     "execution_count": 182,
     "metadata": {},
     "output_type": "execute_result"
    }
   ],
   "source": [
    "s2.isdigit()"
   ]
  },
  {
   "cell_type": "code",
   "execution_count": 183,
   "id": "75be2d05-36b7-467a-8708-e7c3adaaa2c6",
   "metadata": {},
   "outputs": [],
   "source": [
    "s=56"
   ]
  },
  {
   "cell_type": "code",
   "execution_count": 184,
   "id": "ae3c9f2f-ce49-4985-8d4b-d1a412182d03",
   "metadata": {},
   "outputs": [],
   "source": [
    "s=\"pyth\""
   ]
  },
  {
   "cell_type": "code",
   "execution_count": 185,
   "id": "a2ecf99a-445b-4fd6-beff-928bcd4899bb",
   "metadata": {},
   "outputs": [
    {
     "data": {
      "text/plain": [
       "<reversed at 0x142f2dcffa0>"
      ]
     },
     "execution_count": 185,
     "metadata": {},
     "output_type": "execute_result"
    }
   ],
   "source": [
    "reversed(s)"
   ]
  },
  {
   "cell_type": "code",
   "execution_count": 186,
   "id": "f49e62e4-97de-4eb0-a736-68d17400aaf9",
   "metadata": {},
   "outputs": [
    {
     "data": {
      "text/plain": [
       "'pdydtdhdodn'"
      ]
     },
     "execution_count": 186,
     "metadata": {},
     "output_type": "execute_result"
    }
   ],
   "source": [
    "\"d\".join(\"python\")"
   ]
  },
  {
   "cell_type": "code",
   "execution_count": 187,
   "id": "26651928-9888-43a0-85bb-94e94f313764",
   "metadata": {},
   "outputs": [
    {
     "data": {
      "text/plain": [
       "<function str.join(iterable, /)>"
      ]
     },
     "execution_count": 187,
     "metadata": {},
     "output_type": "execute_result"
    }
   ],
   "source": [
    "\"\".join"
   ]
  },
  {
   "cell_type": "code",
   "execution_count": 188,
   "id": "777925b1-ea2c-4a52-bcc3-315ad3a686bb",
   "metadata": {},
   "outputs": [],
   "source": [
    "s=\"398448.456\""
   ]
  },
  {
   "cell_type": "code",
   "execution_count": 189,
   "id": "d7617bf4-bfc1-4efe-8615-3c5490dcd5ba",
   "metadata": {},
   "outputs": [
    {
     "data": {
      "text/plain": [
       "False"
      ]
     },
     "execution_count": 189,
     "metadata": {},
     "output_type": "execute_result"
    }
   ],
   "source": [
    "s.isdigit()"
   ]
  },
  {
   "cell_type": "code",
   "execution_count": 190,
   "id": "f00eb750-d8cc-4da0-adca-04066cf417d9",
   "metadata": {},
   "outputs": [
    {
     "data": {
      "text/plain": [
       "False"
      ]
     },
     "execution_count": 190,
     "metadata": {},
     "output_type": "execute_result"
    }
   ],
   "source": [
    "s.isnumeric()"
   ]
  },
  {
   "cell_type": "code",
   "execution_count": 192,
   "id": "19c897d2-a965-45a7-b2ad-a8ed29638a4b",
   "metadata": {},
   "outputs": [],
   "source": [
    "s='python\\tclass\\tprogramm'"
   ]
  },
  {
   "cell_type": "code",
   "execution_count": 193,
   "id": "fc90e610-bdd5-47d9-975d-27465552681f",
   "metadata": {},
   "outputs": [
    {
     "data": {
      "text/plain": [
       "'python  class   programm'"
      ]
     },
     "execution_count": 193,
     "metadata": {},
     "output_type": "execute_result"
    }
   ],
   "source": [
    "s.expandtabs()"
   ]
  },
  {
   "cell_type": "code",
   "execution_count": 195,
   "id": "b031cafd-208d-4c15-a258-28b0b5573d58",
   "metadata": {},
   "outputs": [
    {
     "data": {
      "text/plain": [
       "'hhe     ggg     hhe'"
      ]
     },
     "execution_count": 195,
     "metadata": {},
     "output_type": "execute_result"
    }
   ],
   "source": [
    "s='hhe\\tggg\\thhe'\n",
    "s.expandtabs()"
   ]
  },
  {
   "cell_type": "code",
   "execution_count": 203,
   "id": "f66b4a8c-4ed3-452f-b0dc-9fc853f94c5b",
   "metadata": {},
   "outputs": [],
   "source": [
    "l=[1,2,3,4,5, \"python\" ,45.67, True]"
   ]
  },
  {
   "cell_type": "code",
   "execution_count": 205,
   "id": "528940e8-2488-4723-9935-18e8187a4a46",
   "metadata": {},
   "outputs": [
    {
     "data": {
      "text/plain": [
       "1"
      ]
     },
     "execution_count": 205,
     "metadata": {},
     "output_type": "execute_result"
    }
   ],
   "source": [
    "l[0]"
   ]
  },
  {
   "cell_type": "code",
   "execution_count": 212,
   "id": "09ba0942-e0a4-4e85-a542-f3b27fb9af59",
   "metadata": {},
   "outputs": [
    {
     "data": {
      "text/plain": [
       "8"
      ]
     },
     "execution_count": 212,
     "metadata": {},
     "output_type": "execute_result"
    }
   ],
   "source": [
    "len(l)"
   ]
  },
  {
   "cell_type": "code",
   "execution_count": 214,
   "id": "f4953dea-bbf6-4fbe-8a08-d0a50ba1aa64",
   "metadata": {},
   "outputs": [
    {
     "data": {
      "text/plain": [
       "[1, 2, 3, 4, 5]"
      ]
     },
     "execution_count": 214,
     "metadata": {},
     "output_type": "execute_result"
    }
   ],
   "source": [
    "l[0:5]"
   ]
  },
  {
   "cell_type": "code",
   "execution_count": 216,
   "id": "0f9a2dd9-8752-478d-aaf4-7e8e905f7bd1",
   "metadata": {},
   "outputs": [
    {
     "data": {
      "text/plain": [
       "[1, 3, 5, 45.67]"
      ]
     },
     "execution_count": 216,
     "metadata": {},
     "output_type": "execute_result"
    }
   ],
   "source": [
    "l[0:100:2]\n"
   ]
  },
  {
   "cell_type": "code",
   "execution_count": 217,
   "id": "ce63cb96-ca25-4e0b-b620-10a072163f96",
   "metadata": {},
   "outputs": [
    {
     "data": {
      "text/plain": [
       "[1, 2, 3, 4, 5, 'python', 45.67, True]"
      ]
     },
     "execution_count": 217,
     "metadata": {},
     "output_type": "execute_result"
    }
   ],
   "source": [
    "l"
   ]
  },
  {
   "cell_type": "code",
   "execution_count": 218,
   "id": "02f5fb92-476f-4a86-822f-70fb08624155",
   "metadata": {},
   "outputs": [
    {
     "data": {
      "text/plain": [
       "[]"
      ]
     },
     "execution_count": 218,
     "metadata": {},
     "output_type": "execute_result"
    }
   ],
   "source": [
    "l[0:8:-1]"
   ]
  },
  {
   "cell_type": "code",
   "execution_count": 219,
   "id": "a2fecb0e-74e5-4eec-ad95-6f1caee6f2f4",
   "metadata": {},
   "outputs": [
    {
     "data": {
      "text/plain": [
       "[1, 2, 3]"
      ]
     },
     "execution_count": 219,
     "metadata": {},
     "output_type": "execute_result"
    }
   ],
   "source": [
    "l[:3]"
   ]
  },
  {
   "cell_type": "code",
   "execution_count": 221,
   "id": "b4882b3b-b7c8-450f-955f-7d820ffc74b8",
   "metadata": {},
   "outputs": [
    {
     "data": {
      "text/plain": [
       "[1, 2, 3, 4, 5, 'python', 45.67, True, 'python']"
      ]
     },
     "execution_count": 221,
     "metadata": {},
     "output_type": "execute_result"
    }
   ],
   "source": [
    "l+[\"python\"]"
   ]
  },
  {
   "cell_type": "code",
   "execution_count": 222,
   "id": "df165220-50b5-410d-87bd-8639530effd9",
   "metadata": {},
   "outputs": [
    {
     "data": {
      "text/plain": [
       "[1, 2, 3, 4, 5, 'python', 45.67, True, 1, 2, 3, 4, 5, 'python', 45.67, True]"
      ]
     },
     "execution_count": 222,
     "metadata": {},
     "output_type": "execute_result"
    }
   ],
   "source": [
    "l*2"
   ]
  },
  {
   "cell_type": "code",
   "execution_count": 225,
   "id": "0db63029-aa0c-4f59-86ba-cb1b5cbf36e6",
   "metadata": {},
   "outputs": [
    {
     "data": {
      "text/plain": [
       "[1, 2, 3, 4, 5, 'python', 45.67, True]"
      ]
     },
     "execution_count": 225,
     "metadata": {},
     "output_type": "execute_result"
    }
   ],
   "source": [
    "l"
   ]
  },
  {
   "cell_type": "code",
   "execution_count": 226,
   "id": "b8c3c671-ceee-4662-9ac9-e55d16965312",
   "metadata": {},
   "outputs": [
    {
     "data": {
      "text/plain": [
       "False"
      ]
     },
     "execution_count": 226,
     "metadata": {},
     "output_type": "execute_result"
    }
   ],
   "source": [
    "60 in l"
   ]
  },
  {
   "cell_type": "code",
   "execution_count": 227,
   "id": "363b20d1-d1ad-4852-b1bf-b623bfabcab3",
   "metadata": {},
   "outputs": [
    {
     "data": {
      "text/plain": [
       "True"
      ]
     },
     "execution_count": 227,
     "metadata": {},
     "output_type": "execute_result"
    }
   ],
   "source": [
    "2 in l"
   ]
  },
  {
   "cell_type": "code",
   "execution_count": 229,
   "id": "375a704c-69d9-41cf-982e-c2a1ff53ceb6",
   "metadata": {},
   "outputs": [],
   "source": [
    "l1 = [3,4,5,6,6]"
   ]
  },
  {
   "cell_type": "markdown",
   "id": "35a1919f-40c6-4c02-bc4a-c61645bc70f0",
   "metadata": {},
   "source": [
    "max(l2)"
   ]
  },
  {
   "cell_type": "code",
   "execution_count": 231,
   "id": "23c678f2-87be-45d9-a6de-5f2b1e2847eb",
   "metadata": {},
   "outputs": [
    {
     "data": {
      "text/plain": [
       "6"
      ]
     },
     "execution_count": 231,
     "metadata": {},
     "output_type": "execute_result"
    }
   ],
   "source": [
    "max(l1)"
   ]
  },
  {
   "cell_type": "code",
   "execution_count": 232,
   "id": "1ab3571c-c55d-43d3-9fad-f3fee979f58b",
   "metadata": {},
   "outputs": [
    {
     "data": {
      "text/plain": [
       "3"
      ]
     },
     "execution_count": 232,
     "metadata": {},
     "output_type": "execute_result"
    }
   ],
   "source": [
    "min(l1)"
   ]
  },
  {
   "cell_type": "code",
   "execution_count": 241,
   "id": "bc24695e-9511-4553-904e-f3d5f52a3608",
   "metadata": {},
   "outputs": [],
   "source": [
    "l2=[\"python\" ,\"deep\" ,\"learning\"]"
   ]
  },
  {
   "cell_type": "code",
   "execution_count": 242,
   "id": "126e3f72-6116-4b51-917e-322919835dcb",
   "metadata": {},
   "outputs": [
    {
     "data": {
      "text/plain": [
       "'python'"
      ]
     },
     "execution_count": 242,
     "metadata": {},
     "output_type": "execute_result"
    }
   ],
   "source": [
    "max(l2)"
   ]
  },
  {
   "cell_type": "code",
   "execution_count": 243,
   "id": "0ecfd13d-fdf7-487c-afb5-79c621eefb0e",
   "metadata": {},
   "outputs": [
    {
     "data": {
      "text/plain": [
       "'deep'"
      ]
     },
     "execution_count": 243,
     "metadata": {},
     "output_type": "execute_result"
    }
   ],
   "source": [
    "min(l2)"
   ]
  },
  {
   "cell_type": "code",
   "execution_count": 244,
   "id": "3f8ba3ef-4b3e-4304-8687-770da53edb2c",
   "metadata": {},
   "outputs": [
    {
     "data": {
      "text/plain": [
       "3"
      ]
     },
     "execution_count": 244,
     "metadata": {},
     "output_type": "execute_result"
    }
   ],
   "source": [
    "min(l1)"
   ]
  },
  {
   "cell_type": "code",
   "execution_count": 245,
   "id": "540bfadb-d7cc-456d-bb28-35686fa6d36f",
   "metadata": {},
   "outputs": [
    {
     "data": {
      "text/plain": [
       "'deep'"
      ]
     },
     "execution_count": 245,
     "metadata": {},
     "output_type": "execute_result"
    }
   ],
   "source": [
    "min(l2)"
   ]
  },
  {
   "cell_type": "code",
   "execution_count": 246,
   "id": "59bddbca-e199-40a3-ad0c-29b82b3e07e4",
   "metadata": {},
   "outputs": [
    {
     "data": {
      "text/plain": [
       "[1, 2, 3, 4, 5, 'python', 45.67, True]"
      ]
     },
     "execution_count": 246,
     "metadata": {},
     "output_type": "execute_result"
    }
   ],
   "source": [
    "l"
   ]
  },
  {
   "cell_type": "code",
   "execution_count": 247,
   "id": "f187c723-6ebc-4582-b623-90bf41dab0a5",
   "metadata": {},
   "outputs": [],
   "source": [
    "l.append(\"python\")"
   ]
  },
  {
   "cell_type": "code",
   "execution_count": 248,
   "id": "864f0d45-5bc4-4fee-ba29-8ad899055a86",
   "metadata": {},
   "outputs": [
    {
     "data": {
      "text/plain": [
       "[1, 2, 3, 4, 5, 'python', 45.67, True, 'python']"
      ]
     },
     "execution_count": 248,
     "metadata": {},
     "output_type": "execute_result"
    }
   ],
   "source": [
    "l"
   ]
  },
  {
   "cell_type": "code",
   "execution_count": 250,
   "id": "d818ae22-3131-44f6-acef-4335f8a3af61",
   "metadata": {},
   "outputs": [],
   "source": [
    "l.append([1,2,3,4])"
   ]
  },
  {
   "cell_type": "code",
   "execution_count": 251,
   "id": "d9220602-b6e0-49af-b7cf-d2e4d2847a16",
   "metadata": {},
   "outputs": [
    {
     "data": {
      "text/plain": [
       "[1, 2, 3, 4, 5, 'python', 45.67, True, 'python', [1, 2, 3, 4]]"
      ]
     },
     "execution_count": 251,
     "metadata": {},
     "output_type": "execute_result"
    }
   ],
   "source": [
    "l\n"
   ]
  },
  {
   "cell_type": "code",
   "execution_count": 252,
   "id": "fcfc506d-9974-4c58-8125-61343d21749f",
   "metadata": {},
   "outputs": [],
   "source": [
    "l.reverse()"
   ]
  },
  {
   "cell_type": "code",
   "execution_count": 253,
   "id": "e5c34075-37d7-4784-aa6b-6b58bb2d0014",
   "metadata": {},
   "outputs": [
    {
     "data": {
      "text/plain": [
       "[[1, 2, 3, 4], 'python', True, 45.67, 'python', 5, 4, 3, 2, 1]"
      ]
     },
     "execution_count": 253,
     "metadata": {},
     "output_type": "execute_result"
    }
   ],
   "source": [
    "l"
   ]
  },
  {
   "cell_type": "code",
   "execution_count": 254,
   "id": "1742761d-575e-4b6f-b54d-8c1551ce48f5",
   "metadata": {},
   "outputs": [],
   "source": [
    "l=l[::-1]"
   ]
  },
  {
   "cell_type": "code",
   "execution_count": 255,
   "id": "f10c90d7-313b-4db4-b2b6-28123b6a4f01",
   "metadata": {},
   "outputs": [],
   "source": [
    "l.reverse()"
   ]
  },
  {
   "cell_type": "code",
   "execution_count": 256,
   "id": "6dadbe94-f618-41c6-b7fb-79b079aaaa50",
   "metadata": {},
   "outputs": [],
   "source": [
    "l.append([1,2,3,4])"
   ]
  },
  {
   "cell_type": "code",
   "execution_count": 257,
   "id": "b4d532d8-8e38-4d7b-9e33-5653550bdfd3",
   "metadata": {},
   "outputs": [
    {
     "data": {
      "text/plain": [
       "1"
      ]
     },
     "execution_count": 257,
     "metadata": {},
     "output_type": "execute_result"
    }
   ],
   "source": [
    "1"
   ]
  },
  {
   "cell_type": "code",
   "execution_count": 259,
   "id": "cfb5db16-eb66-4534-bd79-02c1d8e10a9e",
   "metadata": {},
   "outputs": [
    {
     "ename": "TypeError",
     "evalue": "'<' not supported between instances of 'str' and 'list'",
     "output_type": "error",
     "traceback": [
      "\u001b[1;31m---------------------------------------------------------------------------\u001b[0m",
      "\u001b[1;31mTypeError\u001b[0m                                 Traceback (most recent call last)",
      "Cell \u001b[1;32mIn[259], line 1\u001b[0m\n\u001b[1;32m----> 1\u001b[0m l\u001b[38;5;241m.\u001b[39msort()\n",
      "\u001b[1;31mTypeError\u001b[0m: '<' not supported between instances of 'str' and 'list'"
     ]
    }
   ],
   "source": [
    "l.sort()"
   ]
  },
  {
   "cell_type": "code",
   "execution_count": null,
   "id": "d3691bb4-7ccb-4d2e-bcf7-be123327d7c6",
   "metadata": {},
   "outputs": [],
   "source": []
  }
 ],
 "metadata": {
  "kernelspec": {
   "display_name": "Python 3 (ipykernel)",
   "language": "python",
   "name": "python3"
  },
  "language_info": {
   "codemirror_mode": {
    "name": "ipython",
    "version": 3
   },
   "file_extension": ".py",
   "mimetype": "text/x-python",
   "name": "python",
   "nbconvert_exporter": "python",
   "pygments_lexer": "ipython3",
   "version": "3.11.7"
  }
 },
 "nbformat": 4,
 "nbformat_minor": 5
}
