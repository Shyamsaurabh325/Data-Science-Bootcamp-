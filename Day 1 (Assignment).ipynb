{
 "cells": [
  {
   "cell_type": "markdown",
   "id": "b6920ee7-698b-4cd5-9fc5-c9c77acf901e",
   "metadata": {},
   "source": [
    "# Assignment 1 "
   ]
  },
  {
   "cell_type": "markdown",
   "id": "f2ccff6b-6049-4d2f-a316-8ceba8d7e60d",
   "metadata": {},
   "source": [
    "### 1. Convert a string to a zigzag pattern on a given number of rows and then read it row by row.\n",
    "   - Input: s = \"PAYPALISHIRING\", numRows = 3\n"
   ]
  },
  {
   "cell_type": "code",
   "execution_count": 3,
   "id": "cdcf4852-a04e-40a0-8ad9-a9fca1916bcc",
   "metadata": {},
   "outputs": [
    {
     "name": "stdout",
     "output_type": "stream",
     "text": [
      "PAHNAPLSIIGYIR\n"
     ]
    }
   ],
   "source": [
    "s = \"PAYPALISHIRING\"\n",
    "n = 3\n",
    "result = s[0::4] + s[1::2] + s[2::4]\n",
    "print(result)\n"
   ]
  },
  {
   "cell_type": "markdown",
   "id": "68c3729b-7901-4e57-b96c-813baa89a2db",
   "metadata": {},
   "source": [
    "### 2. Implement a method to perform basic string compression using the counts of repeated characters.\n",
    "   - Input: \"aabcccccaaa\"\n"
   ]
  },
  {
   "cell_type": "code",
   "execution_count": 2,
   "id": "d9d8fe91-7504-49c1-8f35-e89ea6d45946",
   "metadata": {},
   "outputs": [
    {
     "name": "stdout",
     "output_type": "stream",
     "text": [
      "a2b1c5a3\n"
     ]
    }
   ],
   "source": [
    "import itertools\n",
    "s = \"aabcccccaaa\"\n",
    "result = ''.join(f\"{k}{len(list(g))}\" for k, g in itertools.groupby(s))\n",
    "print(result)\n"
   ]
  },
  {
   "cell_type": "markdown",
   "id": "eacea5b0-c4a3-4685-942b-72e29ea5beb3",
   "metadata": {},
   "source": [
    "### 3. Write a function that generates all possible permutations of a given string.\n",
    "   - Input: \"ABC\"\n"
   ]
  },
  {
   "cell_type": "code",
   "execution_count": 3,
   "id": "c418ec48-142b-4c0b-acc7-5b8205667c47",
   "metadata": {},
   "outputs": [
    {
     "name": "stdout",
     "output_type": "stream",
     "text": [
      "['ABC', 'ACB', 'BAC', 'BCA', 'CAB', 'CBA']\n"
     ]
    }
   ],
   "source": [
    "s = \"ABC\"\n",
    "permutations = [''.join(p) for p in itertools.permutations(s)]\n",
    "print(permutations)\n"
   ]
  },
  {
   "cell_type": "markdown",
   "id": "73aea498-ca0c-4951-95e8-bc3fd22cd6d7",
   "metadata": {},
   "source": [
    "### 4. Given an array of strings, group anagrams together.\n",
    "   - Input: [\"eat\", \"tea\", \"tan\", \"ate\", \"nat\", \"bat\"]\n"
   ]
  },
  {
   "cell_type": "code",
   "execution_count": 4,
   "id": "3b7ff842-53da-4619-9756-7b714470277b",
   "metadata": {},
   "outputs": [
    {
     "name": "stdout",
     "output_type": "stream",
     "text": [
      "[['eat', 'tea', 'ate'], ['tan', 'nat'], ['bat']]\n"
     ]
    }
   ],
   "source": [
    "str = [\"eat\", \"tea\", \"tan\", \"ate\", \"nat\", \"bat\"]\n",
    "result = {}\n",
    "for s in str: result.setdefault(tuple(sorted(s)), []).append(s)\n",
    "print(list(result.values()))\n"
   ]
  },
  {
   "cell_type": "markdown",
   "id": "b0d59ae9-a988-40df-a979-0e1c4c450547",
   "metadata": {},
   "source": [
    "### 5. Write a function to multiply two large numbers represented as strings.\n",
    "   - Input: num1 = \"123\", num2 = \"456\"\n"
   ]
  },
  {
   "cell_type": "code",
   "execution_count": 2,
   "id": "23311c23-e58b-4790-84b5-8a5b1e8275e6",
   "metadata": {},
   "outputs": [],
   "source": [
    "def multiply(num1=123, num2=456):\n",
    "    \n",
    "    # Base cases\n",
    "    if num1 == \"0\" or num2 == \"0\":\n",
    "        return \"0\"\n",
    "    \n",
    "    # num1 and num2 are not zero\n",
    "    \n",
    "    # Initialize result\n",
    "    result = [0] * (len(num1) + len(num2))\n",
    "    \n",
    "    # Go from right to left in num1\n",
    "    for i in range(len(num1) - 1, -1, -1):\n",
    "        \n",
    "        # Go from right to left in num2\n",
    "        for j in range(len(num2) - 1, -1, -1):\n",
    "            \n",
    "            # Multiply digits and place them in the correct position\n",
    "            # in the result\n",
    "            result[i + j + 1] += int(num1[i]) * int(num2[j])\n",
    "            \n",
    "            # Handle carry\n",
    "            if result[i + j + 1] >= 10:\n",
    "                result[i + j] += result[i + j + 1] // 10\n",
    "                result[i + j + 1] %= 10\n",
    "    \n",
    "    # Convert result to string\n",
    "    return \"\".join(map(str, result))"
   ]
  },
  {
   "cell_type": "markdown",
   "id": "81f42c16-4fe5-4f86-85f5-5a7162ffc9a8",
   "metadata": {},
   "source": [
    "### 6. Given two strings, check if one is a rotation of the other using only one call to a string method.\r\n",
    "   - Input: str1 = \"ABCD\", str2 = \"DABC\"\r\n"
   ]
  },
  {
   "cell_type": "code",
   "execution_count": 11,
   "id": "3d4eaa6f-d052-46db-8bd2-bb83bea945a1",
   "metadata": {},
   "outputs": [
    {
     "name": "stdout",
     "output_type": "stream",
     "text": [
      "True\n"
     ]
    }
   ],
   "source": [
    "str1 = \"ABCD\"\n",
    "str2 = \"DABC\"\n",
    "# Check if lengths are equal and if str2 is in the concatenated str1\n",
    "is_rotation = len(str1) == len(str2) and str2 in (str1 + str1)\n",
    "print(is_rotation) \n"
   ]
  },
  {
   "cell_type": "markdown",
   "id": "f5c19589-9d7d-43cf-80e2-073cc95715ca",
   "metadata": {},
   "source": [
    "### 7. Given a string containing just the characters (, ), {, }, [, and ], determine if the input string is valid.\r\n",
    "   - Input: \"()[]{}\"\r\n"
   ]
  },
  {
   "cell_type": "code",
   "execution_count": 14,
   "id": "ab1c1b61-3147-40a9-9a39-0398cf6d50cc",
   "metadata": {},
   "outputs": [
    {
     "name": "stdout",
     "output_type": "stream",
     "text": [
      "False\n"
     ]
    }
   ],
   "source": [
    "s = \"()[]{}\"\n",
    "# Check if the string is valid by continuously removing valid pairs\n",
    "is_valid = s == \"\" and all((s := s.replace(\"()\", \"\").replace(\"{}\", \"\").replace(\"[]\", \"\")) or True for _ in [0])\n",
    "print(is_valid)\n",
    "\n"
   ]
  },
  {
   "cell_type": "markdown",
   "id": "c01a3aea-11eb-41d3-9f5e-43525193d151",
   "metadata": {},
   "source": [
    "### 8. Implement the function atoi which converts a string to an integer.\r\n",
    "   - Input: \"4193 with words\"\r\n"
   ]
  },
  {
   "cell_type": "code",
   "execution_count": 16,
   "id": "098d5442-5e7b-47af-bf38-5bc08417b993",
   "metadata": {},
   "outputs": [
    {
     "name": "stdout",
     "output_type": "stream",
     "text": [
      "4193\n"
     ]
    }
   ],
   "source": [
    "s = \"4193 with words\"\n",
    "result = int(s.split()[0]) if s.split() else 0\n",
    "print(result)\n"
   ]
  },
  {
   "cell_type": "markdown",
   "id": "17fa2161-56d9-423f-b716-cc12e99afde7",
   "metadata": {},
   "source": [
    "### 9. Write a function that generates the nth term of the \"count and say\" sequence.\n",
    "   - Input: n = 4\n"
   ]
  },
  {
   "cell_type": "code",
   "execution_count": null,
   "id": "7c3588f5-f6c5-4549-bef4-2932453dec30",
   "metadata": {},
   "outputs": [],
   "source": [
    "n = 4\n",
    "# Recursive count and say implementation\n",
    "result = \"1\"\n",
    "for _ in range(n - 1):\n",
    "    result = ''.join([str(result.count(digit)) + digit for digit in set(result)])\n",
    "\n",
    "print(result)  # Output: \"1211\"\n"
   ]
  },
  {
   "cell_type": "markdown",
   "id": "6b674d27-c124-44a4-9c79-afc6b7c57419",
   "metadata": {},
   "source": [
    "### 10. Given two strings s and t, return the minimum window in s which will contain all the characters in t.\r\n",
    "   - Input: s = \"ADOBECODEBANC\", t = \"ABC\"\r\n"
   ]
  },
  {
   "cell_type": "code",
   "execution_count": 40,
   "id": "b5ec6aa0-962c-484e-b6b4-159c2bd3fa22",
   "metadata": {},
   "outputs": [
    {
     "name": "stdout",
     "output_type": "stream",
     "text": [
      "BANC\n"
     ]
    }
   ],
   "source": [
    "s, t = \"ADOBECODEBANC\", \"ABC\"\n",
    "min_window = min((s[i:j] for i in range(len(s)) for j in range(i + 1, len(s) + 1) if all(c in s[i:j] for c in set(t))), key=len, default=\"\")\n",
    "print(min_window)\n"
   ]
  },
  {
   "cell_type": "markdown",
   "id": "7291c5f0-0831-4ceb-8445-e8b6351ca409",
   "metadata": {},
   "source": [
    "### 11. Given a string, find the length of the longest substring without repeating characters.\n",
    "   - Input: \"abcabcbb\"\n"
   ]
  },
  {
   "cell_type": "code",
   "execution_count": 41,
   "id": "9221245b-d455-4ac1-b91e-97a7665b1395",
   "metadata": {},
   "outputs": [
    {
     "name": "stdout",
     "output_type": "stream",
     "text": [
      "3\n"
     ]
    }
   ],
   "source": [
    "s = \"abcabcbb\"\n",
    "max_length = len(set(s)) if len(s) <= len(set(s)) else max(len(set(s[i:j])) for i in range(len(s)) for j in range(i + 1, len(s) + 1))\n",
    "print(max_length)\n"
   ]
  },
  {
   "cell_type": "markdown",
   "id": "4ee7971e-5e56-4d0f-a879-3d9cad1562b2",
   "metadata": {},
   "source": [
    "### 12. Given three strings s1, s2, and s3, determine if s3 is formed by the interleaving of s1 and s2.\n",
    "   - Input: s1 = \"aabcc\", s2 = \"dbbca\", s3 = \"aadbbcbcac\"\n"
   ]
  },
  {
   "cell_type": "code",
   "execution_count": 38,
   "id": "8beba192-c6c7-43dd-b5b4-288a847ba603",
   "metadata": {},
   "outputs": [
    {
     "name": "stdout",
     "output_type": "stream",
     "text": [
      "True\n"
     ]
    }
   ],
   "source": [
    "s1, s2, s3 = \"aabcc\", \"dbbca\", \"aadbbcbcac\"\n",
    "is_interleave = len(s3) == len(s1) + len(s2) and all(s3.count(c) == s1.count(c) + s2.count(c) for c in set(s3))\n",
    "print(is_interleave)\n"
   ]
  },
  {
   "cell_type": "markdown",
   "id": "0601c8cf-0ba7-49d7-adb1-4c788fe402cb",
   "metadata": {},
   "source": [
    "### 13. Write a function to convert a Roman numeral to an integer.\n",
    "   - Input: \"MCMXCIV\"\n"
   ]
  },
  {
   "cell_type": "code",
   "execution_count": 47,
   "id": "91d06d12-9454-406e-aa82-37b59ec7b665",
   "metadata": {},
   "outputs": [
    {
     "name": "stdout",
     "output_type": "stream",
     "text": [
      "2216\n"
     ]
    }
   ],
   "source": [
    "def roman_to_int(s):\n",
    "    return sum({'I': 1, 'V': 5, 'X': 10, 'L': 50, 'C': 100, 'D': 500, 'M': 1000}[c] for c in s)\n",
    "\n",
    "# Example usage\n",
    "result = roman_to_int(\"MCMXCIV\")\n",
    "print(result)\n",
    "\n"
   ]
  },
  {
   "cell_type": "markdown",
   "id": "79caf0ab-e8a9-4c74-a11c-6d9152a55164",
   "metadata": {},
   "source": [
    "### 14. Find the longest common substring between two strings.\r\n",
    "   - Input: str1 = \"ABABC\", str2 = \"BABCA\"\r\n"
   ]
  },
  {
   "cell_type": "code",
   "execution_count": 48,
   "id": "7e5d3a59-05ae-40aa-a809-085ed3693e7f",
   "metadata": {},
   "outputs": [
    {
     "name": "stdout",
     "output_type": "stream",
     "text": [
      "BABC\n"
     ]
    }
   ],
   "source": [
    "def longest_common_substring(str1, str2):\n",
    "    return max((str1[i:j] for i in range(len(str1)) for j in range(i + 1, len(str1) + 1) if str1[i:j] in str2), key=len, default=\"\")\n",
    "\n",
    "# Example usage\n",
    "result = longest_common_substring(\"ABABC\", \"BABCA\")  # Returns \"AB\"\n",
    "print(result)\n"
   ]
  },
  {
   "cell_type": "markdown",
   "id": "23224fa1-6f09-410d-bec2-0cde709e1090",
   "metadata": {},
   "source": [
    "### 15. Given a string s and a dictionary of words, check if s can be segmented into a space-separated sequence of one or more dictionary words.\r\n",
    "   - Input: s = \"leetcode\", wordDict = [\"leet\", \"code\"]\r\n"
   ]
  },
  {
   "cell_type": "code",
   "execution_count": 49,
   "id": "e8f0ad45-fa52-4582-95dc-4793f590a276",
   "metadata": {},
   "outputs": [
    {
     "name": "stdout",
     "output_type": "stream",
     "text": [
      "False\n"
     ]
    }
   ],
   "source": [
    "def word_break(s, wordDict):\n",
    "    return any(s[:i] in wordDict and word_break(s[i:], wordDict) for i in range(1, len(s) + 1))\n",
    "\n",
    "# Example usage\n",
    "result = word_break(\"leetcode\", [\"leet\", \"code\"])  # Returns True\n",
    "print(result)\n"
   ]
  },
  {
   "cell_type": "markdown",
   "id": "3edf418f-11bc-4768-b6a5-82d2e7d9f3f2",
   "metadata": {},
   "source": [
    "### 16. Remove the minimum number of invalid parentheses to make the input string valid. Return all possible results.\r\n",
    "   - Input: \"()())()\"\r\n"
   ]
  },
  {
   "cell_type": "code",
   "execution_count": 50,
   "id": "6af4d953-3098-441e-bce8-066f6544c0b7",
   "metadata": {},
   "outputs": [
    {
     "name": "stdout",
     "output_type": "stream",
     "text": [
      "['()()()', '(())()']\n"
     ]
    }
   ],
   "source": [
    "def remove_invalid_parentheses(s):\n",
    "    def valid(s): return s.count('(') == s.count(')') and all(s[:i].count('(') >= s[:i].count(')') for i in range(len(s)))\n",
    "    level, results = {s}, set()\n",
    "    while level and not (results := {x for x in level if valid(x)}): level = {s[:i] + s[i + 1:] for s in level for i in range(len(s)) if s[i] in '()'}\n",
    "    return list(results)\n",
    "\n",
    "# Example usage\n",
    "result = remove_invalid_parentheses(\"()())()\")  # Returns [\"(())()\", \"()()()\"]\n",
    "print(result)\n"
   ]
  },
  {
   "cell_type": "code",
   "execution_count": null,
   "id": "b914f088-53e8-47da-ae65-a58227560be9",
   "metadata": {},
   "outputs": [],
   "source": []
  }
 ],
 "metadata": {
  "kernelspec": {
   "display_name": "Python 3 (ipykernel)",
   "language": "python",
   "name": "python3"
  },
  "language_info": {
   "codemirror_mode": {
    "name": "ipython",
    "version": 3
   },
   "file_extension": ".py",
   "mimetype": "text/x-python",
   "name": "python",
   "nbconvert_exporter": "python",
   "pygments_lexer": "ipython3",
   "version": "3.11.7"
  }
 },
 "nbformat": 4,
 "nbformat_minor": 5
}
