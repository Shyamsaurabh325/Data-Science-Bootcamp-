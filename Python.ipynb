{
 "cells": [
  {
   "cell_type": "markdown",
   "id": "18b72e8f-3d19-4e04-8685-ebb2c0cc7081",
   "metadata": {},
   "source": [
    "# Day 1"
   ]
  },
  {
   "cell_type": "code",
   "execution_count": 2,
   "id": "0338d777-03ff-43ab-bb33-2ee81165e4a5",
   "metadata": {},
   "outputs": [],
   "source": [
    "a= 10 "
   ]
  },
  {
   "cell_type": "code",
   "execution_count": 3,
   "id": "a2212330-d720-42b7-8452-f25a6fe4bd31",
   "metadata": {},
   "outputs": [
    {
     "data": {
      "text/plain": [
       "30"
      ]
     },
     "execution_count": 3,
     "metadata": {},
     "output_type": "execute_result"
    }
   ],
   "source": [
    "a+20"
   ]
  },
  {
   "cell_type": "code",
   "execution_count": 4,
   "id": "2b89996b-cbd6-435e-99bb-1fec5b1927a8",
   "metadata": {},
   "outputs": [
    {
     "data": {
      "text/plain": [
       "int"
      ]
     },
     "execution_count": 4,
     "metadata": {},
     "output_type": "execute_result"
    }
   ],
   "source": [
    "type(a)"
   ]
  },
  {
   "cell_type": "code",
   "execution_count": 5,
   "id": "2823801f-f3dc-4c3e-a8e6-4d6d4e025d64",
   "metadata": {},
   "outputs": [],
   "source": [
    "s=\"audh\""
   ]
  },
  {
   "cell_type": "code",
   "execution_count": 6,
   "id": "b5003ac5-3d70-476d-a09e-1bf5c5b66789",
   "metadata": {},
   "outputs": [
    {
     "data": {
      "text/plain": [
       "str"
      ]
     },
     "execution_count": 6,
     "metadata": {},
     "output_type": "execute_result"
    }
   ],
   "source": [
    "type(s)"
   ]
  },
  {
   "cell_type": "code",
   "execution_count": 7,
   "id": "f813a08e-1978-49de-81f7-ed08ba20f586",
   "metadata": {},
   "outputs": [],
   "source": [
    "b=56.56"
   ]
  },
  {
   "cell_type": "code",
   "execution_count": 8,
   "id": "ac01e966-3040-421e-af86-c6dbb4ae2672",
   "metadata": {},
   "outputs": [
    {
     "data": {
      "text/plain": [
       "float"
      ]
     },
     "execution_count": 8,
     "metadata": {},
     "output_type": "execute_result"
    }
   ],
   "source": [
    "type(b)"
   ]
  },
  {
   "cell_type": "code",
   "execution_count": 9,
   "id": "e89692c8-4e26-4fff-91bb-ec52a39bdd4c",
   "metadata": {},
   "outputs": [],
   "source": [
    "s1='sudhsfsdf'"
   ]
  },
  {
   "cell_type": "code",
   "execution_count": 10,
   "id": "0e729e2a-a1e6-4a08-9c31-cc6a818300c9",
   "metadata": {},
   "outputs": [
    {
     "data": {
      "text/plain": [
       "str"
      ]
     },
     "execution_count": 10,
     "metadata": {},
     "output_type": "execute_result"
    }
   ],
   "source": [
    "type(s1)"
   ]
  },
  {
   "cell_type": "code",
   "execution_count": 11,
   "id": "80620af4-29d7-4617-8234-02677fc81117",
   "metadata": {},
   "outputs": [],
   "source": [
    "s=\"fdf\""
   ]
  },
  {
   "cell_type": "code",
   "execution_count": 12,
   "id": "e1dc4f0a-8854-4cdd-b698-dcd16a7c411b",
   "metadata": {},
   "outputs": [],
   "source": [
    "S=\"dsdfd\""
   ]
  },
  {
   "cell_type": "code",
   "execution_count": 13,
   "id": "73a82f1b-64f7-4aee-b272-d8f261961b1c",
   "metadata": {},
   "outputs": [
    {
     "data": {
      "text/plain": [
       "'fdf'"
      ]
     },
     "execution_count": 13,
     "metadata": {},
     "output_type": "execute_result"
    }
   ],
   "source": [
    "s"
   ]
  },
  {
   "cell_type": "code",
   "execution_count": 14,
   "id": "a0c5c9f1-a1e7-4cf8-93a8-a8e7c59996ea",
   "metadata": {},
   "outputs": [
    {
     "data": {
      "text/plain": [
       "'fdf'"
      ]
     },
     "execution_count": 14,
     "metadata": {},
     "output_type": "execute_result"
    }
   ],
   "source": [
    "s"
   ]
  },
  {
   "cell_type": "code",
   "execution_count": 15,
   "id": "211f80fc-3e11-43f2-bb48-1e014ee630b9",
   "metadata": {},
   "outputs": [
    {
     "data": {
      "text/plain": [
       "'dsdfd'"
      ]
     },
     "execution_count": 15,
     "metadata": {},
     "output_type": "execute_result"
    }
   ],
   "source": [
    "S"
   ]
  },
  {
   "cell_type": "code",
   "execution_count": 16,
   "id": "b421c295-1fac-453e-9231-b715810aa887",
   "metadata": {},
   "outputs": [
    {
     "ename": "TypeError",
     "evalue": "not all arguments converted during string formatting",
     "output_type": "error",
     "traceback": [
      "\u001b[1;31m---------------------------------------------------------------------------\u001b[0m",
      "\u001b[1;31mTypeError\u001b[0m                                 Traceback (most recent call last)",
      "Cell \u001b[1;32mIn[16], line 1\u001b[0m\n\u001b[1;32m----> 1\u001b[0m s\u001b[38;5;241m%\u001b[39m\u001b[38;5;241m=\u001b[39m\u001b[38;5;124m\"\u001b[39m\u001b[38;5;124mfdddfds\u001b[39m\u001b[38;5;124m\"\u001b[39m\n",
      "\u001b[1;31mTypeError\u001b[0m: not all arguments converted during string formatting"
     ]
    }
   ],
   "source": [
    "s%=\"fdddfds\""
   ]
  },
  {
   "cell_type": "code",
   "execution_count": null,
   "id": "f0427d47-7f7c-43e5-a1b4-e6d60da26275",
   "metadata": {},
   "outputs": [],
   "source": [
    "type(s)"
   ]
  },
  {
   "cell_type": "code",
   "execution_count": 17,
   "id": "d6585d19-8c7f-44f0-8379-9900e0594971",
   "metadata": {},
   "outputs": [
    {
     "name": "stdout",
     "output_type": "stream",
     "text": [
      "dsdfd\n"
     ]
    }
   ],
   "source": [
    "print(S)"
   ]
  },
  {
   "cell_type": "code",
   "execution_count": 18,
   "id": "3f32836e-e4bf-4406-b9de-111385800161",
   "metadata": {},
   "outputs": [
    {
     "data": {
      "text/plain": [
       "'fdf'"
      ]
     },
     "execution_count": 18,
     "metadata": {},
     "output_type": "execute_result"
    }
   ],
   "source": [
    "s"
   ]
  },
  {
   "cell_type": "code",
   "execution_count": 19,
   "id": "03723864-9fc1-44d0-9e7c-147f77cdafcd",
   "metadata": {},
   "outputs": [],
   "source": [
    "b=True"
   ]
  },
  {
   "cell_type": "code",
   "execution_count": 20,
   "id": "a065a64f-a9b1-411e-a08c-dcb2b32a381d",
   "metadata": {},
   "outputs": [
    {
     "data": {
      "text/plain": [
       "True"
      ]
     },
     "execution_count": 20,
     "metadata": {},
     "output_type": "execute_result"
    }
   ],
   "source": [
    "b"
   ]
  },
  {
   "cell_type": "code",
   "execution_count": 21,
   "id": "6e5bd4b0-f9df-4f8a-9fec-68657fb03915",
   "metadata": {},
   "outputs": [],
   "source": [
    "b1=False"
   ]
  },
  {
   "cell_type": "code",
   "execution_count": 22,
   "id": "65741dac-16a4-4323-bc84-0d1718bded2a",
   "metadata": {},
   "outputs": [
    {
     "data": {
      "text/plain": [
       "True"
      ]
     },
     "execution_count": 22,
     "metadata": {},
     "output_type": "execute_result"
    }
   ],
   "source": [
    "b"
   ]
  },
  {
   "cell_type": "code",
   "execution_count": 23,
   "id": "07b650f9-ecc2-4008-8cda-4c8141584a27",
   "metadata": {},
   "outputs": [
    {
     "data": {
      "text/plain": [
       "False"
      ]
     },
     "execution_count": 23,
     "metadata": {},
     "output_type": "execute_result"
    }
   ],
   "source": [
    "b1"
   ]
  },
  {
   "cell_type": "code",
   "execution_count": 24,
   "id": "af323dbb-cc9d-414e-8509-c1e0dd5ff18b",
   "metadata": {},
   "outputs": [
    {
     "data": {
      "text/plain": [
       "1"
      ]
     },
     "execution_count": 24,
     "metadata": {},
     "output_type": "execute_result"
    }
   ],
   "source": [
    "True+False"
   ]
  },
  {
   "cell_type": "code",
   "execution_count": 25,
   "id": "1b169a48-e599-4966-937f-df66778ae2d2",
   "metadata": {},
   "outputs": [
    {
     "data": {
      "text/plain": [
       "0"
      ]
     },
     "execution_count": 25,
     "metadata": {},
     "output_type": "execute_result"
    }
   ],
   "source": [
    "False-False"
   ]
  },
  {
   "cell_type": "code",
   "execution_count": 26,
   "id": "9403433f-644a-45ac-ab24-1d143a939b4b",
   "metadata": {},
   "outputs": [
    {
     "data": {
      "text/plain": [
       "1"
      ]
     },
     "execution_count": 26,
     "metadata": {},
     "output_type": "execute_result"
    }
   ],
   "source": [
    "True*True"
   ]
  },
  {
   "cell_type": "code",
   "execution_count": 27,
   "id": "5e6e0e4b-9a54-4b07-a20d-610fef421e10",
   "metadata": {},
   "outputs": [],
   "source": [
    "c=7+6j"
   ]
  },
  {
   "cell_type": "code",
   "execution_count": 28,
   "id": "89a2fbf5-10e5-4f69-91fd-931bd1087602",
   "metadata": {},
   "outputs": [
    {
     "data": {
      "text/plain": [
       "complex"
      ]
     },
     "execution_count": 28,
     "metadata": {},
     "output_type": "execute_result"
    }
   ],
   "source": [
    "type(c)"
   ]
  },
  {
   "cell_type": "code",
   "execution_count": 29,
   "id": "569e2d3c-3f68-4a58-ad86-3f3889292978",
   "metadata": {},
   "outputs": [
    {
     "data": {
      "text/plain": [
       "7.0"
      ]
     },
     "execution_count": 29,
     "metadata": {},
     "output_type": "execute_result"
    }
   ],
   "source": [
    "c.real"
   ]
  },
  {
   "cell_type": "code",
   "execution_count": 30,
   "id": "4764919b-547c-4e93-bff3-012d2e460267",
   "metadata": {},
   "outputs": [
    {
     "data": {
      "text/plain": [
       "6.0"
      ]
     },
     "execution_count": 30,
     "metadata": {},
     "output_type": "execute_result"
    }
   ],
   "source": [
    "c.imag"
   ]
  },
  {
   "cell_type": "code",
   "execution_count": 31,
   "id": "382bb94e-c726-4425-8c12-d13e70daa7da",
   "metadata": {},
   "outputs": [],
   "source": [
    "s=\"audh\""
   ]
  },
  {
   "cell_type": "code",
   "execution_count": 32,
   "id": "7e4bddab-2743-40f5-8e30-c6ca3efffbf7",
   "metadata": {},
   "outputs": [
    {
     "data": {
      "text/plain": [
       "'audh'"
      ]
     },
     "execution_count": 32,
     "metadata": {},
     "output_type": "execute_result"
    }
   ],
   "source": [
    "s"
   ]
  },
  {
   "cell_type": "code",
   "execution_count": 33,
   "id": "99d7408c-18a3-4485-a7a2-ead0eca44d50",
   "metadata": {},
   "outputs": [
    {
     "ename": "TypeError",
     "evalue": "can only concatenate str (not \"int\") to str",
     "output_type": "error",
     "traceback": [
      "\u001b[1;31m---------------------------------------------------------------------------\u001b[0m",
      "\u001b[1;31mTypeError\u001b[0m                                 Traceback (most recent call last)",
      "Cell \u001b[1;32mIn[33], line 1\u001b[0m\n\u001b[1;32m----> 1\u001b[0m s\u001b[38;5;241m+\u001b[39m\u001b[38;5;241m3\u001b[39m\n",
      "\u001b[1;31mTypeError\u001b[0m: can only concatenate str (not \"int\") to str"
     ]
    }
   ],
   "source": [
    "s+3"
   ]
  },
  {
   "cell_type": "code",
   "execution_count": null,
   "id": "12087cf0-dcdd-4e2a-b17f-47f573e48ca5",
   "metadata": {},
   "outputs": [],
   "source": [
    "s+\"3\""
   ]
  },
  {
   "cell_type": "code",
   "execution_count": 34,
   "id": "9f939b0c-ff76-48ec-a356-fcc12afe3120",
   "metadata": {},
   "outputs": [
    {
     "data": {
      "text/plain": [
       "'audh3'"
      ]
     },
     "execution_count": 34,
     "metadata": {},
     "output_type": "execute_result"
    }
   ],
   "source": [
    "s+str(3)"
   ]
  },
  {
   "cell_type": "code",
   "execution_count": 35,
   "id": "7879d693-7985-48cd-9ec7-552a60fe691e",
   "metadata": {},
   "outputs": [],
   "source": [
    "student=\"neuron\""
   ]
  },
  {
   "cell_type": "code",
   "execution_count": 36,
   "id": "4d3936a0-a0f8-4fce-b730-a364a95d5f0c",
   "metadata": {},
   "outputs": [
    {
     "name": "stdout",
     "output_type": "stream",
     "text": [
      "neuron\n"
     ]
    }
   ],
   "source": [
    "print(student)"
   ]
  },
  {
   "cell_type": "code",
   "execution_count": 37,
   "id": "b889203a-69d4-4171-b343-1dbe30e29500",
   "metadata": {},
   "outputs": [],
   "source": [
    "s=\"ineorno\""
   ]
  },
  {
   "cell_type": "code",
   "execution_count": 38,
   "id": "0e0ca574-fce9-4a13-ab04-d521bcd58925",
   "metadata": {},
   "outputs": [
    {
     "data": {
      "text/plain": [
       "str"
      ]
     },
     "execution_count": 38,
     "metadata": {},
     "output_type": "execute_result"
    }
   ],
   "source": [
    "type(s)"
   ]
  },
  {
   "cell_type": "code",
   "execution_count": 39,
   "id": "ac365385-2955-4208-815a-4109eecdd89a",
   "metadata": {},
   "outputs": [
    {
     "data": {
      "text/plain": [
       "'i'"
      ]
     },
     "execution_count": 39,
     "metadata": {},
     "output_type": "execute_result"
    }
   ],
   "source": [
    "s[0]"
   ]
  },
  {
   "cell_type": "code",
   "execution_count": 40,
   "id": "2ab1e68c-73e3-4769-96d7-cb8a3307e27f",
   "metadata": {},
   "outputs": [
    {
     "data": {
      "text/plain": [
       "'n'"
      ]
     },
     "execution_count": 40,
     "metadata": {},
     "output_type": "execute_result"
    }
   ],
   "source": [
    "s[5]"
   ]
  },
  {
   "cell_type": "code",
   "execution_count": 41,
   "id": "306906b2-c814-4b40-8096-b8d2a0b530f1",
   "metadata": {},
   "outputs": [
    {
     "data": {
      "text/plain": [
       "'o'"
      ]
     },
     "execution_count": 41,
     "metadata": {},
     "output_type": "execute_result"
    }
   ],
   "source": [
    "s[-1]"
   ]
  },
  {
   "cell_type": "code",
   "execution_count": 42,
   "id": "362a5370-bdf3-40f7-9696-cc6a67a52962",
   "metadata": {},
   "outputs": [],
   "source": [
    "s1=\"audh\""
   ]
  },
  {
   "cell_type": "code",
   "execution_count": 43,
   "id": "cf793f80-dd9f-4a9b-a625-ff4118e2fad2",
   "metadata": {},
   "outputs": [
    {
     "data": {
      "text/plain": [
       "'a'"
      ]
     },
     "execution_count": 43,
     "metadata": {},
     "output_type": "execute_result"
    }
   ],
   "source": [
    "s1[0]"
   ]
  },
  {
   "cell_type": "code",
   "execution_count": 44,
   "id": "cba41253-13e5-42db-8b60-8abca60ff03d",
   "metadata": {},
   "outputs": [
    {
     "data": {
      "text/plain": [
       "'h'"
      ]
     },
     "execution_count": 44,
     "metadata": {},
     "output_type": "execute_result"
    }
   ],
   "source": [
    "s1[-1]"
   ]
  },
  {
   "cell_type": "code",
   "execution_count": 45,
   "id": "e79b6390-a4d1-48d9-a646-ee1580e7ea07",
   "metadata": {},
   "outputs": [
    {
     "data": {
      "text/plain": [
       "'d'"
      ]
     },
     "execution_count": 45,
     "metadata": {},
     "output_type": "execute_result"
    }
   ],
   "source": [
    "s1[-2]"
   ]
  },
  {
   "cell_type": "code",
   "execution_count": 46,
   "id": "cae07680-331a-41d6-bd42-370ba886c648",
   "metadata": {},
   "outputs": [],
   "source": [
    "s2=\"this is my very first program class's\""
   ]
  },
  {
   "cell_type": "code",
   "execution_count": 47,
   "id": "798fea5b-87d8-480e-82b2-bfa408118266",
   "metadata": {},
   "outputs": [
    {
     "data": {
      "text/plain": [
       "\"this is my very first program class's\""
      ]
     },
     "execution_count": 47,
     "metadata": {},
     "output_type": "execute_result"
    }
   ],
   "source": [
    "s2"
   ]
  },
  {
   "cell_type": "code",
   "execution_count": 48,
   "id": "9bf292f4-0178-46c8-abc3-b1ddc571b186",
   "metadata": {},
   "outputs": [
    {
     "data": {
      "text/plain": [
       "'m'"
      ]
     },
     "execution_count": 48,
     "metadata": {},
     "output_type": "execute_result"
    }
   ],
   "source": [
    "s2[8]"
   ]
  },
  {
   "cell_type": "code",
   "execution_count": 49,
   "id": "f1bb685b-1a8a-49b1-bcab-f448fe22eee1",
   "metadata": {},
   "outputs": [
    {
     "data": {
      "text/plain": [
       "\"this is my very first program class's\""
      ]
     },
     "execution_count": 49,
     "metadata": {},
     "output_type": "execute_result"
    }
   ],
   "source": [
    "s2"
   ]
  },
  {
   "cell_type": "code",
   "execution_count": 50,
   "id": "0a69cdf6-39fa-4d3b-8ee3-874ed40505bc",
   "metadata": {},
   "outputs": [
    {
     "data": {
      "text/plain": [
       "'his '"
      ]
     },
     "execution_count": 50,
     "metadata": {},
     "output_type": "execute_result"
    }
   ],
   "source": [
    "s2[1:5]"
   ]
  },
  {
   "cell_type": "code",
   "execution_count": 51,
   "id": "c2e895b9-450e-413a-90e6-8c63664b6a7f",
   "metadata": {},
   "outputs": [
    {
     "data": {
      "text/plain": [
       "'s my very first program '"
      ]
     },
     "execution_count": 51,
     "metadata": {},
     "output_type": "execute_result"
    }
   ],
   "source": [
    "s2[6:30]"
   ]
  },
  {
   "cell_type": "code",
   "execution_count": 52,
   "id": "f71b73f9-ba3d-433c-87c5-a1cbc3fb3b22",
   "metadata": {},
   "outputs": [
    {
     "data": {
      "text/plain": [
       "'sm eyfrtporm'"
      ]
     },
     "execution_count": 52,
     "metadata": {},
     "output_type": "execute_result"
    }
   ],
   "source": [
    "s2[6:30:2]"
   ]
  },
  {
   "cell_type": "code",
   "execution_count": 53,
   "id": "5fdbb164-78f1-47c4-9d87-32a62ae955b8",
   "metadata": {},
   "outputs": [],
   "source": [
    "s=\"python\""
   ]
  },
  {
   "cell_type": "code",
   "execution_count": 54,
   "id": "7e444393-172f-4b1e-b555-57125791cb9d",
   "metadata": {},
   "outputs": [
    {
     "data": {
      "text/plain": [
       "'python'"
      ]
     },
     "execution_count": 54,
     "metadata": {},
     "output_type": "execute_result"
    }
   ],
   "source": [
    "s[0:9:1]"
   ]
  },
  {
   "cell_type": "code",
   "execution_count": 55,
   "id": "367e2946-dbe2-4e55-a40d-00adfa96cf03",
   "metadata": {},
   "outputs": [
    {
     "data": {
      "text/plain": [
       "'python'"
      ]
     },
     "execution_count": 55,
     "metadata": {},
     "output_type": "execute_result"
    }
   ],
   "source": [
    "s"
   ]
  },
  {
   "cell_type": "code",
   "execution_count": 56,
   "id": "a03079e1-14d1-467e-a800-faeb5531325a",
   "metadata": {},
   "outputs": [
    {
     "data": {
      "text/plain": [
       "''"
      ]
     },
     "execution_count": 56,
     "metadata": {},
     "output_type": "execute_result"
    }
   ],
   "source": [
    "s[0:8:-1]"
   ]
  },
  {
   "cell_type": "code",
   "execution_count": 57,
   "id": "e8e34abc-bd4c-41c7-9fbf-5705087412c6",
   "metadata": {},
   "outputs": [
    {
     "data": {
      "text/plain": [
       "'nohty'"
      ]
     },
     "execution_count": 57,
     "metadata": {},
     "output_type": "execute_result"
    }
   ],
   "source": [
    "s[8:0:-1]"
   ]
  },
  {
   "cell_type": "code",
   "execution_count": 58,
   "id": "e2b3abb7-c3ab-4cf4-8689-2dcdd7f02e4a",
   "metadata": {},
   "outputs": [
    {
     "data": {
      "text/plain": [
       "'nhy'"
      ]
     },
     "execution_count": 58,
     "metadata": {},
     "output_type": "execute_result"
    }
   ],
   "source": [
    "s[8:0:-2]"
   ]
  },
  {
   "cell_type": "code",
   "execution_count": 59,
   "id": "3ee4b838-f17b-40de-8e42-67bb55792406",
   "metadata": {},
   "outputs": [
    {
     "data": {
      "text/plain": [
       "'python'"
      ]
     },
     "execution_count": 59,
     "metadata": {},
     "output_type": "execute_result"
    }
   ],
   "source": [
    "s"
   ]
  },
  {
   "cell_type": "code",
   "execution_count": 60,
   "id": "9752054f-2e34-4ec2-859e-3c3f4e89c6b9",
   "metadata": {},
   "outputs": [
    {
     "data": {
      "text/plain": [
       "'pyt'"
      ]
     },
     "execution_count": 60,
     "metadata": {},
     "output_type": "execute_result"
    }
   ],
   "source": [
    "s[:-3]"
   ]
  },
  {
   "cell_type": "code",
   "execution_count": 61,
   "id": "9e5f0398-d901-4064-b26c-8e2206fbfc09",
   "metadata": {},
   "outputs": [
    {
     "data": {
      "text/plain": [
       "'on'"
      ]
     },
     "execution_count": 61,
     "metadata": {},
     "output_type": "execute_result"
    }
   ],
   "source": [
    "s[-2:]"
   ]
  },
  {
   "cell_type": "code",
   "execution_count": 62,
   "id": "6e25565b-3e7d-45b4-9389-2efb83b8df08",
   "metadata": {},
   "outputs": [
    {
     "data": {
      "text/plain": [
       "'python'"
      ]
     },
     "execution_count": 62,
     "metadata": {},
     "output_type": "execute_result"
    }
   ],
   "source": [
    "s[::1]"
   ]
  },
  {
   "cell_type": "code",
   "execution_count": 63,
   "id": "f11d87ae-bdb1-4f38-af04-eefec4190d00",
   "metadata": {},
   "outputs": [
    {
     "data": {
      "text/plain": [
       "'python'"
      ]
     },
     "execution_count": 63,
     "metadata": {},
     "output_type": "execute_result"
    }
   ],
   "source": [
    "s[0:50:1]"
   ]
  },
  {
   "cell_type": "code",
   "execution_count": 64,
   "id": "19bfe8c0-ac07-4ed0-b3d1-c98f692ca40d",
   "metadata": {},
   "outputs": [
    {
     "data": {
      "text/plain": [
       "'nohtyp'"
      ]
     },
     "execution_count": 64,
     "metadata": {},
     "output_type": "execute_result"
    }
   ],
   "source": [
    "s[::-1]"
   ]
  },
  {
   "cell_type": "code",
   "execution_count": 65,
   "id": "a7957447-c7ac-45fb-bc16-a32bca069e5c",
   "metadata": {},
   "outputs": [
    {
     "ename": "TypeError",
     "evalue": "'str' object does not support item assignment",
     "output_type": "error",
     "traceback": [
      "\u001b[1;31m---------------------------------------------------------------------------\u001b[0m",
      "\u001b[1;31mTypeError\u001b[0m                                 Traceback (most recent call last)",
      "Cell \u001b[1;32mIn[65], line 1\u001b[0m\n\u001b[1;32m----> 1\u001b[0m s[\u001b[38;5;241m8\u001b[39m:\u001b[38;5;241m0\u001b[39m:\u001b[38;5;241m-\u001b[39m\u001b[38;5;241m1\u001b[39m]\u001b[38;5;241m=\u001b[39m\u001b[38;5;124m\"\u001b[39m\u001b[38;5;124monthpy how s will come?\u001b[39m\u001b[38;5;124m\"\u001b[39m\n",
      "\u001b[1;31mTypeError\u001b[0m: 'str' object does not support item assignment"
     ]
    }
   ],
   "source": [
    "s[8:0:-1]=\"onthpy how s will come?\""
   ]
  },
  {
   "cell_type": "code",
   "execution_count": null,
   "id": "c82bb258-36e5-4b41-9a19-448d735025aa",
   "metadata": {},
   "outputs": [],
   "source": [
    "s[8:0:-1]"
   ]
  },
  {
   "cell_type": "code",
   "execution_count": null,
   "id": "d711da6c-8735-45d3-860d-b22a4f2ea81c",
   "metadata": {},
   "outputs": [],
   "source": [
    "s"
   ]
  },
  {
   "cell_type": "code",
   "execution_count": 66,
   "id": "3f7b4359-10fc-4bc3-b0cb-099e94d47a9d",
   "metadata": {},
   "outputs": [],
   "source": [
    "s=\"neournon\""
   ]
  },
  {
   "cell_type": "code",
   "execution_count": 67,
   "id": "b74a9ff7-29c9-4ca7-b76f-666145eec6bd",
   "metadata": {},
   "outputs": [
    {
     "data": {
      "text/plain": [
       "''"
      ]
     },
     "execution_count": 67,
     "metadata": {},
     "output_type": "execute_result"
    }
   ],
   "source": [
    "s[-2:-7:1]"
   ]
  },
  {
   "cell_type": "code",
   "execution_count": 68,
   "id": "ef9216e5-e730-45ec-a19e-270caeaf2ca8",
   "metadata": {},
   "outputs": [
    {
     "data": {
      "text/plain": [
       "'eourno'"
      ]
     },
     "execution_count": 68,
     "metadata": {},
     "output_type": "execute_result"
    }
   ],
   "source": [
    "s[-7:-1:1]"
   ]
  },
  {
   "cell_type": "code",
   "execution_count": 69,
   "id": "0f33648d-a3a3-4cf9-b324-551864bf9ccd",
   "metadata": {},
   "outputs": [
    {
     "data": {
      "text/plain": [
       "''"
      ]
     },
     "execution_count": 69,
     "metadata": {},
     "output_type": "execute_result"
    }
   ],
   "source": [
    "s[-7:0:1]"
   ]
  },
  {
   "cell_type": "code",
   "execution_count": 70,
   "id": "aa155c13-be04-4154-ab3d-5d8eab6d2926",
   "metadata": {},
   "outputs": [
    {
     "data": {
      "text/plain": [
       "''"
      ]
     },
     "execution_count": 70,
     "metadata": {},
     "output_type": "execute_result"
    }
   ],
   "source": [
    "s[:-1:-1]"
   ]
  },
  {
   "cell_type": "code",
   "execution_count": 71,
   "id": "0aeb9df5-c6c1-4913-9186-4dd08d8cf924",
   "metadata": {},
   "outputs": [
    {
     "data": {
      "text/plain": [
       "'neournon'"
      ]
     },
     "execution_count": 71,
     "metadata": {},
     "output_type": "execute_result"
    }
   ],
   "source": [
    "s"
   ]
  },
  {
   "cell_type": "code",
   "execution_count": 72,
   "id": "770e1774-f153-4f92-8998-d6bb0e752643",
   "metadata": {},
   "outputs": [
    {
     "data": {
      "text/plain": [
       "'neournonneournonneournonneournon'"
      ]
     },
     "execution_count": 72,
     "metadata": {},
     "output_type": "execute_result"
    }
   ],
   "source": [
    "s*4"
   ]
  },
  {
   "cell_type": "code",
   "execution_count": 73,
   "id": "45315a25-87e9-4f9d-9583-ff7b74104ea0",
   "metadata": {},
   "outputs": [
    {
     "data": {
      "text/plain": [
       "'neournon'"
      ]
     },
     "execution_count": 73,
     "metadata": {},
     "output_type": "execute_result"
    }
   ],
   "source": [
    "s"
   ]
  },
  {
   "cell_type": "code",
   "execution_count": 74,
   "id": "59ce655b-8815-4d7c-8bcf-a455f8f8ffb6",
   "metadata": {},
   "outputs": [
    {
     "data": {
      "text/plain": [
       "0"
      ]
     },
     "execution_count": 74,
     "metadata": {},
     "output_type": "execute_result"
    }
   ],
   "source": [
    "s.count(\"sum\")"
   ]
  },
  {
   "cell_type": "code",
   "execution_count": 75,
   "id": "7e491816-0d3b-44b9-a5d2-7dcb4b28b8c3",
   "metadata": {},
   "outputs": [
    {
     "data": {
      "text/plain": [
       "list"
      ]
     },
     "execution_count": 75,
     "metadata": {},
     "output_type": "execute_result"
    }
   ],
   "source": [
    "type(s.split(\"u\"))"
   ]
  },
  {
   "cell_type": "code",
   "execution_count": 76,
   "id": "5801e4cf-0d91-49fa-8f0a-1fb6f62036a1",
   "metadata": {},
   "outputs": [
    {
     "data": {
      "text/plain": [
       "['neo', 'rnon']"
      ]
     },
     "execution_count": 76,
     "metadata": {},
     "output_type": "execute_result"
    }
   ],
   "source": [
    "s.split(\"u\")"
   ]
  },
  {
   "cell_type": "code",
   "execution_count": 77,
   "id": "34dce9be-ffaa-4f5a-8aa7-d675f10f7e5b",
   "metadata": {},
   "outputs": [],
   "source": [
    "sw=\"\"\"Samsung Electronics Co., Ltd. (Korean: 삼성전자; Hanja: 三星電子; RR: Samseong Jeonja; lit. Tristar Electronics; \n",
    "sometimes shortened to SEC and stylised as SΛMSUNG) is a South Korean multinational major appliance and consumer \n",
    "electronics corporation founded on 13 January 1969 and headquartered in Yeongtong-gu, \n",
    "Suwon, South Korea. It is currently the pinnac\"\"\""
   ]
  },
  {
   "cell_type": "code",
   "execution_count": 78,
   "id": "66576577-72a7-497b-b224-fdcaf62921e5",
   "metadata": {},
   "outputs": [
    {
     "data": {
      "text/plain": [
       "'Samsung Electronics Co., Ltd. (Korean: 삼성전자; Hanja: 三星電子; RR: Samseong Jeonja; lit. Tristar Electronics; \\nsometimes shortened to SEC and stylised as SΛMSUNG) is a South Korean multinational major appliance and consumer \\nelectronics corporation founded on 13 January 1969 and headquartered in Yeongtong-gu, \\nSuwon, South Korea. It is currently the pinnac'"
      ]
     },
     "execution_count": 78,
     "metadata": {},
     "output_type": "execute_result"
    }
   ],
   "source": [
    "sw"
   ]
  },
  {
   "cell_type": "code",
   "execution_count": 79,
   "id": "d99a0a78-3ecf-49a4-8d2e-fc78ce5d31c6",
   "metadata": {},
   "outputs": [
    {
     "data": {
      "text/plain": [
       "['Samsung',\n",
       " 'Electronics',\n",
       " 'Co.,',\n",
       " 'Ltd.',\n",
       " '(Korean:',\n",
       " '삼성전자;',\n",
       " 'Hanja:',\n",
       " '三星電子;',\n",
       " 'RR:',\n",
       " 'Samseong',\n",
       " 'Jeonja;',\n",
       " 'lit.',\n",
       " 'Tristar',\n",
       " 'Electronics;',\n",
       " '\\nsometimes',\n",
       " 'shortened',\n",
       " 'to',\n",
       " 'SEC',\n",
       " 'and',\n",
       " 'stylised',\n",
       " 'as',\n",
       " 'SΛMSUNG)',\n",
       " 'is',\n",
       " 'a',\n",
       " 'South',\n",
       " 'Korean',\n",
       " 'multinational',\n",
       " 'major',\n",
       " 'appliance',\n",
       " 'and',\n",
       " 'consumer',\n",
       " '\\nelectronics',\n",
       " 'corporation',\n",
       " 'founded',\n",
       " 'on',\n",
       " '13',\n",
       " 'January',\n",
       " '1969',\n",
       " 'and',\n",
       " 'headquartered',\n",
       " 'in',\n",
       " 'Yeongtong-gu,',\n",
       " '\\nSuwon,',\n",
       " 'South',\n",
       " 'Korea.',\n",
       " 'It',\n",
       " 'is',\n",
       " 'currently',\n",
       " 'the',\n",
       " 'pinnac']"
      ]
     },
     "execution_count": 79,
     "metadata": {},
     "output_type": "execute_result"
    }
   ],
   "source": [
    "sw.split(' ')"
   ]
  },
  {
   "cell_type": "code",
   "execution_count": 80,
   "id": "a828fca7-7506-4fab-bbe2-38efb37fdaae",
   "metadata": {},
   "outputs": [
    {
     "data": {
      "text/plain": [
       "'Samsung Electronics Co., Ltd. (Korean: 삼성전자; Hanja: 三星電子; RR: Samseong Jeonja; lit. Tristar Electronics; \\nsometimes shortened to SEC and stylised as SΛMSUNG) is a South Korean multinational major appliance and consumer \\nelectronics corporation founded on 13 January 1969 and headquartered in Yeongtong-gu, \\nSuwon, South Korea. It is currently the pinnac'"
      ]
     },
     "execution_count": 80,
     "metadata": {},
     "output_type": "execute_result"
    }
   ],
   "source": [
    "sw"
   ]
  },
  {
   "cell_type": "code",
   "execution_count": 81,
   "id": "1428b6d1-fa23-4673-8bd5-3af04fdd8490",
   "metadata": {},
   "outputs": [
    {
     "data": {
      "text/plain": [
       "'SAMSUNG ELECTRONICS CO., LTD. (KOREAN: 삼성전자; HANJA: 三星電子; RR: SAMSEONG JEONJA; LIT. TRISTAR ELECTRONICS; \\nSOMETIMES SHORTENED TO SEC AND STYLISED AS SΛMSUNG) IS A SOUTH KOREAN MULTINATIONAL MAJOR APPLIANCE AND CONSUMER \\nELECTRONICS CORPORATION FOUNDED ON 13 JANUARY 1969 AND HEADQUARTERED IN YEONGTONG-GU, \\nSUWON, SOUTH KOREA. IT IS CURRENTLY THE PINNAC'"
      ]
     },
     "execution_count": 81,
     "metadata": {},
     "output_type": "execute_result"
    }
   ],
   "source": [
    "sw.upper()"
   ]
  },
  {
   "cell_type": "code",
   "execution_count": 82,
   "id": "e3f9ecc7-e20f-42e8-9ecf-13cb000ae4ed",
   "metadata": {},
   "outputs": [
    {
     "data": {
      "text/plain": [
       "'Samsung Electronics Co., Ltd. (Korean: 삼성전자; Hanja: 三星電子; RR: Samseong Jeonja; lit. Tristar Electronics; \\nsometimes shortened to SEC and stylised as SΛMSUNG) is a South Korean multinational major appliance and consumer \\nelectronics corporation founded on 13 January 1969 and headquartered in Yeongtong-gu, \\nSuwon, South Korea. It is currently the pinnac'"
      ]
     },
     "execution_count": 82,
     "metadata": {},
     "output_type": "execute_result"
    }
   ],
   "source": [
    "sw"
   ]
  },
  {
   "cell_type": "code",
   "execution_count": 83,
   "id": "9c5d2d7d-b9df-4c83-a29a-3cbbd82e6b62",
   "metadata": {},
   "outputs": [],
   "source": [
    "s=\"python class\""
   ]
  },
  {
   "cell_type": "code",
   "execution_count": 84,
   "id": "be604bfc-792d-49d0-ac27-c973faefc944",
   "metadata": {},
   "outputs": [
    {
     "data": {
      "text/plain": [
       "'Python Class'"
      ]
     },
     "execution_count": 84,
     "metadata": {},
     "output_type": "execute_result"
    }
   ],
   "source": [
    "s.title()"
   ]
  },
  {
   "cell_type": "code",
   "execution_count": 85,
   "id": "1deeaa6e-b6fa-4f9c-add2-99beb8d51513",
   "metadata": {},
   "outputs": [
    {
     "data": {
      "text/plain": [
       "'Python class'"
      ]
     },
     "execution_count": 85,
     "metadata": {},
     "output_type": "execute_result"
    }
   ],
   "source": [
    "s.capitalize()"
   ]
  },
  {
   "cell_type": "code",
   "execution_count": 86,
   "id": "d7c40a3f-5995-4027-8c2a-a83e7ea2ddff",
   "metadata": {},
   "outputs": [],
   "source": [
    "s=\"pyThon ClaSS\""
   ]
  },
  {
   "cell_type": "code",
   "execution_count": 87,
   "id": "62c316f6-5b87-4059-bbea-9d823d0eabdc",
   "metadata": {},
   "outputs": [
    {
     "data": {
      "text/plain": [
       "'PYtHON cLAss'"
      ]
     },
     "execution_count": 87,
     "metadata": {},
     "output_type": "execute_result"
    }
   ],
   "source": [
    "s.swapcase()"
   ]
  },
  {
   "cell_type": "code",
   "execution_count": 88,
   "id": "8ec5666a-c511-4d8f-aea9-960312a71d69",
   "metadata": {},
   "outputs": [
    {
     "data": {
      "text/plain": [
       "'SSalC nohTyp'"
      ]
     },
     "execution_count": 88,
     "metadata": {},
     "output_type": "execute_result"
    }
   ],
   "source": [
    "''.join(reversed(s))"
   ]
  },
  {
   "cell_type": "code",
   "execution_count": 89,
   "id": "209fdc1f-d38c-4045-861c-5fe9480b685e",
   "metadata": {},
   "outputs": [
    {
     "data": {
      "text/plain": [
       "'SSalC nohTyp'"
      ]
     },
     "execution_count": 89,
     "metadata": {},
     "output_type": "execute_result"
    }
   ],
   "source": [
    "s[::-1]"
   ]
  },
  {
   "cell_type": "code",
   "execution_count": 90,
   "id": "b5bbab52-8869-448e-9332-3a585c21d895",
   "metadata": {},
   "outputs": [],
   "source": [
    "s=\" py  th   \""
   ]
  },
  {
   "cell_type": "code",
   "execution_count": 91,
   "id": "f5df2b2a-3818-40cc-9a2e-866e72ae34ff",
   "metadata": {},
   "outputs": [
    {
     "data": {
      "text/plain": [
       "['py', 'th']"
      ]
     },
     "execution_count": 91,
     "metadata": {},
     "output_type": "execute_result"
    }
   ],
   "source": [
    "s.split()"
   ]
  },
  {
   "cell_type": "code",
   "execution_count": 92,
   "id": "171e30e6-a5df-4882-8eaf-38b1184dfa53",
   "metadata": {},
   "outputs": [
    {
     "data": {
      "text/plain": [
       "' py  th   '"
      ]
     },
     "execution_count": 92,
     "metadata": {},
     "output_type": "execute_result"
    }
   ],
   "source": [
    "s"
   ]
  },
  {
   "cell_type": "code",
   "execution_count": 93,
   "id": "9822ef46-4ab3-4f6d-af8b-02cd5e62058d",
   "metadata": {},
   "outputs": [
    {
     "data": {
      "text/plain": [
       "'py  th   '"
      ]
     },
     "execution_count": 93,
     "metadata": {},
     "output_type": "execute_result"
    }
   ],
   "source": [
    "s.lstrip()"
   ]
  },
  {
   "cell_type": "code",
   "execution_count": 94,
   "id": "d1102a26-f9f2-4469-ae4f-29bd929767eb",
   "metadata": {},
   "outputs": [
    {
     "data": {
      "text/plain": [
       "' py  th'"
      ]
     },
     "execution_count": 94,
     "metadata": {},
     "output_type": "execute_result"
    }
   ],
   "source": [
    "s.rstrip()"
   ]
  },
  {
   "cell_type": "code",
   "execution_count": 95,
   "id": "aba75888-e5d2-4c95-93b4-bc1646bbfaba",
   "metadata": {},
   "outputs": [
    {
     "data": {
      "text/plain": [
       "'payatahaoan'"
      ]
     },
     "execution_count": 95,
     "metadata": {},
     "output_type": "execute_result"
    }
   ],
   "source": [
    "\"a\" . join(\"python\")"
   ]
  },
  {
   "cell_type": "code",
   "execution_count": 96,
   "id": "5400d0e7-6146-4a9f-804d-71eb6b6655b9",
   "metadata": {},
   "outputs": [
    {
     "data": {
      "text/plain": [
       "' py  th   '"
      ]
     },
     "execution_count": 96,
     "metadata": {},
     "output_type": "execute_result"
    }
   ],
   "source": [
    "s"
   ]
  },
  {
   "cell_type": "code",
   "execution_count": 97,
   "id": "d9a2ee65-efc8-484f-bb0e-376cfc8e691d",
   "metadata": {},
   "outputs": [],
   "source": [
    "s= \"pyth\""
   ]
  },
  {
   "cell_type": "code",
   "execution_count": 98,
   "id": "bdba79b1-8e5f-4db3-8656-77824d06af42",
   "metadata": {},
   "outputs": [
    {
     "data": {
      "text/plain": [
       "'########pyth########'"
      ]
     },
     "execution_count": 98,
     "metadata": {},
     "output_type": "execute_result"
    }
   ],
   "source": [
    "s.center(20 , '#')"
   ]
  },
  {
   "cell_type": "code",
   "execution_count": 99,
   "id": "fdabcb08-a644-4486-bcff-6e2e375b4a95",
   "metadata": {},
   "outputs": [],
   "source": [
    "s = \"python\""
   ]
  },
  {
   "cell_type": "code",
   "execution_count": 100,
   "id": "ab91e301-7577-4218-ac9a-ac423845917c",
   "metadata": {},
   "outputs": [
    {
     "data": {
      "text/plain": [
       "False"
      ]
     },
     "execution_count": 100,
     "metadata": {},
     "output_type": "execute_result"
    }
   ],
   "source": [
    "s.isupper()"
   ]
  },
  {
   "cell_type": "code",
   "execution_count": 101,
   "id": "59b98232-620f-4f36-b20b-dbaf7bd0b954",
   "metadata": {},
   "outputs": [],
   "source": [
    "s1=\"PYTH\""
   ]
  },
  {
   "cell_type": "code",
   "execution_count": 102,
   "id": "439ec4ed-ceaa-4117-be65-ca92a935cf5a",
   "metadata": {},
   "outputs": [
    {
     "data": {
      "text/plain": [
       "True"
      ]
     },
     "execution_count": 102,
     "metadata": {},
     "output_type": "execute_result"
    }
   ],
   "source": [
    "s1.isupper()"
   ]
  },
  {
   "cell_type": "code",
   "execution_count": 103,
   "id": "bd8fdd40-1347-4840-abe0-f1a2ff9c4233",
   "metadata": {},
   "outputs": [],
   "source": [
    "s4=\"   \""
   ]
  },
  {
   "cell_type": "code",
   "execution_count": 104,
   "id": "f02456c8-9ac1-47d8-aedf-52a52ee444da",
   "metadata": {},
   "outputs": [
    {
     "data": {
      "text/plain": [
       "True"
      ]
     },
     "execution_count": 104,
     "metadata": {},
     "output_type": "execute_result"
    }
   ],
   "source": [
    "s4.isspace()"
   ]
  },
  {
   "cell_type": "code",
   "execution_count": 105,
   "id": "6491239d-05f8-4f59-8d15-6376590c760b",
   "metadata": {},
   "outputs": [],
   "source": [
    "s=\"python\""
   ]
  },
  {
   "cell_type": "code",
   "execution_count": 106,
   "id": "b1c957aa-df1a-4dc5-9164-a6feb1fb2046",
   "metadata": {},
   "outputs": [
    {
     "data": {
      "text/plain": [
       "False"
      ]
     },
     "execution_count": 106,
     "metadata": {},
     "output_type": "execute_result"
    }
   ],
   "source": [
    "s.isdigit()"
   ]
  },
  {
   "cell_type": "code",
   "execution_count": 107,
   "id": "e7165e22-1786-4d91-bff7-bcc2bd162d40",
   "metadata": {},
   "outputs": [
    {
     "data": {
      "text/plain": [
       "False"
      ]
     },
     "execution_count": 107,
     "metadata": {},
     "output_type": "execute_result"
    }
   ],
   "source": [
    "s.isdigit()"
   ]
  },
  {
   "cell_type": "code",
   "execution_count": 108,
   "id": "686d1b2b-1296-4b16-b9af-11b4a1add938",
   "metadata": {},
   "outputs": [],
   "source": [
    "s=\"python\""
   ]
  },
  {
   "cell_type": "code",
   "execution_count": 109,
   "id": "d3c8b9ac-529d-4721-9898-5b0bdc10b3f0",
   "metadata": {},
   "outputs": [
    {
     "data": {
      "text/plain": [
       "True"
      ]
     },
     "execution_count": 109,
     "metadata": {},
     "output_type": "execute_result"
    }
   ],
   "source": [
    "s.isalnum()"
   ]
  },
  {
   "cell_type": "code",
   "execution_count": 110,
   "id": "a99279c8-753d-42c8-b8b3-c6d2c736838f",
   "metadata": {},
   "outputs": [
    {
     "data": {
      "text/plain": [
       "True"
      ]
     },
     "execution_count": 110,
     "metadata": {},
     "output_type": "execute_result"
    }
   ],
   "source": [
    "s.isalpha()"
   ]
  },
  {
   "cell_type": "code",
   "execution_count": 111,
   "id": "135887b5-3bd8-4ef7-ad7b-5917a421d0a4",
   "metadata": {},
   "outputs": [
    {
     "data": {
      "text/plain": [
       "'python'"
      ]
     },
     "execution_count": 111,
     "metadata": {},
     "output_type": "execute_result"
    }
   ],
   "source": [
    "s"
   ]
  },
  {
   "cell_type": "code",
   "execution_count": 112,
   "id": "7dcec5b4-bcdf-4e42-bcc2-11c063bc95c2",
   "metadata": {},
   "outputs": [
    {
     "data": {
      "text/plain": [
       "False"
      ]
     },
     "execution_count": 112,
     "metadata": {},
     "output_type": "execute_result"
    }
   ],
   "source": [
    "s.startswith('s')"
   ]
  },
  {
   "cell_type": "code",
   "execution_count": 113,
   "id": "f371e5cc-e15e-4313-b972-24310cc7506a",
   "metadata": {},
   "outputs": [
    {
     "data": {
      "text/plain": [
       "False"
      ]
     },
     "execution_count": 113,
     "metadata": {},
     "output_type": "execute_result"
    }
   ],
   "source": [
    "s.startswith('s')"
   ]
  },
  {
   "cell_type": "code",
   "execution_count": 114,
   "id": "b4fd06a0-7470-4859-ac31-0089b983b10a",
   "metadata": {},
   "outputs": [
    {
     "data": {
      "text/plain": [
       "True"
      ]
     },
     "execution_count": 114,
     "metadata": {},
     "output_type": "execute_result"
    }
   ],
   "source": [
    "s.isascii()"
   ]
  },
  {
   "cell_type": "code",
   "execution_count": 115,
   "id": "96018e4d-50d3-4acb-bc9c-abaa4e55f5a0",
   "metadata": {},
   "outputs": [
    {
     "data": {
      "text/plain": [
       "False"
      ]
     },
     "execution_count": 115,
     "metadata": {},
     "output_type": "execute_result"
    }
   ],
   "source": [
    "s = 'python123  '\n",
    "s.isalnum()"
   ]
  },
  {
   "cell_type": "code",
   "execution_count": 116,
   "id": "4d0e6950-07cd-4ad7-84d7-63703cd6027b",
   "metadata": {},
   "outputs": [
    {
     "data": {
      "text/plain": [
       "False"
      ]
     },
     "execution_count": 116,
     "metadata": {},
     "output_type": "execute_result"
    }
   ],
   "source": [
    "s=' 5  '\n",
    "s.isspace()"
   ]
  },
  {
   "cell_type": "code",
   "execution_count": 117,
   "id": "1bac0d64-5806-4998-8188-10a7cbcc8da7",
   "metadata": {},
   "outputs": [],
   "source": [
    "s = \"  6  \""
   ]
  },
  {
   "cell_type": "code",
   "execution_count": 118,
   "id": "25292f70-5272-45a1-a948-c598f42e1a6c",
   "metadata": {},
   "outputs": [
    {
     "data": {
      "text/plain": [
       "False"
      ]
     },
     "execution_count": 118,
     "metadata": {},
     "output_type": "execute_result"
    }
   ],
   "source": [
    "s.isspace()"
   ]
  },
  {
   "cell_type": "code",
   "execution_count": 119,
   "id": "a251da72-2efd-4495-8d93-e4140ff0c269",
   "metadata": {},
   "outputs": [],
   "source": [
    "s1 = \"fajfkljglk75y78346\""
   ]
  },
  {
   "cell_type": "code",
   "execution_count": 120,
   "id": "dc1a892d-dab6-49db-9f71-71c2325265b0",
   "metadata": {},
   "outputs": [
    {
     "data": {
      "text/plain": [
       "False"
      ]
     },
     "execution_count": 120,
     "metadata": {},
     "output_type": "execute_result"
    }
   ],
   "source": [
    "s1.isnumeric()"
   ]
  },
  {
   "cell_type": "code",
   "execution_count": 121,
   "id": "0403fea0-8b59-459e-9bfb-853dd81df578",
   "metadata": {},
   "outputs": [],
   "source": [
    "s2 = \"325789 8734 4578\""
   ]
  },
  {
   "cell_type": "code",
   "execution_count": 122,
   "id": "aa8811eb-ed9b-4df6-9f2b-4cb4b99e0c90",
   "metadata": {},
   "outputs": [
    {
     "data": {
      "text/plain": [
       "False"
      ]
     },
     "execution_count": 122,
     "metadata": {},
     "output_type": "execute_result"
    }
   ],
   "source": [
    "s2.isnumeric()"
   ]
  },
  {
   "cell_type": "code",
   "execution_count": 123,
   "id": "f6e8bd01-3222-42e2-bcae-86ba30f5f8c6",
   "metadata": {},
   "outputs": [
    {
     "data": {
      "text/plain": [
       "False"
      ]
     },
     "execution_count": 123,
     "metadata": {},
     "output_type": "execute_result"
    }
   ],
   "source": [
    "s.isnumeric()"
   ]
  },
  {
   "cell_type": "code",
   "execution_count": 124,
   "id": "c554a633-2efc-47e2-aa86-fc276f9f227b",
   "metadata": {},
   "outputs": [
    {
     "data": {
      "text/plain": [
       "False"
      ]
     },
     "execution_count": 124,
     "metadata": {},
     "output_type": "execute_result"
    }
   ],
   "source": [
    "s2.isdigit()"
   ]
  },
  {
   "cell_type": "code",
   "execution_count": 125,
   "id": "75be2d05-36b7-467a-8708-e7c3adaaa2c6",
   "metadata": {},
   "outputs": [],
   "source": [
    "s=56"
   ]
  },
  {
   "cell_type": "code",
   "execution_count": 126,
   "id": "ae3c9f2f-ce49-4985-8d4b-d1a412182d03",
   "metadata": {},
   "outputs": [],
   "source": [
    "s=\"pyth\""
   ]
  },
  {
   "cell_type": "code",
   "execution_count": 127,
   "id": "a2ecf99a-445b-4fd6-beff-928bcd4899bb",
   "metadata": {},
   "outputs": [
    {
     "data": {
      "text/plain": [
       "<reversed at 0x28a1327f370>"
      ]
     },
     "execution_count": 127,
     "metadata": {},
     "output_type": "execute_result"
    }
   ],
   "source": [
    "reversed(s)"
   ]
  },
  {
   "cell_type": "code",
   "execution_count": 128,
   "id": "f49e62e4-97de-4eb0-a736-68d17400aaf9",
   "metadata": {},
   "outputs": [
    {
     "data": {
      "text/plain": [
       "'pdydtdhdodn'"
      ]
     },
     "execution_count": 128,
     "metadata": {},
     "output_type": "execute_result"
    }
   ],
   "source": [
    "\"d\".join(\"python\")"
   ]
  },
  {
   "cell_type": "code",
   "execution_count": 129,
   "id": "26651928-9888-43a0-85bb-94e94f313764",
   "metadata": {},
   "outputs": [
    {
     "data": {
      "text/plain": [
       "<function str.join(iterable, /)>"
      ]
     },
     "execution_count": 129,
     "metadata": {},
     "output_type": "execute_result"
    }
   ],
   "source": [
    "\"\".join"
   ]
  },
  {
   "cell_type": "code",
   "execution_count": 130,
   "id": "777925b1-ea2c-4a52-bcc3-315ad3a686bb",
   "metadata": {},
   "outputs": [],
   "source": [
    "s=\"398448.456\""
   ]
  },
  {
   "cell_type": "code",
   "execution_count": 131,
   "id": "d7617bf4-bfc1-4efe-8615-3c5490dcd5ba",
   "metadata": {},
   "outputs": [
    {
     "data": {
      "text/plain": [
       "False"
      ]
     },
     "execution_count": 131,
     "metadata": {},
     "output_type": "execute_result"
    }
   ],
   "source": [
    "s.isdigit()"
   ]
  },
  {
   "cell_type": "code",
   "execution_count": 132,
   "id": "f00eb750-d8cc-4da0-adca-04066cf417d9",
   "metadata": {},
   "outputs": [
    {
     "data": {
      "text/plain": [
       "False"
      ]
     },
     "execution_count": 132,
     "metadata": {},
     "output_type": "execute_result"
    }
   ],
   "source": [
    "s.isnumeric()"
   ]
  },
  {
   "cell_type": "code",
   "execution_count": 133,
   "id": "19c897d2-a965-45a7-b2ad-a8ed29638a4b",
   "metadata": {},
   "outputs": [],
   "source": [
    "s='python\\tclass\\tprogramm'"
   ]
  },
  {
   "cell_type": "code",
   "execution_count": 134,
   "id": "fc90e610-bdd5-47d9-975d-27465552681f",
   "metadata": {},
   "outputs": [
    {
     "data": {
      "text/plain": [
       "'python  class   programm'"
      ]
     },
     "execution_count": 134,
     "metadata": {},
     "output_type": "execute_result"
    }
   ],
   "source": [
    "s.expandtabs()"
   ]
  },
  {
   "cell_type": "code",
   "execution_count": 135,
   "id": "b031cafd-208d-4c15-a258-28b0b5573d58",
   "metadata": {},
   "outputs": [
    {
     "data": {
      "text/plain": [
       "'hhe     ggg     hhe'"
      ]
     },
     "execution_count": 135,
     "metadata": {},
     "output_type": "execute_result"
    }
   ],
   "source": [
    "s='hhe\\tggg\\thhe'\n",
    "s.expandtabs()"
   ]
  },
  {
   "cell_type": "code",
   "execution_count": 136,
   "id": "f66b4a8c-4ed3-452f-b0dc-9fc853f94c5b",
   "metadata": {},
   "outputs": [],
   "source": [
    "l=[1,2,3,4,5, \"python\" ,45.67, True]"
   ]
  },
  {
   "cell_type": "code",
   "execution_count": 137,
   "id": "528940e8-2488-4723-9935-18e8187a4a46",
   "metadata": {},
   "outputs": [
    {
     "data": {
      "text/plain": [
       "1"
      ]
     },
     "execution_count": 137,
     "metadata": {},
     "output_type": "execute_result"
    }
   ],
   "source": [
    "l[0]"
   ]
  },
  {
   "cell_type": "code",
   "execution_count": 138,
   "id": "09ba0942-e0a4-4e85-a542-f3b27fb9af59",
   "metadata": {},
   "outputs": [
    {
     "data": {
      "text/plain": [
       "8"
      ]
     },
     "execution_count": 138,
     "metadata": {},
     "output_type": "execute_result"
    }
   ],
   "source": [
    "len(l)"
   ]
  },
  {
   "cell_type": "code",
   "execution_count": 139,
   "id": "f4953dea-bbf6-4fbe-8a08-d0a50ba1aa64",
   "metadata": {},
   "outputs": [
    {
     "data": {
      "text/plain": [
       "[1, 2, 3, 4, 5]"
      ]
     },
     "execution_count": 139,
     "metadata": {},
     "output_type": "execute_result"
    }
   ],
   "source": [
    "l[0:5]"
   ]
  },
  {
   "cell_type": "code",
   "execution_count": 140,
   "id": "0f9a2dd9-8752-478d-aaf4-7e8e905f7bd1",
   "metadata": {},
   "outputs": [
    {
     "data": {
      "text/plain": [
       "[1, 3, 5, 45.67]"
      ]
     },
     "execution_count": 140,
     "metadata": {},
     "output_type": "execute_result"
    }
   ],
   "source": [
    "l[0:100:2]\n"
   ]
  },
  {
   "cell_type": "code",
   "execution_count": 141,
   "id": "ce63cb96-ca25-4e0b-b620-10a072163f96",
   "metadata": {},
   "outputs": [
    {
     "data": {
      "text/plain": [
       "[1, 2, 3, 4, 5, 'python', 45.67, True]"
      ]
     },
     "execution_count": 141,
     "metadata": {},
     "output_type": "execute_result"
    }
   ],
   "source": [
    "l"
   ]
  },
  {
   "cell_type": "code",
   "execution_count": 142,
   "id": "02f5fb92-476f-4a86-822f-70fb08624155",
   "metadata": {},
   "outputs": [
    {
     "data": {
      "text/plain": [
       "[]"
      ]
     },
     "execution_count": 142,
     "metadata": {},
     "output_type": "execute_result"
    }
   ],
   "source": [
    "l[0:8:-1]"
   ]
  },
  {
   "cell_type": "code",
   "execution_count": 143,
   "id": "a2fecb0e-74e5-4eec-ad95-6f1caee6f2f4",
   "metadata": {},
   "outputs": [
    {
     "data": {
      "text/plain": [
       "[1, 2, 3]"
      ]
     },
     "execution_count": 143,
     "metadata": {},
     "output_type": "execute_result"
    }
   ],
   "source": [
    "l[:3]"
   ]
  },
  {
   "cell_type": "code",
   "execution_count": 144,
   "id": "b4882b3b-b7c8-450f-955f-7d820ffc74b8",
   "metadata": {},
   "outputs": [
    {
     "data": {
      "text/plain": [
       "[1, 2, 3, 4, 5, 'python', 45.67, True, 'python']"
      ]
     },
     "execution_count": 144,
     "metadata": {},
     "output_type": "execute_result"
    }
   ],
   "source": [
    "l+[\"python\"]"
   ]
  },
  {
   "cell_type": "code",
   "execution_count": 145,
   "id": "df165220-50b5-410d-87bd-8639530effd9",
   "metadata": {},
   "outputs": [
    {
     "data": {
      "text/plain": [
       "[1, 2, 3, 4, 5, 'python', 45.67, True, 1, 2, 3, 4, 5, 'python', 45.67, True]"
      ]
     },
     "execution_count": 145,
     "metadata": {},
     "output_type": "execute_result"
    }
   ],
   "source": [
    "l*2"
   ]
  },
  {
   "cell_type": "code",
   "execution_count": 146,
   "id": "0db63029-aa0c-4f59-86ba-cb1b5cbf36e6",
   "metadata": {},
   "outputs": [
    {
     "data": {
      "text/plain": [
       "[1, 2, 3, 4, 5, 'python', 45.67, True]"
      ]
     },
     "execution_count": 146,
     "metadata": {},
     "output_type": "execute_result"
    }
   ],
   "source": [
    "l"
   ]
  },
  {
   "cell_type": "code",
   "execution_count": 147,
   "id": "b8c3c671-ceee-4662-9ac9-e55d16965312",
   "metadata": {},
   "outputs": [
    {
     "data": {
      "text/plain": [
       "False"
      ]
     },
     "execution_count": 147,
     "metadata": {},
     "output_type": "execute_result"
    }
   ],
   "source": [
    "60 in l"
   ]
  },
  {
   "cell_type": "code",
   "execution_count": 148,
   "id": "363b20d1-d1ad-4852-b1bf-b623bfabcab3",
   "metadata": {},
   "outputs": [
    {
     "data": {
      "text/plain": [
       "True"
      ]
     },
     "execution_count": 148,
     "metadata": {},
     "output_type": "execute_result"
    }
   ],
   "source": [
    "2 in l"
   ]
  },
  {
   "cell_type": "code",
   "execution_count": 149,
   "id": "375a704c-69d9-41cf-982e-c2a1ff53ceb6",
   "metadata": {},
   "outputs": [],
   "source": [
    "l1 = [3,4,5,6,6]"
   ]
  },
  {
   "cell_type": "markdown",
   "id": "35a1919f-40c6-4c02-bc4a-c61645bc70f0",
   "metadata": {},
   "source": [
    "max(l2)"
   ]
  },
  {
   "cell_type": "code",
   "execution_count": 150,
   "id": "23c678f2-87be-45d9-a6de-5f2b1e2847eb",
   "metadata": {},
   "outputs": [
    {
     "data": {
      "text/plain": [
       "6"
      ]
     },
     "execution_count": 150,
     "metadata": {},
     "output_type": "execute_result"
    }
   ],
   "source": [
    "max(l1)"
   ]
  },
  {
   "cell_type": "code",
   "execution_count": 151,
   "id": "1ab3571c-c55d-43d3-9fad-f3fee979f58b",
   "metadata": {},
   "outputs": [
    {
     "data": {
      "text/plain": [
       "3"
      ]
     },
     "execution_count": 151,
     "metadata": {},
     "output_type": "execute_result"
    }
   ],
   "source": [
    "min(l1)"
   ]
  },
  {
   "cell_type": "code",
   "execution_count": 152,
   "id": "bc24695e-9511-4553-904e-f3d5f52a3608",
   "metadata": {},
   "outputs": [],
   "source": [
    "l2=[\"python\" ,\"deep\" ,\"learning\"]"
   ]
  },
  {
   "cell_type": "code",
   "execution_count": 153,
   "id": "126e3f72-6116-4b51-917e-322919835dcb",
   "metadata": {},
   "outputs": [
    {
     "data": {
      "text/plain": [
       "'python'"
      ]
     },
     "execution_count": 153,
     "metadata": {},
     "output_type": "execute_result"
    }
   ],
   "source": [
    "max(l2)"
   ]
  },
  {
   "cell_type": "code",
   "execution_count": 154,
   "id": "0ecfd13d-fdf7-487c-afb5-79c621eefb0e",
   "metadata": {},
   "outputs": [
    {
     "data": {
      "text/plain": [
       "'deep'"
      ]
     },
     "execution_count": 154,
     "metadata": {},
     "output_type": "execute_result"
    }
   ],
   "source": [
    "min(l2)"
   ]
  },
  {
   "cell_type": "code",
   "execution_count": 155,
   "id": "3f8ba3ef-4b3e-4304-8687-770da53edb2c",
   "metadata": {},
   "outputs": [
    {
     "data": {
      "text/plain": [
       "3"
      ]
     },
     "execution_count": 155,
     "metadata": {},
     "output_type": "execute_result"
    }
   ],
   "source": [
    "min(l1)"
   ]
  },
  {
   "cell_type": "code",
   "execution_count": 156,
   "id": "540bfadb-d7cc-456d-bb28-35686fa6d36f",
   "metadata": {},
   "outputs": [
    {
     "data": {
      "text/plain": [
       "'deep'"
      ]
     },
     "execution_count": 156,
     "metadata": {},
     "output_type": "execute_result"
    }
   ],
   "source": [
    "min(l2)"
   ]
  },
  {
   "cell_type": "code",
   "execution_count": 157,
   "id": "59bddbca-e199-40a3-ad0c-29b82b3e07e4",
   "metadata": {},
   "outputs": [
    {
     "data": {
      "text/plain": [
       "[1, 2, 3, 4, 5, 'python', 45.67, True]"
      ]
     },
     "execution_count": 157,
     "metadata": {},
     "output_type": "execute_result"
    }
   ],
   "source": [
    "l"
   ]
  },
  {
   "cell_type": "code",
   "execution_count": 158,
   "id": "f187c723-6ebc-4582-b623-90bf41dab0a5",
   "metadata": {},
   "outputs": [],
   "source": [
    "l.append(\"python\")"
   ]
  },
  {
   "cell_type": "code",
   "execution_count": 159,
   "id": "864f0d45-5bc4-4fee-ba29-8ad899055a86",
   "metadata": {},
   "outputs": [
    {
     "data": {
      "text/plain": [
       "[1, 2, 3, 4, 5, 'python', 45.67, True, 'python']"
      ]
     },
     "execution_count": 159,
     "metadata": {},
     "output_type": "execute_result"
    }
   ],
   "source": [
    "l"
   ]
  },
  {
   "cell_type": "code",
   "execution_count": 160,
   "id": "d818ae22-3131-44f6-acef-4335f8a3af61",
   "metadata": {},
   "outputs": [],
   "source": [
    "l.append([1,2,3,4])"
   ]
  },
  {
   "cell_type": "code",
   "execution_count": 161,
   "id": "d9220602-b6e0-49af-b7cf-d2e4d2847a16",
   "metadata": {},
   "outputs": [
    {
     "data": {
      "text/plain": [
       "[1, 2, 3, 4, 5, 'python', 45.67, True, 'python', [1, 2, 3, 4]]"
      ]
     },
     "execution_count": 161,
     "metadata": {},
     "output_type": "execute_result"
    }
   ],
   "source": [
    "l\n"
   ]
  },
  {
   "cell_type": "code",
   "execution_count": 162,
   "id": "fcfc506d-9974-4c58-8125-61343d21749f",
   "metadata": {},
   "outputs": [],
   "source": [
    "l.reverse()"
   ]
  },
  {
   "cell_type": "code",
   "execution_count": 163,
   "id": "e5c34075-37d7-4784-aa6b-6b58bb2d0014",
   "metadata": {},
   "outputs": [
    {
     "data": {
      "text/plain": [
       "[[1, 2, 3, 4], 'python', True, 45.67, 'python', 5, 4, 3, 2, 1]"
      ]
     },
     "execution_count": 163,
     "metadata": {},
     "output_type": "execute_result"
    }
   ],
   "source": [
    "l"
   ]
  },
  {
   "cell_type": "markdown",
   "id": "d1a71779-c07f-44d8-bec3-2e7fd9cc0db1",
   "metadata": {},
   "source": [
    "##  Day 2"
   ]
  },
  {
   "cell_type": "code",
   "execution_count": 164,
   "id": "1742761d-575e-4b6f-b54d-8c1551ce48f5",
   "metadata": {},
   "outputs": [],
   "source": [
    "l=l[::-1]"
   ]
  },
  {
   "cell_type": "code",
   "execution_count": 165,
   "id": "f10c90d7-313b-4db4-b2b6-28123b6a4f01",
   "metadata": {},
   "outputs": [],
   "source": [
    "l.reverse()"
   ]
  },
  {
   "cell_type": "code",
   "execution_count": 166,
   "id": "6dadbe94-f618-41c6-b7fb-79b079aaaa50",
   "metadata": {},
   "outputs": [],
   "source": [
    "l.append([1,2,3,4])"
   ]
  },
  {
   "cell_type": "code",
   "execution_count": 167,
   "id": "b4d532d8-8e38-4d7b-9e33-5653550bdfd3",
   "metadata": {},
   "outputs": [
    {
     "data": {
      "text/plain": [
       "1"
      ]
     },
     "execution_count": 167,
     "metadata": {},
     "output_type": "execute_result"
    }
   ],
   "source": [
    "1"
   ]
  },
  {
   "cell_type": "code",
   "execution_count": 168,
   "id": "cfb5db16-eb66-4534-bd79-02c1d8e10a9e",
   "metadata": {},
   "outputs": [
    {
     "ename": "TypeError",
     "evalue": "'<' not supported between instances of 'str' and 'list'",
     "output_type": "error",
     "traceback": [
      "\u001b[1;31m---------------------------------------------------------------------------\u001b[0m",
      "\u001b[1;31mTypeError\u001b[0m                                 Traceback (most recent call last)",
      "Cell \u001b[1;32mIn[168], line 1\u001b[0m\n\u001b[1;32m----> 1\u001b[0m l\u001b[38;5;241m.\u001b[39msort()\n",
      "\u001b[1;31mTypeError\u001b[0m: '<' not supported between instances of 'str' and 'list'"
     ]
    }
   ],
   "source": []
  },
  {
   "cell_type": "code",
   "execution_count": 169,
   "id": "d3691bb4-7ccb-4d2e-bcf7-be123327d7c6",
   "metadata": {},
   "outputs": [],
   "source": [
    "l.reverse()"
   ]
  },
  {
   "cell_type": "code",
   "execution_count": 170,
   "id": "e1b14977-bade-4d17-a724-00c8607acdf2",
   "metadata": {},
   "outputs": [
    {
     "data": {
      "text/plain": [
       "[[1, 2, 3, 4], 1, 2, 3, 4, 5, 'python', 45.67, True, 'python', [1, 2, 3, 4]]"
      ]
     },
     "execution_count": 170,
     "metadata": {},
     "output_type": "execute_result"
    }
   ],
   "source": [
    "l"
   ]
  },
  {
   "cell_type": "code",
   "execution_count": 171,
   "id": "dd2d3c9a-12d7-4d84-a5fc-0c8c06cbf9be",
   "metadata": {},
   "outputs": [],
   "source": [
    "l1=[3,4,5,6,6]\n",
    "l2=[2,4,5,6,6]\n",
    "l3=[3,4,5,6,6]"
   ]
  },
  {
   "cell_type": "code",
   "execution_count": 174,
   "id": "9d22d7e7-5775-4bac-87b1-d9a1d4bf7b8f",
   "metadata": {},
   "outputs": [],
   "source": [
    "l4=[l1,l2,l3]"
   ]
  },
  {
   "cell_type": "code",
   "execution_count": 175,
   "id": "0331527d-3be1-45f3-93fb-e71874d074ca",
   "metadata": {},
   "outputs": [
    {
     "data": {
      "text/plain": [
       "[[3, 4, 5, 6, 6], [2, 4, 5, 6, 6], [3, 4, 5, 6, 6]]"
      ]
     },
     "execution_count": 175,
     "metadata": {},
     "output_type": "execute_result"
    }
   ],
   "source": [
    "l4"
   ]
  },
  {
   "cell_type": "code",
   "execution_count": 176,
   "id": "a368d280-7900-4a04-9ded-11dcefd34862",
   "metadata": {},
   "outputs": [
    {
     "data": {
      "text/plain": [
       "1"
      ]
     },
     "execution_count": 176,
     "metadata": {},
     "output_type": "execute_result"
    }
   ],
   "source": [
    "l.count(2)"
   ]
  },
  {
   "cell_type": "code",
   "execution_count": 178,
   "id": "f388454d-46ba-4b8c-ba24-9869060420c9",
   "metadata": {},
   "outputs": [],
   "source": [
    "l5=[3,4,5,6,5,3,3]"
   ]
  },
  {
   "cell_type": "code",
   "execution_count": 180,
   "id": "9dff3211-d188-42b7-9b0a-ab50a4e95609",
   "metadata": {},
   "outputs": [
    {
     "data": {
      "text/plain": [
       "0"
      ]
     },
     "execution_count": 180,
     "metadata": {},
     "output_type": "execute_result"
    }
   ],
   "source": [
    "l5.count(2)"
   ]
  },
  {
   "cell_type": "code",
   "execution_count": 181,
   "id": "0d63847a-49df-4aae-90f4-f9f9795ed44e",
   "metadata": {},
   "outputs": [
    {
     "data": {
      "text/plain": [
       "0"
      ]
     },
     "execution_count": 181,
     "metadata": {},
     "output_type": "execute_result"
    }
   ],
   "source": [
    "l1=[3,4,5,6,6]\n",
    "l2=[2,4,5,6,6]\n",
    "l3=[3,4,5,6,6]\n",
    "l4=[l1,l2,l3]\n",
    "l4.count(3)"
   ]
  },
  {
   "cell_type": "code",
   "execution_count": 182,
   "id": "19acf7a1-10ad-48aa-9cbb-9a274df508bc",
   "metadata": {},
   "outputs": [
    {
     "data": {
      "text/plain": [
       "[[1, 2, 3, 4], 1, 2, 3, 4, 5, 'python', 45.67, True, 'python', [1, 2, 3, 4]]"
      ]
     },
     "execution_count": 182,
     "metadata": {},
     "output_type": "execute_result"
    }
   ],
   "source": [
    "l"
   ]
  },
  {
   "cell_type": "code",
   "execution_count": 184,
   "id": "f85e3daf-c0b8-4b3f-9d4d-d68616a930cf",
   "metadata": {},
   "outputs": [],
   "source": [
    "l.extend(\"pth\")"
   ]
  },
  {
   "cell_type": "code",
   "execution_count": 185,
   "id": "ae79dafe-313a-4fab-a475-8d7537a610fc",
   "metadata": {},
   "outputs": [
    {
     "data": {
      "text/plain": [
       "[[1, 2, 3, 4],\n",
       " 1,\n",
       " 2,\n",
       " 3,\n",
       " 4,\n",
       " 5,\n",
       " 'python',\n",
       " 45.67,\n",
       " True,\n",
       " 'python',\n",
       " [1, 2, 3, 4],\n",
       " 'p',\n",
       " 't',\n",
       " 'h']"
      ]
     },
     "execution_count": 185,
     "metadata": {},
     "output_type": "execute_result"
    }
   ],
   "source": [
    "l"
   ]
  },
  {
   "cell_type": "code",
   "execution_count": 186,
   "id": "d96f7a96-ccd0-4c61-b82a-3766b74add11",
   "metadata": {},
   "outputs": [],
   "source": [
    "l6=[1,2,3]"
   ]
  },
  {
   "cell_type": "code",
   "execution_count": 188,
   "id": "18c0ac01-9fcf-4f19-87e3-cefa7b01371b",
   "metadata": {},
   "outputs": [
    {
     "data": {
      "text/plain": [
       "[1, 2, 3]"
      ]
     },
     "execution_count": 188,
     "metadata": {},
     "output_type": "execute_result"
    }
   ],
   "source": [
    "l6"
   ]
  },
  {
   "cell_type": "code",
   "execution_count": 189,
   "id": "12e46ac1-1cfd-420f-a835-d16fa056f7af",
   "metadata": {},
   "outputs": [],
   "source": [
    "l6.append([4,5,6])"
   ]
  },
  {
   "cell_type": "code",
   "execution_count": 190,
   "id": "92cc3842-7150-416a-88be-8b532f73e22c",
   "metadata": {},
   "outputs": [
    {
     "data": {
      "text/plain": [
       "[1, 2, 3, [4, 5, 6]]"
      ]
     },
     "execution_count": 190,
     "metadata": {},
     "output_type": "execute_result"
    }
   ],
   "source": [
    "l6"
   ]
  },
  {
   "cell_type": "code",
   "execution_count": 191,
   "id": "10e42882-d18f-4502-91c1-6e6b20b1dbce",
   "metadata": {},
   "outputs": [],
   "source": [
    "l6.append(\"thon\")"
   ]
  },
  {
   "cell_type": "code",
   "execution_count": 192,
   "id": "a9b1a6fa-be84-48b7-8022-9ba2f05448f0",
   "metadata": {},
   "outputs": [
    {
     "data": {
      "text/plain": [
       "[1, 2, 3, [4, 5, 6], 'thon']"
      ]
     },
     "execution_count": 192,
     "metadata": {},
     "output_type": "execute_result"
    }
   ],
   "source": [
    "l6"
   ]
  },
  {
   "cell_type": "code",
   "execution_count": 193,
   "id": "01556ac2-0b3d-4205-a776-4536ab5e2bc3",
   "metadata": {},
   "outputs": [],
   "source": [
    "l6.append(45)"
   ]
  },
  {
   "cell_type": "code",
   "execution_count": 194,
   "id": "a271679d-15c6-4b87-9b27-0550dcd16143",
   "metadata": {},
   "outputs": [
    {
     "data": {
      "text/plain": [
       "[1, 2, 3, [4, 5, 6], 'thon', 45]"
      ]
     },
     "execution_count": 194,
     "metadata": {},
     "output_type": "execute_result"
    }
   ],
   "source": [
    "l6"
   ]
  },
  {
   "cell_type": "code",
   "execution_count": 196,
   "id": "47acb345-fa35-4347-8478-0001948699bc",
   "metadata": {},
   "outputs": [],
   "source": [
    "l6.extend([56,34,21])"
   ]
  },
  {
   "cell_type": "code",
   "execution_count": 197,
   "id": "d468b526-64c8-4316-8768-c41fee2ff60d",
   "metadata": {},
   "outputs": [
    {
     "data": {
      "text/plain": [
       "[1, 2, 3, [4, 5, 6], 'thon', 45, 56, 34, 21]"
      ]
     },
     "execution_count": 197,
     "metadata": {},
     "output_type": "execute_result"
    }
   ],
   "source": [
    "l6"
   ]
  },
  {
   "cell_type": "code",
   "execution_count": 198,
   "id": "312fc11e-8343-485f-a9d4-13371d11bc4c",
   "metadata": {},
   "outputs": [],
   "source": [
    "l6.extend(\"thonn\")"
   ]
  },
  {
   "cell_type": "code",
   "execution_count": 199,
   "id": "0a01be51-5e3f-4372-82fe-c7fcdf467a1d",
   "metadata": {},
   "outputs": [
    {
     "data": {
      "text/plain": [
       "[1, 2, 3, [4, 5, 6], 'thon', 45, 56, 34, 21, 't', 'h', 'o', 'n', 'n']"
      ]
     },
     "execution_count": 199,
     "metadata": {},
     "output_type": "execute_result"
    }
   ],
   "source": [
    "l6"
   ]
  },
  {
   "cell_type": "code",
   "execution_count": 200,
   "id": "68419b20-5dde-4b80-97e5-1956450163b0",
   "metadata": {},
   "outputs": [
    {
     "data": {
      "text/plain": [
       "0"
      ]
     },
     "execution_count": 200,
     "metadata": {},
     "output_type": "execute_result"
    }
   ],
   "source": [
    "l6.index(1)"
   ]
  },
  {
   "cell_type": "code",
   "execution_count": 203,
   "id": "f3aeda41-65a3-4401-9747-1f7ba361fc01",
   "metadata": {},
   "outputs": [],
   "source": [
    "l7=[1,2,3,4,55,6,7,7]"
   ]
  },
  {
   "cell_type": "code",
   "execution_count": 205,
   "id": "2d45db3a-58a3-4baa-aa0c-ce1fd5351438",
   "metadata": {},
   "outputs": [
    {
     "data": {
      "text/plain": [
       "5"
      ]
     },
     "execution_count": 205,
     "metadata": {},
     "output_type": "execute_result"
    }
   ],
   "source": [
    "l7.index(6)"
   ]
  },
  {
   "cell_type": "code",
   "execution_count": 206,
   "id": "dabcee72-fb23-499a-a314-2a117efabfdc",
   "metadata": {},
   "outputs": [],
   "source": [
    "l=[1,2,3,4,5]"
   ]
  },
  {
   "cell_type": "code",
   "execution_count": 207,
   "id": "fe512cef-f45b-4008-a042-b0d0de296827",
   "metadata": {},
   "outputs": [],
   "source": [
    "l.append(45)"
   ]
  },
  {
   "cell_type": "code",
   "execution_count": 208,
   "id": "f217ea2d-00d8-4a29-a896-a6f2bc2a83e3",
   "metadata": {},
   "outputs": [
    {
     "data": {
      "text/plain": [
       "[1, 2, 3, 4, 5, 45]"
      ]
     },
     "execution_count": 208,
     "metadata": {},
     "output_type": "execute_result"
    }
   ],
   "source": [
    "l"
   ]
  },
  {
   "cell_type": "code",
   "execution_count": 209,
   "id": "307402ee-2db5-4fee-b7c5-c1968559a228",
   "metadata": {},
   "outputs": [],
   "source": [
    "l.insert(5,\"python\")"
   ]
  },
  {
   "cell_type": "code",
   "execution_count": 210,
   "id": "f9c81df4-2541-46e4-986d-8739693d3ebf",
   "metadata": {},
   "outputs": [
    {
     "data": {
      "text/plain": [
       "[1, 2, 3, 4, 5, 'python', 45]"
      ]
     },
     "execution_count": 210,
     "metadata": {},
     "output_type": "execute_result"
    }
   ],
   "source": [
    "l"
   ]
  },
  {
   "cell_type": "code",
   "execution_count": 211,
   "id": "da71be77-1dcc-4c15-b4e0-d508cf44e47e",
   "metadata": {},
   "outputs": [
    {
     "data": {
      "text/plain": [
       "3"
      ]
     },
     "execution_count": 211,
     "metadata": {},
     "output_type": "execute_result"
    }
   ],
   "source": [
    "l.pop(2)"
   ]
  },
  {
   "cell_type": "code",
   "execution_count": 212,
   "id": "cb58da69-abce-41ea-ba44-d0f2de3a9c28",
   "metadata": {},
   "outputs": [
    {
     "data": {
      "text/plain": [
       "[1, 2, 4, 5, 'python', 45]"
      ]
     },
     "execution_count": 212,
     "metadata": {},
     "output_type": "execute_result"
    }
   ],
   "source": [
    "l"
   ]
  },
  {
   "cell_type": "code",
   "execution_count": 213,
   "id": "6a787c19-b173-405e-9b9a-43511f38f23e",
   "metadata": {},
   "outputs": [],
   "source": [
    "l.remove(4)"
   ]
  },
  {
   "cell_type": "code",
   "execution_count": 214,
   "id": "519001ec-e71e-443f-8e32-95325ccc18b3",
   "metadata": {},
   "outputs": [
    {
     "data": {
      "text/plain": [
       "[1, 2, 5, 'python', 45]"
      ]
     },
     "execution_count": 214,
     "metadata": {},
     "output_type": "execute_result"
    }
   ],
   "source": [
    "l"
   ]
  },
  {
   "cell_type": "code",
   "execution_count": 215,
   "id": "30ead7fa-529c-43ff-955f-649732068f63",
   "metadata": {},
   "outputs": [
    {
     "data": {
      "text/plain": [
       "[1, 2, 5, 'python', 45]"
      ]
     },
     "execution_count": 215,
     "metadata": {},
     "output_type": "execute_result"
    }
   ],
   "source": [
    "l"
   ]
  },
  {
   "cell_type": "code",
   "execution_count": 216,
   "id": "b59f3421-5d5b-4f7f-9be0-18504d10b2d9",
   "metadata": {},
   "outputs": [],
   "source": [
    "l=[1,2,3,4]"
   ]
  },
  {
   "cell_type": "code",
   "execution_count": 217,
   "id": "919044d9-216a-463b-891b-dab74316d56c",
   "metadata": {},
   "outputs": [],
   "source": [
    "l[2]=\"class\""
   ]
  },
  {
   "cell_type": "code",
   "execution_count": 218,
   "id": "701284d6-3831-4765-84f3-e672a2b97a57",
   "metadata": {},
   "outputs": [
    {
     "data": {
      "text/plain": [
       "[1, 2, 'class', 4]"
      ]
     },
     "execution_count": 218,
     "metadata": {},
     "output_type": "execute_result"
    }
   ],
   "source": [
    "l"
   ]
  },
  {
   "cell_type": "code",
   "execution_count": 219,
   "id": "4d317a3d-9368-4003-83b2-6a12317adfbe",
   "metadata": {},
   "outputs": [],
   "source": [
    "l=[1,2,2,3]"
   ]
  },
  {
   "cell_type": "code",
   "execution_count": 220,
   "id": "325cdcdd-09a3-4513-acb9-847dc5c12551",
   "metadata": {},
   "outputs": [],
   "source": [
    "l.clear()"
   ]
  },
  {
   "cell_type": "code",
   "execution_count": 221,
   "id": "e9303ef5-732d-4b8f-a69c-ccfdfbdd1c3d",
   "metadata": {},
   "outputs": [
    {
     "data": {
      "text/plain": [
       "[]"
      ]
     },
     "execution_count": 221,
     "metadata": {},
     "output_type": "execute_result"
    }
   ],
   "source": [
    "l\n"
   ]
  },
  {
   "cell_type": "code",
   "execution_count": 222,
   "id": "eaa1a8bd-044a-490f-9f38-d18825e353e6",
   "metadata": {},
   "outputs": [],
   "source": [
    "t=(4,5,6,7,\"class\",45,67, True)"
   ]
  },
  {
   "cell_type": "code",
   "execution_count": 223,
   "id": "0e16169d-e239-45f6-8296-ba73bf181786",
   "metadata": {},
   "outputs": [
    {
     "data": {
      "text/plain": [
       "tuple"
      ]
     },
     "execution_count": 223,
     "metadata": {},
     "output_type": "execute_result"
    }
   ],
   "source": [
    "type(t)\n"
   ]
  },
  {
   "cell_type": "code",
   "execution_count": 224,
   "id": "640e2a20-75a8-4ee0-97f8-076e0de99ea0",
   "metadata": {},
   "outputs": [
    {
     "data": {
      "text/plain": [
       "4"
      ]
     },
     "execution_count": 224,
     "metadata": {},
     "output_type": "execute_result"
    }
   ],
   "source": [
    "t[0]"
   ]
  },
  {
   "cell_type": "code",
   "execution_count": 225,
   "id": "65664807-5607-4bcd-89cf-d46006c01b74",
   "metadata": {},
   "outputs": [
    {
     "data": {
      "text/plain": [
       "(4, 5, 6, 7)"
      ]
     },
     "execution_count": 225,
     "metadata": {},
     "output_type": "execute_result"
    }
   ],
   "source": [
    "t[0:4]"
   ]
  },
  {
   "cell_type": "code",
   "execution_count": 226,
   "id": "1f8ee8ab-9035-4385-af4f-92d33abc94d2",
   "metadata": {},
   "outputs": [
    {
     "data": {
      "text/plain": [
       "True"
      ]
     },
     "execution_count": 226,
     "metadata": {},
     "output_type": "execute_result"
    }
   ],
   "source": [
    "t[-1]"
   ]
  },
  {
   "cell_type": "code",
   "execution_count": 227,
   "id": "ab46a29e-537c-418a-9be1-ca0180433ff9",
   "metadata": {},
   "outputs": [
    {
     "data": {
      "text/plain": [
       "(4, 5, 6, 7, 'class', 45, 67, True)"
      ]
     },
     "execution_count": 227,
     "metadata": {},
     "output_type": "execute_result"
    }
   ],
   "source": [
    "t"
   ]
  },
  {
   "cell_type": "code",
   "execution_count": 228,
   "id": "366bcdda-24c3-4667-8b60-cc1a921c059c",
   "metadata": {},
   "outputs": [
    {
     "data": {
      "text/plain": [
       "(4, 6, 'class')"
      ]
     },
     "execution_count": 228,
     "metadata": {},
     "output_type": "execute_result"
    }
   ],
   "source": [
    "t[0:6:2]"
   ]
  },
  {
   "cell_type": "code",
   "execution_count": 229,
   "id": "ca2f99e2-347e-4796-a1fa-74fc3f62cd19",
   "metadata": {},
   "outputs": [
    {
     "data": {
      "text/plain": [
       "()"
      ]
     },
     "execution_count": 229,
     "metadata": {},
     "output_type": "execute_result"
    }
   ],
   "source": [
    "t[0:4:-1]"
   ]
  },
  {
   "cell_type": "code",
   "execution_count": 230,
   "id": "40e8b823-ec32-4adc-8cda-eba9bedefe86",
   "metadata": {},
   "outputs": [],
   "source": [
    "l=[1,2,3,4,5,6,7,8]"
   ]
  },
  {
   "cell_type": "code",
   "execution_count": 231,
   "id": "c9b614bb-1a86-4d91-aa11-7f86ad3dbf81",
   "metadata": {},
   "outputs": [
    {
     "data": {
      "text/plain": [
       "[1, 2, 3, 4, 5, 6, 7, 8]"
      ]
     },
     "execution_count": 231,
     "metadata": {},
     "output_type": "execute_result"
    }
   ],
   "source": [
    "l"
   ]
  },
  {
   "cell_type": "code",
   "execution_count": 232,
   "id": "d91f773c-619d-4ff3-ab2d-15a76f9b06d1",
   "metadata": {},
   "outputs": [
    {
     "data": {
      "text/plain": [
       "(4, 5, 6, 7, 'class', 45, 67, True)"
      ]
     },
     "execution_count": 232,
     "metadata": {},
     "output_type": "execute_result"
    }
   ],
   "source": [
    "t"
   ]
  },
  {
   "cell_type": "code",
   "execution_count": 233,
   "id": "b99cc87e-3b90-45e3-8a7b-db15a79b80f0",
   "metadata": {},
   "outputs": [],
   "source": [
    "l[2]=\"python\""
   ]
  },
  {
   "cell_type": "code",
   "execution_count": 234,
   "id": "3c7504e9-6516-44af-bb1a-08c2db4d253a",
   "metadata": {},
   "outputs": [
    {
     "data": {
      "text/plain": [
       "[1, 2, 'python', 4, 5, 6, 7, 8]"
      ]
     },
     "execution_count": 234,
     "metadata": {},
     "output_type": "execute_result"
    }
   ],
   "source": [
    "l"
   ]
  },
  {
   "cell_type": "code",
   "execution_count": 235,
   "id": "199ecf3a-0b03-4fde-9c4e-3ee63be60ec8",
   "metadata": {},
   "outputs": [
    {
     "ename": "TypeError",
     "evalue": "'tuple' object does not support item assignment",
     "output_type": "error",
     "traceback": [
      "\u001b[1;31m---------------------------------------------------------------------------\u001b[0m",
      "\u001b[1;31mTypeError\u001b[0m                                 Traceback (most recent call last)",
      "Cell \u001b[1;32mIn[235], line 1\u001b[0m\n\u001b[1;32m----> 1\u001b[0m t[\u001b[38;5;241m2\u001b[39m]\u001b[38;5;241m=\u001b[39m\u001b[38;5;124m\"\u001b[39m\u001b[38;5;124mclass\u001b[39m\u001b[38;5;124m\"\u001b[39m\n",
      "\u001b[1;31mTypeError\u001b[0m: 'tuple' object does not support item assignment"
     ]
    }
   ],
   "source": [
    "t[2]=\"class\""
   ]
  },
  {
   "cell_type": "code",
   "execution_count": 236,
   "id": "68acd68c-7e6d-4073-bdcc-45b05c0c8e12",
   "metadata": {},
   "outputs": [],
   "source": [
    "t1=(3,4,5,6)"
   ]
  },
  {
   "cell_type": "code",
   "execution_count": 237,
   "id": "57ca4c26-e478-4c65-b5d5-4febc5fd26aa",
   "metadata": {},
   "outputs": [
    {
     "data": {
      "text/plain": [
       "(4, 5, 6, 7, 'class', 45, 67, True)"
      ]
     },
     "execution_count": 237,
     "metadata": {},
     "output_type": "execute_result"
    }
   ],
   "source": [
    "t"
   ]
  },
  {
   "cell_type": "code",
   "execution_count": 238,
   "id": "d010ab11-b65b-4575-b668-cc94e4325d4f",
   "metadata": {},
   "outputs": [
    {
     "data": {
      "text/plain": [
       "(4, 5, 6, 7, 'class', 45, 67, True, 3, 4, 5, 6)"
      ]
     },
     "execution_count": 238,
     "metadata": {},
     "output_type": "execute_result"
    }
   ],
   "source": [
    "t+t1"
   ]
  },
  {
   "cell_type": "code",
   "execution_count": 239,
   "id": "90064a21-749d-4a21-8675-3c7283ca96b4",
   "metadata": {},
   "outputs": [
    {
     "data": {
      "text/plain": [
       "0"
      ]
     },
     "execution_count": 239,
     "metadata": {},
     "output_type": "execute_result"
    }
   ],
   "source": [
    "t.count(3)"
   ]
  },
  {
   "cell_type": "code",
   "execution_count": 240,
   "id": "e26169e9-8cb6-45f8-8177-3908959fd555",
   "metadata": {},
   "outputs": [
    {
     "data": {
      "text/plain": [
       "1"
      ]
     },
     "execution_count": 240,
     "metadata": {},
     "output_type": "execute_result"
    }
   ],
   "source": [
    "t.count(4)"
   ]
  },
  {
   "cell_type": "code",
   "execution_count": 241,
   "id": "13e85ee5-71d1-419d-8d7d-bf4d1bf60d49",
   "metadata": {},
   "outputs": [
    {
     "data": {
      "text/plain": [
       "1"
      ]
     },
     "execution_count": 241,
     "metadata": {},
     "output_type": "execute_result"
    }
   ],
   "source": [
    "t.index(5)"
   ]
  },
  {
   "cell_type": "code",
   "execution_count": 242,
   "id": "54a259b1-8670-44a7-9706-299799b35835",
   "metadata": {},
   "outputs": [],
   "source": [
    "t=t+t1"
   ]
  },
  {
   "cell_type": "code",
   "execution_count": 243,
   "id": "bee4d4f6-c812-4ea5-bdf7-dd16f09d69ca",
   "metadata": {},
   "outputs": [
    {
     "data": {
      "text/plain": [
       "(4, 5, 6, 7, 'class', 45, 67, True, 3, 4, 5, 6)"
      ]
     },
     "execution_count": 243,
     "metadata": {},
     "output_type": "execute_result"
    }
   ],
   "source": [
    "t"
   ]
  },
  {
   "cell_type": "code",
   "execution_count": 245,
   "id": "bc670a91-bb02-4047-bd61-ea5e782f82e9",
   "metadata": {},
   "outputs": [],
   "source": [
    "t=(3,4,5,6,7,\"city\")"
   ]
  },
  {
   "cell_type": "code",
   "execution_count": 246,
   "id": "8b7c188c-4183-49a8-8b62-13e1bbe8925e",
   "metadata": {},
   "outputs": [],
   "source": [
    "t2=list(t)"
   ]
  },
  {
   "cell_type": "code",
   "execution_count": 247,
   "id": "444b5790-48a4-4b25-afc7-e90226ebd665",
   "metadata": {},
   "outputs": [
    {
     "data": {
      "text/plain": [
       "[3, 4, 5, 6, 7, 'city']"
      ]
     },
     "execution_count": 247,
     "metadata": {},
     "output_type": "execute_result"
    }
   ],
   "source": [
    "t2"
   ]
  },
  {
   "cell_type": "code",
   "execution_count": 248,
   "id": "a0a4d06f-215c-4ea2-8050-790d55022624",
   "metadata": {},
   "outputs": [
    {
     "data": {
      "text/plain": [
       "(3, 4, 5, 6, 7, 'city')"
      ]
     },
     "execution_count": 248,
     "metadata": {},
     "output_type": "execute_result"
    }
   ],
   "source": [
    "tuple(t2)"
   ]
  },
  {
   "cell_type": "code",
   "execution_count": 249,
   "id": "48764ba3-4020-4f48-9d22-412a0b135b9e",
   "metadata": {},
   "outputs": [
    {
     "data": {
      "text/plain": [
       "\"[3, 4, 5, 6, 7, 'city']\""
      ]
     },
     "execution_count": 249,
     "metadata": {},
     "output_type": "execute_result"
    }
   ],
   "source": [
    "str(t2)"
   ]
  },
  {
   "cell_type": "code",
   "execution_count": 250,
   "id": "8e65fc8f-2907-4dee-8e0c-b51470359f17",
   "metadata": {},
   "outputs": [],
   "source": [
    "d={}"
   ]
  },
  {
   "cell_type": "code",
   "execution_count": 251,
   "id": "bf2b38b2-d5bc-4584-be77-9d29ddf9ff91",
   "metadata": {},
   "outputs": [
    {
     "data": {
      "text/plain": [
       "dict"
      ]
     },
     "execution_count": 251,
     "metadata": {},
     "output_type": "execute_result"
    }
   ],
   "source": [
    "type(d)"
   ]
  },
  {
   "cell_type": "code",
   "execution_count": 252,
   "id": "31f59fb3-b624-4054-9280-af43d3dd5f22",
   "metadata": {},
   "outputs": [],
   "source": [
    "d1={1}"
   ]
  },
  {
   "cell_type": "code",
   "execution_count": 254,
   "id": "1859d989-5ce4-4f7d-9d50-bd55a7fa1f17",
   "metadata": {},
   "outputs": [
    {
     "data": {
      "text/plain": [
       "set"
      ]
     },
     "execution_count": 254,
     "metadata": {},
     "output_type": "execute_result"
    }
   ],
   "source": [
    "type(d1)"
   ]
  },
  {
   "cell_type": "code",
   "execution_count": 260,
   "id": "e8420496-0a67-4cb2-8c67-b0a953b63612",
   "metadata": {},
   "outputs": [],
   "source": [
    "d2={'key1':\"value\",234:\"xyz\",\"name\":\"city\",\"no\":34324345}"
   ]
  },
  {
   "cell_type": "code",
   "execution_count": 261,
   "id": "97852559-d1ea-48b1-ab4c-7411b11d73fd",
   "metadata": {},
   "outputs": [
    {
     "data": {
      "text/plain": [
       "dict"
      ]
     },
     "execution_count": 261,
     "metadata": {},
     "output_type": "execute_result"
    }
   ],
   "source": [
    "type(d2)"
   ]
  },
  {
   "cell_type": "code",
   "execution_count": 262,
   "id": "4c03757f-68a4-49c5-a63a-d828cf2a1efa",
   "metadata": {},
   "outputs": [
    {
     "data": {
      "text/plain": [
       "'city'"
      ]
     },
     "execution_count": 262,
     "metadata": {},
     "output_type": "execute_result"
    }
   ],
   "source": [
    "d2['name']"
   ]
  },
  {
   "cell_type": "code",
   "execution_count": 264,
   "id": "4ff1571c-1bcc-420a-a545-7914e6cefa59",
   "metadata": {},
   "outputs": [
    {
     "data": {
      "text/plain": [
       "34324345"
      ]
     },
     "execution_count": 264,
     "metadata": {},
     "output_type": "execute_result"
    }
   ],
   "source": [
    "d2['no']"
   ]
  },
  {
   "cell_type": "code",
   "execution_count": 265,
   "id": "de4845cc-f260-4ac8-b21e-afdafe3657a7",
   "metadata": {},
   "outputs": [],
   "source": [
    "d3={'name':\"class\",'tech':[\"python\",\"ml\",\"cv\",\"Big Data\",\"data analyis\"]}"
   ]
  },
  {
   "cell_type": "code",
   "execution_count": 266,
   "id": "39c3c407-7d4d-4c42-8e32-75b355c97ad5",
   "metadata": {},
   "outputs": [
    {
     "data": {
      "text/plain": [
       "{'name': 'class', 'tech': ['python', 'ml', 'cv', 'Big Data', 'data analyis']}"
      ]
     },
     "execution_count": 266,
     "metadata": {},
     "output_type": "execute_result"
    }
   ],
   "source": [
    "d3"
   ]
  },
  {
   "cell_type": "code",
   "execution_count": 267,
   "id": "2370ff60-9e60-4a52-80cb-6744aa32b9a9",
   "metadata": {},
   "outputs": [
    {
     "data": {
      "text/plain": [
       "True"
      ]
     },
     "execution_count": 267,
     "metadata": {},
     "output_type": "execute_result"
    }
   ],
   "source": [
    "\"python\" in d3['tech']"
   ]
  },
  {
   "cell_type": "code",
   "execution_count": 271,
   "id": "e10a4483-35a6-4f3e-9bb7-9f6ad6fc97ca",
   "metadata": {},
   "outputs": [],
   "source": [
    "d4={\"name\":\"neuron\",\"contact_info\":345345,\"name\":\"pth\"}"
   ]
  },
  {
   "cell_type": "code",
   "execution_count": 272,
   "id": "1d51eff2-7aec-4a5e-a98e-d8587b3f4300",
   "metadata": {},
   "outputs": [
    {
     "data": {
      "text/plain": [
       "{'name': 'pth', 'contact_info': 345345}"
      ]
     },
     "execution_count": 272,
     "metadata": {},
     "output_type": "execute_result"
    }
   ],
   "source": [
    "d4"
   ]
  },
  {
   "cell_type": "code",
   "execution_count": 273,
   "id": "90dcebf7-28c5-4d2b-a043-1de745bc01b6",
   "metadata": {},
   "outputs": [],
   "source": [
    "d4['k2']=d2"
   ]
  },
  {
   "cell_type": "code",
   "execution_count": 274,
   "id": "67b70c63-c0d2-4b9d-a167-4f96197d1983",
   "metadata": {},
   "outputs": [
    {
     "data": {
      "text/plain": [
       "{'key1': 'value', 234: 'xyz', 'name': 'city', 'no': 34324345}"
      ]
     },
     "execution_count": 274,
     "metadata": {},
     "output_type": "execute_result"
    }
   ],
   "source": [
    "d2"
   ]
  },
  {
   "cell_type": "code",
   "execution_count": 275,
   "id": "e771a457-9014-468c-b3f8-d52418a8b1ba",
   "metadata": {},
   "outputs": [],
   "source": [
    "d4['k2']=d2"
   ]
  },
  {
   "cell_type": "code",
   "execution_count": 276,
   "id": "f3d3e69e-d363-4af7-8e62-dfb87d89c663",
   "metadata": {},
   "outputs": [
    {
     "data": {
      "text/plain": [
       "{'key1': 'value', 234: 'xyz', 'name': 'city', 'no': 34324345}"
      ]
     },
     "execution_count": 276,
     "metadata": {},
     "output_type": "execute_result"
    }
   ],
   "source": [
    "d2"
   ]
  },
  {
   "cell_type": "code",
   "execution_count": 277,
   "id": "0c9706ed-6569-4ae5-8c04-067c02fd7e07",
   "metadata": {},
   "outputs": [
    {
     "data": {
      "text/plain": [
       "{'name': 'pth',\n",
       " 'contact_info': 345345,\n",
       " 'k2': {'key1': 'value', 234: 'xyz', 'name': 'city', 'no': 34324345}}"
      ]
     },
     "execution_count": 277,
     "metadata": {},
     "output_type": "execute_result"
    }
   ],
   "source": [
    "d4"
   ]
  },
  {
   "cell_type": "code",
   "execution_count": 279,
   "id": "4c29ee60-d480-48a9-b96f-c3d6a7cd0eb6",
   "metadata": {},
   "outputs": [
    {
     "data": {
      "text/plain": [
       "34324345"
      ]
     },
     "execution_count": 279,
     "metadata": {},
     "output_type": "execute_result"
    }
   ],
   "source": [
    "d4['k2'][\"no\"]"
   ]
  },
  {
   "cell_type": "code",
   "execution_count": 280,
   "id": "3d31e29c-5f81-41b4-aae4-3e25c1681329",
   "metadata": {},
   "outputs": [],
   "source": [
    "d5={_:\"sdfsd\"}"
   ]
  },
  {
   "cell_type": "code",
   "execution_count": 282,
   "id": "02c33deb-05d3-4a89-9f26-ed27e2cabd00",
   "metadata": {},
   "outputs": [
    {
     "data": {
      "text/plain": [
       "'sdfsd'"
      ]
     },
     "execution_count": 282,
     "metadata": {},
     "output_type": "execute_result"
    }
   ],
   "source": [
    "d5[_]"
   ]
  },
  {
   "cell_type": "code",
   "execution_count": 283,
   "id": "0e9e5f52-11f0-4a0c-9cfe-b10681aeb6b8",
   "metadata": {},
   "outputs": [],
   "source": [
    "d6={(1,2,34):\"fsdfs\"}"
   ]
  },
  {
   "cell_type": "code",
   "execution_count": 288,
   "id": "22b2d4a9-7853-4469-a086-8a66c9bee852",
   "metadata": {},
   "outputs": [
    {
     "data": {
      "text/plain": [
       "{(1, 2, 34): 'fsdfs'}"
      ]
     },
     "execution_count": 288,
     "metadata": {},
     "output_type": "execute_result"
    }
   ],
   "source": [
    "d6"
   ]
  },
  {
   "cell_type": "code",
   "execution_count": 289,
   "id": "cebb757f-c102-4734-95e0-31eb9851157b",
   "metadata": {},
   "outputs": [
    {
     "ename": "TypeError",
     "evalue": "unhashable type: 'list'",
     "output_type": "error",
     "traceback": [
      "\u001b[1;31m---------------------------------------------------------------------------\u001b[0m",
      "\u001b[1;31mTypeError\u001b[0m                                 Traceback (most recent call last)",
      "Cell \u001b[1;32mIn[289], line 1\u001b[0m\n\u001b[1;32m----> 1\u001b[0m d7\u001b[38;5;241m=\u001b[39m{[\u001b[38;5;241m1\u001b[39m,\u001b[38;5;241m2\u001b[39m,\u001b[38;5;241m3\u001b[39m,\u001b[38;5;241m4\u001b[39m]:\u001b[38;5;124m\"\u001b[39m\u001b[38;5;124mefwwrthtj\u001b[39m\u001b[38;5;124m\"\u001b[39m}\n",
      "\u001b[1;31mTypeError\u001b[0m: unhashable type: 'list'"
     ]
    }
   ],
   "source": [
    "d7={[1,2,3,4]:\"efwwrthtj\"}"
   ]
  },
  {
   "cell_type": "code",
   "execution_count": 291,
   "id": "1d002a1b-02a1-4918-aa4e-0668697a4a47",
   "metadata": {},
   "outputs": [
    {
     "ename": "TypeError",
     "evalue": "unhashable type: 'dict'",
     "output_type": "error",
     "traceback": [
      "\u001b[1;31m---------------------------------------------------------------------------\u001b[0m",
      "\u001b[1;31mTypeError\u001b[0m                                 Traceback (most recent call last)",
      "Cell \u001b[1;32mIn[291], line 1\u001b[0m\n\u001b[1;32m----> 1\u001b[0m d8\u001b[38;5;241m=\u001b[39m{{\u001b[38;5;241m3\u001b[39m:\u001b[38;5;241m4\u001b[39m}:\u001b[38;5;124m\"\u001b[39m\u001b[38;5;124mdfnjn\u001b[39m\u001b[38;5;124m\"\u001b[39m}\n",
      "\u001b[1;31mTypeError\u001b[0m: unhashable type: 'dict'"
     ]
    }
   ],
   "source": [
    "d8={{3:4}:\"dfnjn\"}"
   ]
  },
  {
   "cell_type": "code",
   "execution_count": 292,
   "id": "8aa48090-12af-47bf-8eb6-e0d1faea1240",
   "metadata": {},
   "outputs": [
    {
     "data": {
      "text/plain": [
       "{'key1': 'value', 234: 'xyz', 'name': 'city', 'no': 34324345}"
      ]
     },
     "execution_count": 292,
     "metadata": {},
     "output_type": "execute_result"
    }
   ],
   "source": [
    "d2"
   ]
  },
  {
   "cell_type": "code",
   "execution_count": 293,
   "id": "d2524e1c-b05b-4904-9469-75df4b679b71",
   "metadata": {},
   "outputs": [
    {
     "data": {
      "text/plain": [
       "{'name': 'class', 'tech': ['python', 'ml', 'cv', 'Big Data', 'data analyis']}"
      ]
     },
     "execution_count": 293,
     "metadata": {},
     "output_type": "execute_result"
    }
   ],
   "source": [
    "d3"
   ]
  },
  {
   "cell_type": "code",
   "execution_count": 294,
   "id": "b4ef8e1a-7fae-4a70-8757-340ec96ba0dd",
   "metadata": {},
   "outputs": [
    {
     "ename": "TypeError",
     "evalue": "unsupported operand type(s) for +: 'dict' and 'dict'",
     "output_type": "error",
     "traceback": [
      "\u001b[1;31m---------------------------------------------------------------------------\u001b[0m",
      "\u001b[1;31mTypeError\u001b[0m                                 Traceback (most recent call last)",
      "Cell \u001b[1;32mIn[294], line 1\u001b[0m\n\u001b[1;32m----> 1\u001b[0m d2\u001b[38;5;241m+\u001b[39md3\n",
      "\u001b[1;31mTypeError\u001b[0m: unsupported operand type(s) for +: 'dict' and 'dict'"
     ]
    }
   ],
   "source": [
    "d2+d3"
   ]
  },
  {
   "cell_type": "code",
   "execution_count": 295,
   "id": "859c67b7-978a-42f5-b2d4-e68b62733ad6",
   "metadata": {},
   "outputs": [
    {
     "data": {
      "text/plain": [
       "{'key1': 'value', 234: 'xyz', 'name': 'city', 'no': 34324345}"
      ]
     },
     "execution_count": 295,
     "metadata": {},
     "output_type": "execute_result"
    }
   ],
   "source": [
    "d2"
   ]
  },
  {
   "cell_type": "code",
   "execution_count": 296,
   "id": "141514b5-be1a-494c-80cc-e3f8fb0338e0",
   "metadata": {},
   "outputs": [
    {
     "data": {
      "text/plain": [
       "dict_keys(['key1', 234, 'name', 'no'])"
      ]
     },
     "execution_count": 296,
     "metadata": {},
     "output_type": "execute_result"
    }
   ],
   "source": [
    "d2.keys()"
   ]
  },
  {
   "cell_type": "code",
   "execution_count": 297,
   "id": "9bdbe63c-388e-46b8-81b6-94b2a53ca6d1",
   "metadata": {},
   "outputs": [
    {
     "data": {
      "text/plain": [
       "dict_values(['value', 'xyz', 'city', 34324345])"
      ]
     },
     "execution_count": 297,
     "metadata": {},
     "output_type": "execute_result"
    }
   ],
   "source": [
    "d2.values()"
   ]
  },
  {
   "cell_type": "code",
   "execution_count": 298,
   "id": "166cff00-fb45-4082-993b-d458b6a58fca",
   "metadata": {},
   "outputs": [
    {
     "data": {
      "text/plain": [
       "dict_items([('key1', 'value'), (234, 'xyz'), ('name', 'city'), ('no', 34324345)])"
      ]
     },
     "execution_count": 298,
     "metadata": {},
     "output_type": "execute_result"
    }
   ],
   "source": [
    "d2.items()"
   ]
  },
  {
   "cell_type": "code",
   "execution_count": 299,
   "id": "17cb476e-c895-4937-bfe3-4742f3bf0840",
   "metadata": {},
   "outputs": [],
   "source": [
    "s={3,4,5,6,7,8,8,}"
   ]
  },
  {
   "cell_type": "code",
   "execution_count": 300,
   "id": "78085c40-4500-46f2-a82f-6e5a6b6869aa",
   "metadata": {},
   "outputs": [
    {
     "data": {
      "text/plain": [
       "set"
      ]
     },
     "execution_count": 300,
     "metadata": {},
     "output_type": "execute_result"
    }
   ],
   "source": [
    "type(s)"
   ]
  },
  {
   "cell_type": "code",
   "execution_count": 301,
   "id": "7edc694e-6b0b-4bce-a74c-fd0181ab2dee",
   "metadata": {},
   "outputs": [],
   "source": [
    "s1={3,4,5,6,5,4,3,34,5,6,4,3,5,67,78,8,0,00,}"
   ]
  },
  {
   "cell_type": "code",
   "execution_count": 302,
   "id": "4b861381-71d7-4bb7-bf3b-f9b5dbf10a3c",
   "metadata": {},
   "outputs": [
    {
     "data": {
      "text/plain": [
       "{0, 3, 4, 5, 6, 8, 34, 67, 78}"
      ]
     },
     "execution_count": 302,
     "metadata": {},
     "output_type": "execute_result"
    }
   ],
   "source": [
    "s1"
   ]
  },
  {
   "cell_type": "code",
   "execution_count": 303,
   "id": "7bcdf592-09f0-4d84-8a63-ed033df5db2f",
   "metadata": {},
   "outputs": [],
   "source": [
    "s2={4324,5435,676,76576,54654,45345,}"
   ]
  },
  {
   "cell_type": "code",
   "execution_count": 304,
   "id": "6a37eead-5bc5-444b-b52d-0f15502fd54e",
   "metadata": {},
   "outputs": [
    {
     "data": {
      "text/plain": [
       "{676, 4324, 5435, 45345, 54654, 76576}"
      ]
     },
     "execution_count": 304,
     "metadata": {},
     "output_type": "execute_result"
    }
   ],
   "source": [
    "s2"
   ]
  },
  {
   "cell_type": "code",
   "execution_count": 308,
   "id": "55d43cfa-2efa-4766-9b5d-e6e8c3447ac1",
   "metadata": {},
   "outputs": [],
   "source": [
    "s3={\"pyth\",355,466,546,546,5,'b','6'}"
   ]
  },
  {
   "cell_type": "code",
   "execution_count": 309,
   "id": "fc227c1a-8538-4025-b872-cf58aa684b38",
   "metadata": {},
   "outputs": [
    {
     "data": {
      "text/plain": [
       "{355, 466, 5, 546, '6', 'b', 'pyth'}"
      ]
     },
     "execution_count": 309,
     "metadata": {},
     "output_type": "execute_result"
    }
   ],
   "source": [
    "s3"
   ]
  },
  {
   "cell_type": "code",
   "execution_count": 310,
   "id": "2296a3d2-3870-4989-b1d9-eb3451ebe730",
   "metadata": {},
   "outputs": [
    {
     "ename": "TypeError",
     "evalue": "'set' object is not subscriptable",
     "output_type": "error",
     "traceback": [
      "\u001b[1;31m---------------------------------------------------------------------------\u001b[0m",
      "\u001b[1;31mTypeError\u001b[0m                                 Traceback (most recent call last)",
      "Cell \u001b[1;32mIn[310], line 1\u001b[0m\n\u001b[1;32m----> 1\u001b[0m s3[\u001b[38;5;241m0\u001b[39m]\n",
      "\u001b[1;31mTypeError\u001b[0m: 'set' object is not subscriptable"
     ]
    }
   ],
   "source": [
    "s3[0]"
   ]
  },
  {
   "cell_type": "code",
   "execution_count": 311,
   "id": "9e08c185-34ae-40f9-8713-daf2677beca7",
   "metadata": {},
   "outputs": [
    {
     "data": {
      "text/plain": [
       "[546, 355, 466, 5, '6', 'pyth', 'b']"
      ]
     },
     "execution_count": 311,
     "metadata": {},
     "output_type": "execute_result"
    }
   ],
   "source": [
    "list(s3)"
   ]
  },
  {
   "cell_type": "code",
   "execution_count": 312,
   "id": "7e5aca81-fc0e-453e-95fb-8e97e8e584de",
   "metadata": {},
   "outputs": [
    {
     "data": {
      "text/plain": [
       "(546, 355, 466, 5, '6', 'pyth', 'b')"
      ]
     },
     "execution_count": 312,
     "metadata": {},
     "output_type": "execute_result"
    }
   ],
   "source": [
    "tuple(s3)"
   ]
  },
  {
   "cell_type": "code",
   "execution_count": 313,
   "id": "51f0b912-2523-4a8c-a811-fcfd644a6a57",
   "metadata": {},
   "outputs": [],
   "source": [
    "l=list(set(l))"
   ]
  },
  {
   "cell_type": "code",
   "execution_count": 314,
   "id": "ad0ff344-af7c-441a-b48d-dc7d5914a0cc",
   "metadata": {},
   "outputs": [
    {
     "data": {
      "text/plain": [
       "[1, 2, 4, 5, 6, 7, 8, 'python']"
      ]
     },
     "execution_count": 314,
     "metadata": {},
     "output_type": "execute_result"
    }
   ],
   "source": [
    "l"
   ]
  },
  {
   "cell_type": "code",
   "execution_count": 317,
   "id": "130532d5-6d3d-4135-89a6-56659313df78",
   "metadata": {},
   "outputs": [
    {
     "ename": "NameError",
     "evalue": "name 'S2' is not defined",
     "output_type": "error",
     "traceback": [
      "\u001b[1;31m---------------------------------------------------------------------------\u001b[0m",
      "\u001b[1;31mNameError\u001b[0m                                 Traceback (most recent call last)",
      "Cell \u001b[1;32mIn[317], line 1\u001b[0m\n\u001b[1;32m----> 1\u001b[0m S2\u001b[38;5;241m.\u001b[39madd([\u001b[38;5;241m1\u001b[39m,\u001b[38;5;241m2\u001b[39m,\u001b[38;5;241m3\u001b[39m,\u001b[38;5;241m4\u001b[39m,\u001b[38;5;241m5\u001b[39m])\n",
      "\u001b[1;31mNameError\u001b[0m: name 'S2' is not defined"
     ]
    }
   ],
   "source": [
    "S2.add([1,2,3,4,5])"
   ]
  },
  {
   "cell_type": "code",
   "execution_count": 315,
   "id": "46cfc96c-24f4-4785-a189-93f811a6142c",
   "metadata": {},
   "outputs": [
    {
     "data": {
      "text/plain": [
       "{676, 4324, 5435, 45345, 54654, 76576}"
      ]
     },
     "execution_count": 315,
     "metadata": {},
     "output_type": "execute_result"
    }
   ],
   "source": [
    "s2\n"
   ]
  },
  {
   "cell_type": "code",
   "execution_count": 318,
   "id": "cbc0600e-a820-4901-b5c2-1d0c3bcc7989",
   "metadata": {},
   "outputs": [],
   "source": [
    "s={(1,2,3,4,5,5),3,4,45,66,7}"
   ]
  },
  {
   "cell_type": "code",
   "execution_count": 319,
   "id": "450001f6-2700-458f-9e08-0ab81f80f407",
   "metadata": {},
   "outputs": [
    {
     "data": {
      "text/plain": [
       "{(1, 2, 3, 4, 5, 5), 3, 4, 45, 66, 7}"
      ]
     },
     "execution_count": 319,
     "metadata": {},
     "output_type": "execute_result"
    }
   ],
   "source": [
    "s"
   ]
  },
  {
   "cell_type": "code",
   "execution_count": 320,
   "id": "750f17ea-9e22-40f7-ad8f-da55a9df430a",
   "metadata": {},
   "outputs": [
    {
     "ename": "TypeError",
     "evalue": "unhashable type: 'list'",
     "output_type": "error",
     "traceback": [
      "\u001b[1;31m---------------------------------------------------------------------------\u001b[0m",
      "\u001b[1;31mTypeError\u001b[0m                                 Traceback (most recent call last)",
      "Cell \u001b[1;32mIn[320], line 1\u001b[0m\n\u001b[1;32m----> 1\u001b[0m s1\u001b[38;5;241m=\u001b[39m{[\u001b[38;5;241m1\u001b[39m,\u001b[38;5;241m2\u001b[39m,\u001b[38;5;241m3\u001b[39m,\u001b[38;5;241m4\u001b[39m],\u001b[38;5;241m345\u001b[39m,\u001b[38;5;241m345\u001b[39m}\n",
      "\u001b[1;31mTypeError\u001b[0m: unhashable type: 'list'"
     ]
    }
   ],
   "source": [
    "s1={[1,2,3,4],345,345}"
   ]
  },
  {
   "cell_type": "code",
   "execution_count": 321,
   "id": "24f71c31-b129-4cf0-bed6-034953872a07",
   "metadata": {},
   "outputs": [],
   "source": [
    "s.remove(66)"
   ]
  },
  {
   "cell_type": "code",
   "execution_count": 322,
   "id": "a961c18a-065b-41e2-9f61-5d6281269c5a",
   "metadata": {},
   "outputs": [
    {
     "data": {
      "text/plain": [
       "3"
      ]
     },
     "execution_count": 322,
     "metadata": {},
     "output_type": "execute_result"
    }
   ],
   "source": [
    "s.pop()"
   ]
  },
  {
   "cell_type": "code",
   "execution_count": 323,
   "id": "c5cd3057-db01-46ac-a26d-06e8aa19f64e",
   "metadata": {},
   "outputs": [
    {
     "data": {
      "text/plain": [
       "{(1, 2, 3, 4, 5, 5), 4, 45, 7}"
      ]
     },
     "execution_count": 323,
     "metadata": {},
     "output_type": "execute_result"
    }
   ],
   "source": [
    "s"
   ]
  },
  {
   "cell_type": "code",
   "execution_count": 324,
   "id": "ca03c91f-8196-45d6-8973-bd9cd17e6c81",
   "metadata": {},
   "outputs": [
    {
     "data": {
      "text/plain": [
       "set"
      ]
     },
     "execution_count": 324,
     "metadata": {},
     "output_type": "execute_result"
    }
   ],
   "source": [
    "type(s)"
   ]
  },
  {
   "cell_type": "code",
   "execution_count": 325,
   "id": "0d3321b3-ce4b-4894-85d9-bae4c898f7fe",
   "metadata": {},
   "outputs": [],
   "source": [
    "l=list(s)"
   ]
  },
  {
   "cell_type": "code",
   "execution_count": 326,
   "id": "6ec54d2a-381d-412f-8fc9-e212a9a73237",
   "metadata": {},
   "outputs": [
    {
     "data": {
      "text/plain": [
       "{(1, 2, 3, 4, 5, 5), 4, 45, 7}"
      ]
     },
     "execution_count": 326,
     "metadata": {},
     "output_type": "execute_result"
    }
   ],
   "source": [
    "set(l)"
   ]
  },
  {
   "cell_type": "code",
   "execution_count": 327,
   "id": "3d8e9c72-f1b8-4d73-a798-0bed3c4a5cd1",
   "metadata": {},
   "outputs": [
    {
     "name": "stdout",
     "output_type": "stream",
     "text": [
      "{'name': 'rupe', 'contact_info': 34345, 'loc': 'Caalgary', 'check': {...}}\n",
      "dict_keys(['name', 'contact_info', 'loc', 'check'])\n",
      "dict_items([('name', 'rupe'), ('contact_info', 34345), ('loc', 'Caalgary'), ('check', {'name': 'rupe', 'contact_info': 34345, 'loc': 'Caalgary', 'check': {...}})])\n",
      "<class 'dict_keys'>\n",
      "<class 'dict_keys'>\n"
     ]
    }
   ],
   "source": [
    "d4={\"name\":\"Neuron\",\"contact_info\":34345,\"name\":\"rupe\"}\n",
    "d4['loc']='Caalgary'\n",
    "d4['check']=d4\n",
    "    \n",
    "print(d4['check'])\n",
    "\n",
    "print(d4.keys())\n",
    "print(d4.items())\n",
    "print(type(d4.keys()))\n",
    "print(type(d4.keys()))\n",
    "### SIGNATURE ########\n",
    "n=[4,5,7,9,2,3,4,5,2,1,9,6,7,0]\n",
    "n.pop()\n",
    "n.sort()"
   ]
  },
  {
   "cell_type": "markdown",
   "id": "4d7cab05-7f74-4792-b7ef-9600655879cf",
   "metadata": {},
   "source": [
    "# question\n"
   ]
  },
  {
   "cell_type": "code",
   "execution_count": 329,
   "id": "881a6f8e-3f2b-489a-a89d-dab07ad7bd82",
   "metadata": {},
   "outputs": [],
   "source": [
    "l= [3,4,5,6,7, [23,456,67,8,78,78].[345,56,87,8,98,9],(234,6657,6),{\"key1\":\"Python\",234:[23,45,656]}]\n",
    "#(1.) try to reverse a list\n",
    "#(2.)try to access 234 out of this list\n",
    "#(3.)try to access 456\n",
    "#(4) try to extract only a list collection from list l\n",
    "#(5) Try to extrect \"python\"\n",
    "#(6)try to list all the key in dict element available in list \n",
    "#(7) try to extract all the value element from dict available in list \n",
    "\n",
    "                                                                    "
   ]
  },
  {
   "cell_type": "code",
   "execution_count": 331,
   "id": "290883f5-7f5b-4c8f-9cb6-f473be04d9fb",
   "metadata": {},
   "outputs": [],
   "source": [
    "l= [3,4,5,6,7, [23,456,67,8,78,78],[345,56,87,8,98,9],(234,6657,6),{\"key1\":\"Python\",234:[23,45,656]}]"
   ]
  },
  {
   "cell_type": "code",
   "execution_count": 334,
   "id": "89cef547-3f89-43ff-a7fb-37b7861855f3",
   "metadata": {},
   "outputs": [],
   "source": [
    "l = l[::-1]\n"
   ]
  },
  {
   "cell_type": "code",
   "execution_count": 335,
   "id": "ba995474-20fe-4889-b99b-6edeec5935e4",
   "metadata": {},
   "outputs": [
    {
     "data": {
      "text/plain": [
       "[3,\n",
       " 4,\n",
       " 5,\n",
       " 6,\n",
       " 7,\n",
       " [23, 456, 67, 8, 78, 78],\n",
       " [345, 56, 87, 8, 98, 9],\n",
       " (234, 6657, 6),\n",
       " {'key1': 'Python', 234: [23, 45, 656]}]"
      ]
     },
     "execution_count": 335,
     "metadata": {},
     "output_type": "execute_result"
    }
   ],
   "source": [
    "l"
   ]
  },
  {
   "cell_type": "code",
   "execution_count": 336,
   "id": "f3e0acee-a50a-4859-b2d0-2cbaab375e68",
   "metadata": {},
   "outputs": [
    {
     "data": {
      "text/plain": [
       "234"
      ]
     },
     "execution_count": 336,
     "metadata": {},
     "output_type": "execute_result"
    }
   ],
   "source": [
    "l[7][0]\n"
   ]
  },
  {
   "cell_type": "code",
   "execution_count": 337,
   "id": "805bfe23-ca4a-4398-b341-cada4a86e733",
   "metadata": {},
   "outputs": [
    {
     "data": {
      "text/plain": [
       "456"
      ]
     },
     "execution_count": 337,
     "metadata": {},
     "output_type": "execute_result"
    }
   ],
   "source": [
    "l[5][1]\n"
   ]
  },
  {
   "cell_type": "code",
   "execution_count": 338,
   "id": "669f014c-10c9-4634-aeff-fcef90101b8a",
   "metadata": {},
   "outputs": [
    {
     "name": "stdout",
     "output_type": "stream",
     "text": [
      "[[23, 456, 67, 8, 78, 78], [345, 56, 87, 8, 98, 9]]\n"
     ]
    }
   ],
   "source": [
    "list_collections = [i for i in l if isinstance(i, list)]\n",
    "print(list_collections)\n"
   ]
  },
  {
   "cell_type": "code",
   "execution_count": 339,
   "id": "d4512816-e2d4-41cf-aa15-81207d664430",
   "metadata": {},
   "outputs": [
    {
     "data": {
      "text/plain": [
       "'Python'"
      ]
     },
     "execution_count": 339,
     "metadata": {},
     "output_type": "execute_result"
    }
   ],
   "source": [
    "l[8][\"key1\"]\n"
   ]
  },
  {
   "cell_type": "code",
   "execution_count": 340,
   "id": "46f2de0f-c150-40d9-930f-dca4e746ff70",
   "metadata": {},
   "outputs": [
    {
     "name": "stdout",
     "output_type": "stream",
     "text": [
      "['key1', 234]\n"
     ]
    }
   ],
   "source": [
    "dict_keys = list(l[8].keys())\n",
    "print(dict_keys)\n"
   ]
  },
  {
   "cell_type": "code",
   "execution_count": 341,
   "id": "f6b8daaa-298e-4c75-87e8-3fdac381ef79",
   "metadata": {},
   "outputs": [
    {
     "name": "stdout",
     "output_type": "stream",
     "text": [
      "['Python', [23, 45, 656]]\n"
     ]
    }
   ],
   "source": [
    "dict_values = list(l[8].values())\n",
    "print(dict_values)\n"
   ]
  },
  {
   "cell_type": "markdown",
   "id": "212a6aef-5a09-4f12-a6ce-5b15b8f1d9b8",
   "metadata": {},
   "source": [
    "## Day 3"
   ]
  },
  {
   "cell_type": "code",
   "execution_count": null,
   "id": "83ad3068-c0bf-4f82-b7d3-e2b239b999a1",
   "metadata": {},
   "outputs": [],
   "source": []
  }
 ],
 "metadata": {
  "kernelspec": {
   "display_name": "Python 3 (ipykernel)",
   "language": "python",
   "name": "python3"
  },
  "language_info": {
   "codemirror_mode": {
    "name": "ipython",
    "version": 3
   },
   "file_extension": ".py",
   "mimetype": "text/x-python",
   "name": "python",
   "nbconvert_exporter": "python",
   "pygments_lexer": "ipython3",
   "version": "3.11.7"
  }
 },
 "nbformat": 4,
 "nbformat_minor": 5
}
